{
 "cells": [
  {
   "cell_type": "markdown",
   "metadata": {},
   "source": [
    "# Analisis del enunciado de la tarea 1\n",
    "\n",
    "## 2. Red de metro\n",
    "### 2.1 Rutas más largas\n",
    "\n",
    "Vamos a utilizar una forma de listas de listas, para entender la red de metro a trabajar.\n",
    "\n",
    "Donde cada \"matriz\" sera de n x n, donde las filas representan los tuneles por donde puede `salir`\n",
    "y las columnas representan los tuneles por donde puede `entrar`.\n",
    "\n",
    "#### Matrices elevadas\n",
    "\n",
    "Al elevar una matriz vamos a ir encontrando los caminos posibles  para llegar a una estacion, donde la `potencia` de la matriz indica los `tuneles` que se pueden recorrer y el numero de la casilla representa la cantidad de `caminos`.\n",
    "\n",
    "Una matriz siempre se representa como:\n",
    "```python\n",
    "         A  B  C  D  E\n",
    "A = [ A [0, 1, 0, 0, 0],\n",
    "      B [0, 0, 1, 0, 0],\n",
    "      C [0, 0, 0, 1, 0],\n",
    "      D [0, 0, 0, 0, 1],\n",
    "      E [1, 0, 0, 0, 0] ]\n",
    "```\n",
    "\n",
    "Donde las filas representan desde que estacion voy a salir y las columnas representan a que estacion voy a llegar.\n",
    "\n",
    "## Flujo del programa\n",
    "\n",
    "### Parte 1\n",
    "\n",
    "Objetivo: Tengo que completar un archivo con la clase `RedMetro`, esta me permitira: `abrir, analizar y responder` consultas de DCCiudad.\n",
    "\n",
    "### Parte 2\n",
    "\n",
    "Objetivo: Confeccionar un menu por consola que permita interactuar con una red de metro de DCCiudad.\n",
    "\n"
   ]
  }
 ],
 "metadata": {
  "language_info": {
   "name": "python"
  }
 },
 "nbformat": 4,
 "nbformat_minor": 2
}
