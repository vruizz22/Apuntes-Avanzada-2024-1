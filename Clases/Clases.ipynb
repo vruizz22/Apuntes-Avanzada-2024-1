{
 "cells": [
  {
   "cell_type": "markdown",
   "metadata": {},
   "source": [
    "# Clase 1\n",
    "\n",
    "## Paths\n",
    "\n",
    "Las rutas depenen del sistema operativo que se esté utilizando. En el caso de Windows, las rutas se escriben con barras invertidas, mientras que en Linux y Mac se utilizan barras normales. Para evitar problemas, se puede utilizar la función `os.path.join` que se encarga de unir las partes de una ruta.\n",
    "\n",
    "```python\n",
    "form os import path\n",
    "\n",
    "path = path.join('carpeta', 'archivo.txt')\n",
    "print(path) # carpeta\\archivo.txt en Windows, carpeta/archivo.txt en Linux y Mac\n",
    "```\n",
    "Tambien se puede usar el modulo `pathlib` que es más moderno y más fácil de usar.\n",
    "\n",
    "```python\n",
    "from pathlib import Path\n",
    "\n",
    "path = Path('carpeta', 'archivo.txt')\n",
    "print(path) # carpeta\\archivo.txt en Windows, carpeta/archivo.txt en Linux y Mac\n",
    "```\n",
    "\n",
    "## Modulos\n",
    "\n",
    "Los módulos son archivos que contienen código de Python. Se pueden importar para utilizar las funciones y clases que contienen. El modulo principal se denomina `__main__`. Cuando se ejecuta un archivo de Python, el interprete asigna el nombre `__main__` al archivo que se está ejecutando. Si hacemos print(__name__) en un archivo que se está ejecutando, se imprimirá `__main__`. Si el archivo se importa desde otro archivo, el nombre que se imprimirá será el nombre del archivo. Por ejemplo, si tenemos un archivo llamado `archivo.py` y en otro archivo importamos `archivo.py` y hacemos print(__name__), se imprimirá `archivo`.\n",
    "\n",
    "```python\n",
    "# __main__.py\n",
    "print(__name__) # __main__\n",
    "```\n",
    "```python\n",
    "# archivo.py\n",
    "print(__name__) # archivo\n",
    "```\n",
    "\n",
    "## Terminal\n",
    "\n",
    "La terminal es una interfaz de texto que permite ejecutar comandos. En Windows se utiliza el `cmd` y en Linux y Mac se utiliza `bash`. En la terminal se pueden ejecutar comandos de Python. Para ejecutar un archivo de Python se utiliza el comando `python nombre.py`. Si se quiere ejecutar un archivo de Python que se encuentra en una carpeta, se puede utilizar el comando `python carpeta\\nombre.py` en Windows y `python carpeta/nombre.py` en Linux y Mac.\n",
    "\n",
    "### Comandos de terminal importantes (moverse entre carpetas)\n",
    "\n",
    "Los más importantes para el curso son: pwd, dir o ls, cd, mkdir, echo o touch y python. \n",
    "\n",
    "- `cd` (change directory): Permite cambiar de carpeta. Se puede utilizar `cd ..` para subir un nivel y `cd nombre` para entrar a una carpeta.\n",
    "- `dir` (directory): Muestra los archivos y carpetas que se encuentran en la carpeta actual.\n",
    "- `ls` (list): Muestra los archivos y carpetas que se encuentran en la carpeta actual.\n",
    "- `pwd` (print working directory): Muestra la ruta de la carpeta actual.\n",
    "- `mkdir` (make directory): Crea una carpeta.\n",
    "- `echo` o `touch`: Crea un archivo.\n",
    "- `python`: Ejecuta un archivo de Python.\n"
   ]
  },
  {
   "cell_type": "markdown",
   "metadata": {},
   "source": []
  }
 ],
 "metadata": {
  "language_info": {
   "name": "python"
  }
 },
 "nbformat": 4,
 "nbformat_minor": 2
}
