{
 "cells": [
  {
   "cell_type": "markdown",
   "metadata": {},
   "source": [
    "# Clase 1\n",
    "\n",
    "## Paths\n",
    "\n",
    "Las rutas depenen del sistema operativo que se esté utilizando. En el caso de Windows, las rutas se escriben con barras invertidas, mientras que en Linux y Mac se utilizan barras normales. Para evitar problemas, se puede utilizar la función `os.path.join` que se encarga de unir las partes de una ruta.\n",
    "\n",
    "```python\n",
    "form os import path\n",
    "\n",
    "path = path.join('carpeta', 'archivo.txt')\n",
    "print(path) # carpeta\\archivo.txt en Windows, carpeta/archivo.txt en Linux y Mac\n",
    "```\n",
    "Tambien se puede usar el modulo `pathlib` que es más moderno y más fácil de usar.\n",
    "\n",
    "```python\n",
    "from pathlib import Path\n",
    "\n",
    "path = Path('carpeta', 'archivo.txt')\n",
    "print(path) # carpeta\\archivo.txt en Windows, carpeta/archivo.txt en Linux y Mac\n",
    "```\n",
    "\n"
   ]
  }
 ],
 "metadata": {
  "language_info": {
   "name": "python"
  }
 },
 "nbformat": 4,
 "nbformat_minor": 2
}
