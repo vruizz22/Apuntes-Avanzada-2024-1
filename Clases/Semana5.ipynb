{
 "cells": [
  {
   "cell_type": "markdown",
   "metadata": {},
   "source": [
    "# Semana 5"
   ]
  },
  {
   "cell_type": "markdown",
   "metadata": {},
   "source": [
    "## Threading"
   ]
  },
  {
   "cell_type": "markdown",
   "metadata": {},
   "source": [
    "### Introducción\n",
    "\n",
    "En esta semana, vamos a aprender sobre threading en Python. Threading es una técnica que permite a un programa realizar múltiples tareas simultáneamente. En Python, el módulo `threading` proporciona una forma sencilla de crear y administrar hilos."
   ]
  }
 ],
 "metadata": {
  "language_info": {
   "name": "python"
  }
 },
 "nbformat": 4,
 "nbformat_minor": 2
}
