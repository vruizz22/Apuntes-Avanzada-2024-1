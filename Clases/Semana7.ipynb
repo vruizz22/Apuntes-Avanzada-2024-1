{
 "cells": [
  {
   "cell_type": "markdown",
   "metadata": {},
   "source": [
    "# Semana 7\n",
    "\n",
    "## Interfaces Gráficas\n",
    "\n",
    "Las arquitecturas modernas usan interfaces basadas en manejos de **Eventos**.\n",
    "Un modo más costoso para el sistema sería usar el **polling** que consiste ene estar constantemente revisando si hay cambios en los elementos de la interfaz.\n",
    "\n",
    "\n",
    "Utilizaremos un framwork de GUI en específico en este caso PyQt6, que es una librería de Python que nos permite crear interfaces gráficas de usuario.\n",
    "\n",
    "## PyQt6\n",
    "\n",
    "Contiene varias funcionalidades:\n",
    "\n",
    "Teniendo todo al inicio la palabra `Qt`.\n",
    "\n",
    "- **Widgets**: Elementos de la interfaz gráfica clásicos de desktops.\n",
    "- **Core**: Inulye funcioanlidades `non-GUI` como el manejo de archivos, red, threads, ciclo de eventos, etc.\n",
    "- **Gui**: Contiene clases para manejar gráficos, imágenes, fuentes, etc.\n",
    "- **Network**: Contiene clases para manejar conexiones de red, creando apliaciones GUI en entornos de red Basadas en TCP/IP, UDP.\n",
    "- **OpenGL**: Contiene clases para manejar gráficos 3D.\n",
    "- **Svg**: Contiene clases para manejar imágenes SVG.\n",
    "- **Sql**: Contiene clases para manejar bases de datos SQL.\n",
    "- **Bluetooth**: Contiene clases para manejar conexiones Bluetooth.\n",
    "Documentación: https://www.riverbankcomputing.com/static/Docs/PyQt6/introduction.html#pyqt6-components\n",
    "\n",
    "## Creación de una ventana\n",
    "\n",
    "En PyQt los elemenots basicos son los **Widgets** que son los elementos de la interfaz gráfica.\n",
    "\n",
    "Para crear una ventana usamos la clase QWidget del modulo QtWidgets en PyQt6.\n",
    "Necesitamos contener nuestra ventana en una app, porlo que usamos la clase QApplication del modulo QtWidgets en PyQt6.\n",
    "\n",
    "La clase QApp maneja el main loop, que entre varias cosas, crea las acciones para inicializar y cerrar los widgets de la app.\n",
    "\n",
    "La clase QApp debe ser la primera en ser instanciada y la última en ser destruida.\n",
    "\n",
    "Por cada app que use PyQt existe una **sola instancia** de QApplication.\n"
   ]
  }
 ],
 "metadata": {
  "language_info": {
   "name": "python"
  }
 },
 "nbformat": 4,
 "nbformat_minor": 2
}
