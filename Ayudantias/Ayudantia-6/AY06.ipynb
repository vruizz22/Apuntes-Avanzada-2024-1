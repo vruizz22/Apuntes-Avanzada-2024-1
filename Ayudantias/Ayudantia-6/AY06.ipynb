{
 "cells": [
  {
   "cell_type": "markdown",
   "metadata": {
    "id": "_VhrKGZeuByg"
   },
   "source": [
    "## Ayudantía 6: Programación funcional ➡️🗺️\n",
    "\n",
    "### Ayudantes 👾\n",
    "- Sección 1: [Julián García](https://github.com/JJJGGGG)\n",
    "- Sección 2: [Clemente Campos](https://github.com/mskdancers)\n",
    "- Sección 3: [Diego Toledo](https://github.com/diegoftpxd)\n",
    "- Sección 4: [Julio Huerta](https://github.com/Julius9)\n",
    "- Sección 5: [Carlos Olguín](https://github.com/CarlangaUC)\n",
    "\n",
    "# Listas ligadas\n",
    "Las listas ligadas son estructuras de datos las cuales almacenan información en un orden secuencial. Para una correcta implementación es necesaria la creación tanto de Nodos como de listas ligadas.\n",
    "## Nodos\n",
    "Los nodos son las unidades de datos de una lista ligada, esto quiere decir que si se buscan almacenar los datos de un grupo de persona, se podrían agregar atributos como nombre y edad a cada nodo.\n",
    "Cada nodo debe tener por lo menos 2 atributos relevantes. Debe tener un valor y una referencia al siguiente nodo de la lista ligada si es que no es el último nodo de la lista."
   ]
  },
  {
   "cell_type": "code",
   "execution_count": null,
   "metadata": {
    "id": "9X8bAACEuz5p"
   },
   "outputs": [],
   "source": [
    "#Creamos un nodo que tiene un atributo que posteriormente contendrá al sucesor\n",
    "#Del nodo\n",
    "class NodoPersona:\n",
    "\n",
    "    def __init__(self, nombre, edad):\n",
    "        self.edad = edad\n",
    "        self.nombre = nombre\n",
    "        self.siguiente = None"
   ]
  },
  {
   "cell_type": "markdown",
   "metadata": {
    "id": "VqOOQv0tvnmU"
   },
   "source": [
    "## Lista ligada\n",
    "La lista ligada es una estructura que almacena tanto el primer elemento de la lista ligada (Nodo cabeza) como al último elemento de la lista (Nodo cola). Es importante destacar que no es necesario que contenga cada elemento de la lista, porque cada nodo indica cual será el siguiente.\n",
    "Además para que la lista ligada contiene 3 metodos principales\n",
    "* **Agregar(valor)**: Este método agrega un nodo al final de la lista con el valor entregado\n",
    "* **Obtener(posicion)**: Este metodo retorna el nodo en la posición dada\n",
    "* **Insertar(valor, posición)**: Agrega un nodo con el valor dado en la posición que se quiere en la lista (no implementado acá)."
   ]
  },
  {
   "cell_type": "code",
   "execution_count": null,
   "metadata": {
    "id": "R6gUnsNavwPo"
   },
   "outputs": [],
   "source": [
    "class ListaLigadaPersonas:\n",
    "\n",
    "    def __init__(self) -> None:\n",
    "        self.cabeza = None\n",
    "        self.cola = None\n",
    "\n",
    "    def agregar(self, nombre, edad) -> None:\n",
    "\n",
    "        nuevo = NodoPersona(nombre, edad)\n",
    "\n",
    "        if self.cabeza is None:\n",
    "            self.cabeza = nuevo\n",
    "            self.cola = nuevo\n",
    "        else:\n",
    "            self.cola.siguiente = nuevo\n",
    "            self.cola = nuevo\n",
    "\n",
    "    def obtener(self, posicion: int):\n",
    "        nodo_actual = self.cabeza\n",
    "\n",
    "        for _ in range(posicion):\n",
    "            if nodo_actual is not None:\n",
    "                nodo_actual = nodo_actual.siguiente\n",
    "\n",
    "        if nodo_actual is None:\n",
    "            return None\n",
    "        return nodo_actual.nombre, nodo_actual.edad"
   ]
  },
  {
   "cell_type": "markdown",
   "metadata": {
    "id": "T2LLHiH5xeM4"
   },
   "source": [
    "# Iterables\n",
    "Como se pudo ver en listas ligadas, hay estructuras dentro de la programación donde resulta lógico la idea de **recorrer** los elementos. Es aquí donde surge la idea de iterables, como todos los objetos que de alguna forma podemos recorrer un elemento tras otro.\n",
    "Algunos ejemplos de iteradores son las listas, tuplas, diccionarios, etc. En general un iterable es todo lo que aparece en la derecha de un ciclo for (for a in **iterable**:)\n",
    "Lo importante es que ahora podremos crear nuestros propios iterables personalizados.\n",
    "Un iterador debe tener el método `__iter__` el cual debe retornar un **iterable**."
   ]
  },
  {
   "cell_type": "code",
   "execution_count": null,
   "metadata": {
    "id": "tEi59-uEx3bz"
   },
   "outputs": [],
   "source": [
    "class ListaLigadaIterable(ListaLigadaPersonas):\n",
    "  #Al heredar vamos a tener exactamente lo mismo que la clase padre\n",
    "  def __iter__(self):\n",
    "    return Iterador(self.cabeza) #A continuación definiremos esto"
   ]
  },
  {
   "cell_type": "markdown",
   "metadata": {
    "id": "RKzO9GIRyjrL"
   },
   "source": [
    "# Iterador\n",
    "Los iteradores corresponden a objetos que se encargan de recorrer los iterables y su particularidad es que contienen los métodos `__iter__` y `__next__`.\n",
    "* `__next__`: Este método se encarga de retornar los valores hasta quedarse sin elementos, si se terminaron los elementos este método levanta una excepción.\n",
    "* `__iter__`: Este método retorna una referencia a si mismo (return self)."
   ]
  },
  {
   "cell_type": "code",
   "execution_count": null,
   "metadata": {
    "id": "SsGI3M_FytWl"
   },
   "outputs": [],
   "source": [
    "class Iterador:\n",
    "  def __init__(self, cabeza):\n",
    "    self.cabeza = cabeza\n",
    "\n",
    "  def __next__(self):\n",
    "    if self.cabeza is None:\n",
    "       raise StopIteration(\"Llegamos al final\")\n",
    "    else:\n",
    "      valor_actual = (self.cabeza.nombre, self.cabeza.edad)\n",
    "      self.cabeza = self.cabeza.siguiente\n",
    "      return valor_actual\n",
    "\n",
    "  def __iter__(self):\n",
    "    return self"
   ]
  },
  {
   "cell_type": "markdown",
   "metadata": {
    "id": "lKoAKz4w0L4h"
   },
   "source": [
    "# Generadores\n",
    "Los generadores son un caso especial de iterables, esto quiere decir que son elementos que se pueden recorrer.\n",
    "Existen 2 formas de crear un generador.\n",
    "* Por comprension\n"
   ]
  },
  {
   "cell_type": "code",
   "execution_count": null,
   "metadata": {
    "colab": {
     "base_uri": "https://localhost:8080/"
    },
    "id": "OmEt-Ryo0gm8",
    "outputId": "a427c3ad-538f-4a86-9a2f-c1efdca71fb1"
   },
   "outputs": [],
   "source": [
    "#Generador de los primeros 20 cuadrados perfectos\n",
    "generador = (numero ** 2 for numero in range(1,21))\n",
    "print([a for a in generador])"
   ]
  },
  {
   "cell_type": "markdown",
   "metadata": {
    "id": "-runvaIL0i3p"
   },
   "source": [
    "* Funciones yield. Las funciones yield son muy similares a las funciones comunes, pero con la particularidad de que en vez de return, se tiene yield. Yield se distingue en que al contrario que return, la próxima vez que se ejecute la función **el código sigue después del yield**. Esto hace que las funciones yield retornen un **generador**"
   ]
  },
  {
   "cell_type": "code",
   "execution_count": null,
   "metadata": {
    "colab": {
     "base_uri": "https://localhost:8080/"
    },
    "id": "XL68LJ9b0o7t",
    "outputId": "6ee970c7-4dfa-4d7a-ee48-872e31538ded"
   },
   "outputs": [],
   "source": [
    "def cuadrados_perfectos(maximo):\n",
    "  i = 1\n",
    "  while i <= maximo:\n",
    "    yield i**2 #La próxima iteración partira con el mismo i de antes\n",
    "    i += 1\n",
    "generador = cuadrados_perfectos(20)\n",
    "print([a for a in generador])\n",
    "\n"
   ]
  },
  {
   "cell_type": "markdown",
   "metadata": {
    "id": "TpfGG-a52Z2Q"
   },
   "source": [
    "# Función lambda\n",
    "Las funciones lambda son funciones de un solo uso que no se busca ocupar en otra parte del código. La diferencia con una función normal es que no tiene un nombre asignado para llamarla nuevamente."
   ]
  },
  {
   "cell_type": "code",
   "execution_count": null,
   "metadata": {
    "colab": {
     "base_uri": "https://localhost:8080/"
    },
    "id": "HD4waub03MRn",
    "outputId": "a6d73125-d4fb-4bb5-84f4-d8d200fcc678"
   },
   "outputs": [],
   "source": [
    "def funcion_normal(texto):\n",
    "  print(texto)\n",
    "\n",
    "#Creo al función lambda poniendo lambda VARIABLES: CONTENIDO_FUNCION\n",
    "funcion_lambda = lambda texto: print(texto)\n",
    "\n",
    "#Ambas definiciones son equivalentes\n",
    "funcion_normal(\"funcion_normal funciona\")\n",
    "funcion_lambda(\"funcion_lambda funciona \")\n",
    "\n",
    "#La diferencia es que la funcion lambda es simplemente una variable\n",
    "#Puedo borrarla facilmente\n",
    "funcion_lambda = None\n",
    "\n",
    "#Ahora funcion_lambda(\"Hola\") va a dar error porque ya no es una funcion\n",
    "#funcion_lambda(\"Hola\")"
   ]
  },
  {
   "cell_type": "markdown",
   "metadata": {
    "id": "xvkDO5ZG4o0v"
   },
   "source": [
    "# Funciones sobre iterables\n",
    "Existen funciones las cuales se ejecutan sobre iterables que nos permiten hacer cambios en un iterables, filtrar un iterable y resumir cierta información de un iterable.\n",
    "# Map\n",
    "Esta función recibe 1 función como argumento junto con 1 o más iterables. Map se encarga de aplicar la función a cada elemento del iterable, retornando un generador."
   ]
  },
  {
   "cell_type": "code",
   "execution_count": null,
   "metadata": {
    "colab": {
     "base_uri": "https://localhost:8080/"
    },
    "id": "yhPhs2Tk48Gf",
    "outputId": "51a2d7d5-ce2a-4d0e-cba9-1dfb69c4343e"
   },
   "outputs": [],
   "source": [
    "# Creamos un generador que entega los 10 primeros numeros\n",
    "generador = (numero for numero in range(10))\n",
    "\n",
    "# Realizamos un map que nos entrege cada numero al cuadrado\n",
    "generador_cuadrados = map(lambda valor: valor ** 2, generador)\n",
    "\n",
    "#Ahora tenemos otro generador, veamos que entrega\n",
    "print([valor for valor in generador_cuadrados])"
   ]
  },
  {
   "cell_type": "markdown",
   "metadata": {
    "id": "RrYSA8tX6WM6"
   },
   "source": [
    "# Filter\n",
    "Filter recibe una función que retorne True o False y un iterable. Filter se encargará de evaluar la función dada en cada elemento del iterable y retornará un generador *filtrado*, esto quiere decir que solo contendrá los elementos en los cuales la función retorne True."
   ]
  },
  {
   "cell_type": "code",
   "execution_count": null,
   "metadata": {
    "colab": {
     "base_uri": "https://localhost:8080/"
    },
    "id": "Ni63jCHu6m24",
    "outputId": "a3d9b189-61bf-4c6a-8195-0412ad562ec6"
   },
   "outputs": [],
   "source": [
    "#Generador de los números del 1 al 7.\n",
    "generador = (numero for numero in range(1, 71))\n",
    "\n",
    "# Hacemos un filter para sacar solo los numeros divisibles por 7\n",
    "generador_filtrado = filter(lambda numero: numero % 7 == 0, generador)\n",
    "\n",
    "#Ahora tenemos otro generador, veamos que entrega\n",
    "print([valor for valor in generador_filtrado])\n",
    "\n",
    "#Ahora podemos aprendernos la tabla del 7 :)\n",
    "\n"
   ]
  },
  {
   "cell_type": "markdown",
   "metadata": {
    "id": "7cs7AM538YW4"
   },
   "source": [
    "# Reduce\n",
    "Reduce recibe una función que tome 2 valores y un iterable. Reduce realiza el siguiente cálculo:\n",
    "* Aplica la función al primer elemento del iterable junto al caso base.\n",
    "* Vuelve a aplicar el calculo tomando el resultado anterior junto con el siguiente elemento del iterable.\n",
    "* Repite este proceso hasta acabar con todos los elementos del iterable.\n",
    "* Retorna el último resultado."
   ]
  },
  {
   "cell_type": "code",
   "execution_count": null,
   "metadata": {
    "colab": {
     "base_uri": "https://localhost:8080/"
    },
    "id": "6Rj_vPV98zp9",
    "outputId": "6f5ddd57-6612-4c40-9df3-d724682c8b64"
   },
   "outputs": [],
   "source": [
    "from functools import reduce #REDUCE SE DEBE IMPORTAR\n",
    "\n",
    "#Obtengamos la suma del 1 al 100.\n",
    "generador = (numero for numero in range(101))\n",
    "\n",
    "#realizamos el reduce\n",
    "suma_total = reduce(lambda x, y: x + y, generador)\n",
    "print(suma_total)"
   ]
  },
  {
   "cell_type": "markdown",
   "metadata": {
    "id": "SDMUjJRHNQpN"
   },
   "source": [
    "# Zip\n",
    "Zip es una función que toma más de un iterable y lo que devuelve es un iterable con tuplas. La particularidad de estas tuplas es que la primera tupla tendrá el primer elemento de cada iterable, la segunda tupla tendrá el segundo elemento de cada iterable y así sucesivamente."
   ]
  },
  {
   "cell_type": "code",
   "execution_count": null,
   "metadata": {
    "colab": {
     "base_uri": "https://localhost:8080/"
    },
    "id": "NAlWh8DNOaYv",
    "outputId": "c77a00b0-fa2d-468d-f7ed-75b7ef32c461"
   },
   "outputs": [],
   "source": [
    "generador_numeros = (a for a in range(100))\n",
    "generador_letras = (a for a in \"abcdefghijklmnñopqrstuvwxyz\")\n",
    "\n",
    "generador_tuplas = zip(generador_numeros, generador_letras)\n",
    "print([a for a in generador_tuplas])\n",
    "#Notar que se tiene la cantidad de tuplas del generador más pequeño\n",
    "#No hay 100 elementos, solo hay 27 porque hay 27 letras :)"
   ]
  },
  {
   "cell_type": "markdown",
   "metadata": {
    "id": "D5WoiZkvb0rr"
   },
   "source": [
    "# Actividad: DCCrimen en Cook Street\n",
    "\n",
    "Eres Sherlock Cruz, famoso detective de Cook Street. Ocurrió un crimen imperdonable en tu calle, y es tu deber encontrar al culpable. El crimen en cuestión fue lo peor que podría haber pasado... Alguien rompió el PEP8!!! Buscas cerca de la escena del crimen, sin embargo, lo único con lo que te encuentras es con un montón de archivos que parecen no tener relación. En base a eso, deberás resolver el misterio de quién hizo tal crimen contra la humanidad."
   ]
  },
  {
   "cell_type": "markdown",
   "metadata": {
    "id": "OMNlbievNVs0"
   },
   "source": [
    "## Parte 1: leer los archivos\n",
    "\n",
    "Tenemos 3 archivos: un archivo llamado README.md, un archivo llamado letras.txt y un archivo llamado nums.txt. Qué hacemos? Leer el readme!"
   ]
  },
  {
   "cell_type": "markdown",
   "metadata": {
    "id": "7oH5UDeHOa2d"
   },
   "source": [
    "Leeremos los archivos nums.txt y letras.txt y veremos su contenido"
   ]
  },
  {
   "cell_type": "code",
   "execution_count": null,
   "metadata": {
    "colab": {
     "base_uri": "https://localhost:8080/"
    },
    "id": "BwjWHjP-OIzl",
    "outputId": "1c7992b9-12d3-434f-c85f-fe6b01faa6cb"
   },
   "outputs": [],
   "source": [
    "with open(\"letras.txt\", 'r', encoding=\"utf8\") as file:\n",
    "  letras = file.readlines()\n",
    "\n",
    "print(letras[:100])"
   ]
  },
  {
   "cell_type": "code",
   "execution_count": null,
   "metadata": {
    "colab": {
     "base_uri": "https://localhost:8080/"
    },
    "id": "l7L8uQO8POPO",
    "outputId": "470bfa5b-43f8-420e-ff44-7fa96d173ab4"
   },
   "outputs": [],
   "source": [
    "with open(\"nums.txt\", 'r') as file:\n",
    "  nums = file.readlines()\n",
    "\n",
    "print(nums[:100])"
   ]
  },
  {
   "cell_type": "markdown",
   "metadata": {
    "id": "r2DfXpJZO0zA"
   },
   "source": [
    "Efectivamente, letras.txt tiene una letra por línea y nums.txt tiene un número por línea. Tenemos dadas funciones de parsing:"
   ]
  },
  {
   "cell_type": "code",
   "execution_count": null,
   "metadata": {
    "id": "er1BGJZMPbe-"
   },
   "outputs": [],
   "source": [
    "def parse_letra(line):\n",
    "  return line.rstrip('\\n')\n",
    "\n",
    "def parse_num(line):\n",
    "  return int(line.strip())"
   ]
  },
  {
   "cell_type": "markdown",
   "metadata": {
    "id": "37ZI42mhPn-a"
   },
   "source": [
    "Ahora tenemos que utilizarlas para limpiar las líneas de los archivos. (hint: usar map)"
   ]
  },
  {
   "cell_type": "code",
   "execution_count": null,
   "metadata": {
    "colab": {
     "base_uri": "https://localhost:8080/"
    },
    "id": "a7QIq9T7P-Nn",
    "outputId": "f90dd2d3-5f5f-4e18-d477-20dbe491248d"
   },
   "outputs": [],
   "source": [
    "# Acá limpiar los números usando la función parse_num\n"
   ]
  },
  {
   "cell_type": "code",
   "execution_count": null,
   "metadata": {},
   "outputs": [],
   "source": [
    "# Acá limpiar las letras usando la función parse_letra\n"
   ]
  },
  {
   "cell_type": "markdown",
   "metadata": {
    "id": "Q9F203GqQRO9"
   },
   "source": [
    "# Parte 2: Quitar letras extra\n",
    "\n",
    "Según el readme, debemos filtrar la lista de letras, y quedarnos sólo con las letras que tienen el mísmo índice de un número de fibonacci. Cómo tendremos los números de fibonacci? Usando un generador, claro! Primero haremos un generador de números de fibonacci."
   ]
  },
  {
   "cell_type": "code",
   "execution_count": null,
   "metadata": {
    "colab": {
     "base_uri": "https://localhost:8080/"
    },
    "id": "0ecMn9C7P4Cr",
    "outputId": "32aa09b4-31e4-4397-db5b-59ba3ea0b38c"
   },
   "outputs": [],
   "source": [
    "def fibonacci(tamaño):\n",
    "    # Acá implementar generador los primeros <tamaño> numeros de fibonacci\n",
    "\n",
    "for i in fibonacci(10):\n",
    "  print(i)"
   ]
  },
  {
   "cell_type": "markdown",
   "metadata": {
    "id": "qMFI84y5Uf3F"
   },
   "source": [
    "Veamos cuantas letras hay antes de filtrar"
   ]
  },
  {
   "cell_type": "code",
   "execution_count": null,
   "metadata": {
    "colab": {
     "base_uri": "https://localhost:8080/"
    },
    "id": "fcs1gDJQUgQi",
    "outputId": "5a371086-e527-4552-fd4e-307613bc2e52"
   },
   "outputs": [],
   "source": [
    "len(letras_limpias)"
   ]
  },
  {
   "cell_type": "markdown",
   "metadata": {
    "id": "UK5EOGhBRDzJ"
   },
   "source": [
    "Primero juntaremos pares letra-número en una lista de tuplas (hint: usar zip)"
   ]
  },
  {
   "cell_type": "code",
   "execution_count": null,
   "metadata": {
    "id": "z-KQJ9yGTBx_"
   },
   "outputs": [],
   "source": [
    "# Acá guardar los pares letra-número usando zip\n"
   ]
  },
  {
   "cell_type": "markdown",
   "metadata": {
    "id": "acaxX1lLTDJj"
   },
   "source": [
    "Luego filtraremos la lista según lo pedido (hint: usar filter y el generador de fibonacci)"
   ]
  },
  {
   "cell_type": "code",
   "execution_count": null,
   "metadata": {
    "id": "pU50O0BSQ9uo"
   },
   "outputs": [],
   "source": [
    "fibsset = set(fibonacci(100))\n",
    "\n",
    "# Acá filtrar la lista según si el número de cada tupla es de fibonacci o n\n"
   ]
  },
  {
   "cell_type": "markdown",
   "metadata": {
    "id": "RN4H0RkHTGxu"
   },
   "source": [
    "Finalmente nos quedaremos sólo con los números (hint: usar map)"
   ]
  },
  {
   "cell_type": "code",
   "execution_count": null,
   "metadata": {
    "id": "DLVgTHmHTI8J"
   },
   "outputs": [],
   "source": [
    "# Acá conservar sólo la letra de cada par letra-número\n"
   ]
  },
  {
   "cell_type": "markdown",
   "metadata": {
    "id": "e6PKTjqqTT8e"
   },
   "source": [
    "Ahora veremos con cuantas letras nos quedamos después de filtrar"
   ]
  },
  {
   "cell_type": "code",
   "execution_count": null,
   "metadata": {
    "colab": {
     "base_uri": "https://localhost:8080/"
    },
    "id": "XZ6WQ8tTTX9o",
    "outputId": "f6a25cc3-82b2-42ba-ee23-d03e8d90ba44"
   },
   "outputs": [],
   "source": [
    "len(letras_filtradas)"
   ]
  },
  {
   "cell_type": "markdown",
   "metadata": {
    "id": "41MGYSbrUDYW"
   },
   "source": [
    "Tenemos muchas letras aún! Pero definitivamente son menos que antes (se redujeron a aprox la mitad). Prosigamos, a ver cómo nos va con la siguiente parte..."
   ]
  },
  {
   "cell_type": "markdown",
   "metadata": {
    "id": "nCpnChkOUOZE"
   },
   "source": [
    "## Parte 3: Reordenar las letras\n",
    "\n",
    "Ahora debemos reordenar las letras: para hacerlo, hay que ir poniendo en una lista una letra en la posición 0, luego una letra en la última posición, y así hasta llegar hasta la última letra. Intentemos hacerlo con listas normales:"
   ]
  },
  {
   "cell_type": "code",
   "execution_count": null,
   "metadata": {
    "id": "NZ4FXzX9TdQs"
   },
   "outputs": [],
   "source": [
    "letras_reordenadas = []\n",
    "\n",
    "par = True\n",
    "for letra in letras_filtradas:\n",
    "  if par:\n",
    "    letras_reordenadas.insert(0, letra)\n",
    "  else:\n",
    "    letras_reordenadas.append(letra)\n",
    "  par = not par"
   ]
  },
  {
   "cell_type": "markdown",
   "metadata": {
    "id": "BjoQp5DfXgs0"
   },
   "source": [
    "Ok, esto se demora infinito... Cómo lo hacemos más rápido? Obviamente: usando listas ligadas! Primero definimos la clase Nodo:"
   ]
  },
  {
   "cell_type": "code",
   "execution_count": null,
   "metadata": {
    "id": "tm6i4Z7-WT8l"
   },
   "outputs": [],
   "source": [
    "class Nodo:\n",
    "  def __init__(self, letra):\n",
    "    self.letra = letra\n",
    "    self.next = None"
   ]
  },
  {
   "cell_type": "markdown",
   "metadata": {
    "id": "6txa1XkMX1kZ"
   },
   "source": [
    "Y después definimos la clase ListaLigada:"
   ]
  },
  {
   "cell_type": "code",
   "execution_count": null,
   "metadata": {
    "id": "frI754oDX6Yc"
   },
   "outputs": [],
   "source": [
    "class ListaLigada:\n",
    "  def __init__(self):\n",
    "    self.cabeza = None\n",
    "    self.cola = None\n",
    "\n",
    "  def append(self, letra):\n",
    "    nodo = Nodo(letra)\n",
    "    if(self.cabeza == None):\n",
    "      self.cabeza = nodo\n",
    "      self.cola = nodo\n",
    "    else:\n",
    "      self.cola.next = nodo\n",
    "      self.cola = nodo\n",
    "\n",
    "  def appendleft(self, letra):\n",
    "    nodo = Nodo(letra)\n",
    "    if(self.cabeza == None):\n",
    "      self.cabeza = nodo\n",
    "      self.cola = nodo\n",
    "    else:\n",
    "      nodo.next = self.cabeza\n",
    "      self.cabeza = nodo\n",
    "        \n",
    "  def __iter__(self):\n",
    "      # completar el método\n"
   ]
  },
  {
   "cell_type": "markdown",
   "metadata": {
    "id": "vLW9V9-cZDfk"
   },
   "source": [
    "Ahora podemos rellenar la lista ligada eficientemente! Hagamos eso"
   ]
  },
  {
   "cell_type": "code",
   "execution_count": null,
   "metadata": {
    "id": "LQitWUjeZDH2"
   },
   "outputs": [],
   "source": [
    "letras_reordenadas = ListaLigada()\n",
    "\n",
    "par = True\n",
    "for letra in letras_filtradas:\n",
    "  if par:\n",
    "    letras_reordenadas.appendleft(letra)\n",
    "  else:\n",
    "    letras_reordenadas.append(letra)\n",
    "  par = not par"
   ]
  },
  {
   "cell_type": "markdown",
   "metadata": {
    "id": "WklKDDnOZT2w"
   },
   "source": [
    "Muchísimo más rápido que usar una lista normal! Pero ahora... cómo la recorremos?"
   ]
  },
  {
   "cell_type": "markdown",
   "metadata": {
    "id": "zIF_XKaFZfXK"
   },
   "source": [
    "## Parte 4: Recorrer la lista ligada\n",
    "\n",
    "Para recorrer la lista ligada que hicimos, vamos a necesitar a un iterador"
   ]
  },
  {
   "cell_type": "code",
   "execution_count": null,
   "metadata": {
    "id": "Ms6RE9dhZPTh"
   },
   "outputs": [],
   "source": [
    "class IteradorListaLigada:\n",
    "  def __init__(self, listaligada):\n",
    "    self.cabeza = listaligada.cabeza\n",
    "\n",
    "  def __iter__(self):\n",
    "      # Implementar\n",
    "      \n",
    "  def __next__(self):\n",
    "      # Implementar"
   ]
  },
  {
   "cell_type": "markdown",
   "metadata": {
    "id": "8TDE_hb2aGGb"
   },
   "source": [
    "Y ahora lo usamos:"
   ]
  },
  {
   "cell_type": "markdown",
   "metadata": {
    "id": "k2NKi_XqaaZ2"
   },
   "source": [
    "Tenemos listo el iterador para recorrer la lista ligada! Ahora podemos pasar a la última parte, que es hacer el des-cifrado del césar. Tenemos convenientemente una función que recibe una letra y retorna (letra + 5)"
   ]
  },
  {
   "cell_type": "code",
   "execution_count": null,
   "metadata": {
    "id": "HVRgN7PHaFHp"
   },
   "outputs": [],
   "source": [
    "def desencriptar_letra(letter):\n",
    "  ALPHABET = 'abcdefghijklmnñopqrstuvwxyz'\n",
    "  if letter in ALPHABET:\n",
    "    new_letter_index = (ALPHABET.index(letter) + 5) % len(ALPHABET)\n",
    "    return ALPHABET[new_letter_index]\n",
    "  else:\n",
    "    return letter"
   ]
  },
  {
   "cell_type": "markdown",
   "metadata": {
    "id": "AEYsOn4WbGdI"
   },
   "source": [
    "Ahora usaremos esa función para map-ear cada letra de la lista ligada a su valor desencriptado."
   ]
  },
  {
   "cell_type": "code",
   "execution_count": null,
   "metadata": {
    "id": "9qW7l0E_bVia"
   },
   "outputs": [],
   "source": [
    "# Acá usar la función map para descifrar los caracteres\n"
   ]
  },
  {
   "cell_type": "markdown",
   "metadata": {
    "id": "0sZOR9jYbggY"
   },
   "source": [
    "FINALMENTE, usaremos la función reduce para juntar todas las letras:"
   ]
  },
  {
   "cell_type": "code",
   "execution_count": null,
   "metadata": {
    "colab": {
     "base_uri": "https://localhost:8080/",
     "height": 105
    },
    "id": "hYMzreyjbdbs",
    "outputId": "6f815b8f-7cd5-4dfd-f5d5-3b3fcb169d59"
   },
   "outputs": [],
   "source": [
    "# Acá usar reduce (importarlo de functools) para juntar las letras del string\n"
   ]
  }
 ],
 "metadata": {
  "colab": {
   "provenance": []
  },
  "kernelspec": {
   "display_name": "Python 3 (ipykernel)",
   "language": "python",
   "name": "python3"
  },
  "language_info": {
   "codemirror_mode": {
    "name": "ipython",
    "version": 3
   },
   "file_extension": ".py",
   "mimetype": "text/x-python",
   "name": "python",
   "nbconvert_exporter": "python",
   "pygments_lexer": "ipython3",
   "version": "3.10.6"
  }
 },
 "nbformat": 4,
 "nbformat_minor": 4
}
