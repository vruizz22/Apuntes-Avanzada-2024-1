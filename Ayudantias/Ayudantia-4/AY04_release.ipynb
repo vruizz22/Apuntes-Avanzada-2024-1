{
 "cells": [
  {
   "cell_type": "markdown",
   "metadata": {},
   "source": [
    "## Ayudantía 4: Threads 🧵🧶\n",
    "\n",
    "### Ayudantes 👾\n",
    "- Sección 1: [Julián García](https://github.com/JJJGGGG)\n",
    "- Sección 2: [Clemente Campos](https://github.com/mskdancers)\n",
    "- Sección 3: [Diego Toledo](https://github.com/diegoftpxd)\n",
    "- Sección 4: [Julio Huerta](https://github.com/Julius9)\n",
    "- Sección 5: [Carlos Olguín](https://github.com/CarlangaUC)\n",
    "\n",
    "### 📖 Contenidos 📖\n",
    "En esta ayudantía usaremos:\n",
    "- _Threads_ para generar concurrencia\n",
    "- _Locks_ para proteger zonas críticas\n",
    "- _Events_ para comunicar _Threads_\n",
    "### Introducción\n",
    "Los Threads son una herramienta indispensable en la programación, ya que nos permiten generar concurrencia entre distintas partes del código. Esto quiere decir que vamos a poder hacer que dos partes distintas de nuestro código se ejecuten de forma simultánea. \n",
    "### ¿Cómo puedo crear un thread?"
   ]
  },
  {
   "cell_type": "code",
   "execution_count": 19,
   "metadata": {},
   "outputs": [
    {
     "name": "stdout",
     "output_type": "stream",
     "text": [
      "hola 0\n",
      "hola 1\n",
      "hola 2\n",
      "hola 3\n",
      "hola 4\n",
      "hola 5\n",
      "hola 6\n",
      "hola 7\n",
      "hola 8\n",
      "hola 9\n"
     ]
    }
   ],
   "source": [
    "import threading  # esta es la librería que contiene los threads\n",
    "\n",
    "# establecemos una función que queremos que ejecute al activarse\n",
    "def funcion_objetivo(): \n",
    "    for iteracion in range(10):\n",
    "        print(f\"hola {iteracion}\")\n",
    "\n",
    "# instanciamos un Thread y le damos una función objetvo (sin paréntesis)\n",
    "thread = threading.Thread(target=funcion_objetivo) \n",
    "thread.start()"
   ]
  },
  {
   "cell_type": "markdown",
   "metadata": {},
   "source": [
    "### ¿Cómo puedo coordinar distintos threads?\n",
    "Los threads no se ejecutan de forma perfectamente simultánea, sólo simulan que lo hacen, por lo que un thread en cualquier momento se puede pausar para que se ejecute otro. Esto hace que se puedan descoordinar generándonos problemas. Sin embargo, como programadores tenemos muchas herramientas para asegurarnos que nuestro código haga exactamente lo que queremos 🤓.\n",
    "###  Join()\n",
    "Para que un thread espere a que otro termine de ejecutarse, podemos usar la función ```join()```. Si es que llamamos al método ```join()``` de ```thread_1``` en la ejecución de ```thread_2```, entonces ```thread_2``` esperará a que se termine de ejecutar el ```thread_1``` para seguir su ejecución. Al método le podemos pasar como argumento el número de segundos máximo que esperará al otro thread (timeout), y pasados esos segundos seguirá su ejecución. En el siguiente ejemplo, el thread principal está esperando a que termine de ejecutarse ```thread_a_esperar```, con un timeout de tres segundos."
   ]
  },
  {
   "cell_type": "code",
   "execution_count": 20,
   "metadata": {},
   "outputs": [
    {
     "name": "stdout",
     "output_type": "stream",
     "text": [
      "Buenos días 1\n",
      "Buenos días 2\n",
      "Acabo de perder la paciencia *muy enojado*\n",
      "Buenos días 3\n",
      "Buenos días 4\n",
      "Buenos días 5\n",
      "Ya terminaron todos los saludos *se calma*\n"
     ]
    }
   ],
   "source": [
    "import threading\n",
    "import time\n",
    "\n",
    "\n",
    "def saludar():\n",
    "    for iteracion in range(5):\n",
    "        time.sleep(1)\n",
    "        print(f\"Buenos días {iteracion + 1}\")\n",
    "\n",
    "thread_a_esperar = threading.Thread(target=saludar)\n",
    "thread_a_esperar.start()\n",
    "\n",
    "# esperará tres segundos o a que termine el thread, lo que pase primero\n",
    "thread_a_esperar.join(3) \n",
    "print(\"Acabo de perder la paciencia *muy enojado*\")\n",
    "\n",
    "# al no especificar timeout se queda esperando hasta que termine el thread\n",
    "thread_a_esperar.join() \n",
    "\n",
    "print(\"Ya terminaron todos los saludos *se calma*\")"
   ]
  },
  {
   "cell_type": "markdown",
   "metadata": {},
   "source": [
    "### is_alive()\n",
    "Este método nos entrega ```True``` si el thread sigue activo o ```False``` si ya terminó su ejecución."
   ]
  },
  {
   "cell_type": "code",
   "execution_count": 21,
   "metadata": {},
   "outputs": [
    {
     "name": "stdout",
     "output_type": "stream",
     "text": [
      "¿el thread está vivo? True\n",
      "¿el thread está vivo? True\n",
      "Buenos días 1¿el thread está vivo? True\n",
      "\n",
      "¿el thread está vivo? True\n",
      "Buenos días 2\n",
      "¿el thread está vivo? True\n",
      "¿el thread está vivo? True\n",
      "Buenos días 3\n",
      "¿el thread está vivo? True\n",
      "¿el thread está vivo? True\n",
      "Buenos días 4\n",
      "¿el thread está vivo? True\n",
      "¿el thread está vivo? True\n",
      "Buenos días 5\n",
      "¿el thread está vivo? False\n",
      "Se ha terminado, nooooo\n"
     ]
    }
   ],
   "source": [
    "import threading\n",
    "import time\n",
    "\n",
    "def saludar():\n",
    "    for iteracion in range(5):\n",
    "        time.sleep(2)\n",
    "        print(f\"Buenos días {iteracion + 1}\")\n",
    "\n",
    "thread_a_esperar = threading.Thread(target=saludar)\n",
    "thread_a_esperar.start()\n",
    "\n",
    "while True:\n",
    "    is_alive = thread_a_esperar.is_alive()\n",
    "    print(f\"¿el thread está vivo? {is_alive}\")\n",
    "    if not is_alive:\n",
    "        print(\"Se ha terminado, nooooo\")\n",
    "        break\n",
    "    time.sleep(1)\n",
    "    \n"
   ]
  },
  {
   "cell_type": "markdown",
   "metadata": {},
   "source": [
    "En este último ejemplo podemos ver que los prints están medios raros 🤔, sin embargo podemos arreglar esto con el uso de:\n",
    "\n",
    "### Locks\n",
    "Lo que pasa es que los dos threads intentan imprimir cosas en la consola, y como en cualquier momento uno se puede pausar para que siga el otro, nuestros prints se pueden superponer. La consola es una zona crítica y por tanto debemos poner un ```Lock``` a esta parte.\n",
    "Un ```lock``` hace que sólo el thread que tenga el ```Lock``` en ese momento pueda estar interactuando con cierta parte del codigo. Si un thread toma el ```Lock```, todos los demás van a esperar a que lo suelte para poder entrar a esa parte del código."
   ]
  },
  {
   "cell_type": "code",
   "execution_count": 22,
   "metadata": {},
   "outputs": [
    {
     "name": "stdout",
     "output_type": "stream",
     "text": [
      "¿el thread está funcionando? True\n",
      "Buenos días 1\n",
      "¿el thread está funcionando? True\n",
      "¿el thread está funcionando? True\n",
      "Buenos días 2\n",
      "¿el thread está funcionando? True\n",
      "¿el thread está funcionando? True\n",
      "Buenos días 3\n",
      "¿el thread está funcionando? True\n",
      "¿el thread está funcionando? True\n",
      "Buenos días 4\n",
      "¿el thread está funcionando? True\n",
      "¿el thread está funcionando? True\n",
      "Buenos días 5\n",
      "¿el thread está funcionando? True\n",
      "¿el thread está funcionando? False\n",
      "Se ha terminado, nooooo\n"
     ]
    }
   ],
   "source": [
    "import threading\n",
    "import time\n",
    "\n",
    "lock_consola = threading.Lock() # creamos el lock\n",
    "\n",
    "def saludar():\n",
    "    for iteracion in range(5):\n",
    "        time.sleep(2)\n",
    "        # mientras esté dentro del bloque indentado, este thread tiene el lock\n",
    "        # si es que llega a esta línea y no lo tiene, espera a que lo suelten\n",
    "        with lock_consola:\n",
    "            print(f\"Buenos días {iteracion + 1}\")\n",
    "\n",
    "thread_a_esperar = threading.Thread(target = saludar)\n",
    "thread_a_esperar.start()\n",
    "\n",
    "while True:\n",
    "    is_alive = thread_a_esperar.is_alive()\n",
    "    time.sleep(1)\n",
    "    # mientras esté dentro del bloque indentado, este thread tiene el lock\n",
    "    # si es que llega a esta línea y no lo tiene, espera a que lo suelten\n",
    "    with lock_consola:\n",
    "        print(f\"¿el thread está funcionando? {is_alive}\")\n",
    "        if not(is_alive):\n",
    "            print(\"Se ha terminado, nooooo\")\n",
    "            break\n",
    "    "
   ]
  },
  {
   "cell_type": "markdown",
   "metadata": {},
   "source": [
    "Es recomendable poner locks en todas las zonas críticas de nuestro código, las más comunes son:\n",
    "* Variables globales (compartidas por varios threads)\n",
    "* Archivos que se leen y escriben por varios threads\n",
    "* Prints de consola\n",
    "### Event\n",
    "Los eventos son una forma de comunicar threads, un evento tiene una _flag_ interna que puede estar activada o apagada y puede ser vista por todos los threads. Con esto en mente, podemos usar eventos para controlar y coordinar threads.\n",
    "* ```evento.wait()```: el thread que lo ejecute va a quedarse esperando hasta que la flag interna del evento sea activada.\n",
    "* ```evento.set()```: activa la flag interna del evento para que todos los threads lo puedan ver.\n",
    "* ```evento.clear()```: desactiva la flag interna.\n",
    "* ```evento.is_set()```: entrega ```True``` si la flag está activa y ```False``` sino, pero no se queda esperando."
   ]
  },
  {
   "cell_type": "code",
   "execution_count": 23,
   "metadata": {},
   "outputs": [
    {
     "name": "stdout",
     "output_type": "stream",
     "text": [
      "Voy a esperar que mi amigo despierte\n",
      "Amigo: zZzZzZzZz\n",
      "Amigo: zZzZzZzZz\n",
      "Amigo: zZzZzZzZz\n",
      "Amigo: zZzZzZzZz\n",
      "Amigo: zZzZzZzZz\n",
      "Amigo: zZzZzZzZz\n",
      "Amigo: Me acabo de despertar\n",
      "Entonces vamos a jugas :)\n",
      "Amigo: *jugando*\n",
      "*jugando*\n",
      "Amigo: *jugando*\n",
      "*jugando*\n",
      "Amigo: *jugando*\n",
      "*jugando*\n"
     ]
    }
   ],
   "source": [
    "import threading\n",
    "import time\n",
    "\n",
    "lock_consola = threading.Lock()\n",
    "# creamos una instancia de evento\n",
    "evento_despierto = threading.Event() \n",
    "\n",
    "def ciclo_de_sueño():\n",
    "    # duerme por 6 segundos\n",
    "    for iteracion in range(6):\n",
    "        time.sleep(1)\n",
    "        with lock_consola:\n",
    "            print(\"Amigo: zZzZzZzZz\")\n",
    "\n",
    "    # vamos a simular que despierta\n",
    "    with lock_consola:\n",
    "        # levantamos la flag interna del evento\n",
    "        evento_despierto.set() \n",
    "        print(\"Amigo: Me acabo de despertar\")\n",
    "\n",
    "    for iteracion in range(3):\n",
    "        time.sleep(1)\n",
    "        with lock_consola:\n",
    "            print(\"Amigo: *jugando*\")\n",
    "\n",
    "thread_a_esperar = threading.Thread(target=ciclo_de_sueño)\n",
    "thread_a_esperar.start()\n",
    "\n",
    "with lock_consola:\n",
    "    print(\"Voy a esperar que mi amigo despierte\")\n",
    "\n",
    "# esperamos a que se levante la flag, por lo que este thread se queda parado\n",
    "evento_despierto.wait()\n",
    "\n",
    "with lock_consola:\n",
    "    print(\"Entonces vamos a jugas :)\")    \n",
    "\n",
    "for iteracion in range(3):\n",
    "    time.sleep(1)\n",
    "    with lock_consola:\n",
    "        print(\"*jugando*\")\n",
    "    "
   ]
  },
  {
   "cell_type": "markdown",
   "metadata": {},
   "source": [
    "### Ejercicio: DCChef\n",
    "Cansado de las filas para usar el microondas y del precio de la comida dentro de la universidad, el DCC decidió crear su propio restaurante, y te han designado a ti para administrarlo! Decides modelar el funcionamiento de tu programa con lo que has aprendido en el curso de Programación Avanzada. Todo parece ir bien hasta que te das cuenta que se ha formado una colosal fila para entrar, ya que tu programa no permite que se tomen los pedidos mientras los cocineros están cocinando! ¿Cómo podríamos hacer que estas acciones se ejecuten a la vez? ¿Es esto el fin para el DCChef?\n",
    "\n",
    "Para solucionar este problema, se modelaron 4 clases: ```Gerente```, ```Cocinero```, ```Garzon``` y ```Restoran```. El ```Gerente``` se encarga de tomar los pedidos, que están detallados en el archivo ```data.csv```. Las entidades de la clase ```Cocinero``` se encargan de cocinar cada pedido y las entidades de la clase ```Garzon``` entregan los platos a las mesas.\n",
    "\n",
    "La clase ```Restoran``` tendrá las _deques_ de pedidos y de platos, que serán pasadas como argumentos al ```Gerente``` y a las entidades de ```Garzon``` y  ```Cocinero``` según sea necesario. Las _deque_ funcionan igual que las listas en el sentido que cuando le pasamos la misma _deque_ como argumento a las clases, este elemento va a estar compartido, es decir, si cualquier instancia modifica alguna de las dos _deques_, se modificará para todas las clases. En este caso esto es el comportamiento deseado, ya que queremos que los pedidos y los platos sean iguales para todos, pero se deberá manejar con ```Lock```'s.\n",
    "\n",
    "El restorán cerrará cuando se active el ```Event``` ```platos_entregados```, que significa que ya se entregaron todos los platos. Este evento lo deben activar los garzones cuando la _deque_ de platos esté vacía, pero sólo si el ```Event``` ```platos_cocinados``` ya está activado, ya que puede que algún cocinero todavía le falte cocinar algún plato. Por su parte, este último evento es activado por los cocineros cuando la _deque_ de pedidos esta vacía, pero sólo si es ```Event``` ```pedidos_tomados``` ya está activado, ya que puede que al gerente todavía le falte tomar algún pedido. Por último, este evento es activado por el gerente cuando ya se tomaron todos los pedidos. En resumen, el restorán espera a que los garzones terminen de trabajar, quienes esperan que los cocineros terminen de trabajar, quienes esperan a que el gerente termine de trabajar.\n",
    "\n",
    "Además, deberás completar los siguientes métodos:\n",
    "\n",
    "- ```Gerente.__init__()```: deberás completar lo que falta en el inicializador de esta clase.\n",
    "- ```Gerente.run()```: deberás abrir el archivo e ir línea por línea instanciando los pedidos como la _named tuple_ ```Pedido```, y añadiendo cada uno a la lista de pedidos, usando el ```Lock``` correspondiente. Luego de añadir cada pedido, el gerente esperará una cantidad aleatoria de segundos entre 1 y 3 (```time.sleep()```), hará el siguiente print: ```\"Gerente {nombre} anotando pedido de {nombre_pedido} para mesa {mesa}\"```, y al haber tomado todos los pedidos, activará el evento ```pedidos_tomados_evt```.\n",
    "- ```Cocinero.__init__()```: deberás completar lo que falta en el inicializador de esta clase.\n",
    "- ```Cocinero.run()```: el cocinero estará en un _loop_ donde tomará el ```Lock``` de los pedidos y revisará si hay pedidos en la _deque_. Si es que no hay pedidos en la _deque_, entonces activará el evento ```platos_cocinados_evt``` sólo si todos los pedidos ya fueron tomados, luego, independientemente de si los pedidos fueron tomados o no, pasará a la siguiente iteración (```continue```). Si es que hay pedidos en la _deque_, entonces sacará el primer pedido y se tomará de 2 a 5 segundos en cocinarlo, haciendo el siguiente print: ```\"Cociner@ {nombre} cocinando {nombre_pedido} para la mesa {mesa}\"```, para después tomar el ```Lock``` de platos y añadirlo a la _deque_ de platos.\n",
    "- ```Garzon.__init__()```: deberás completar lo que falta en el inicializador de esta clase.\n",
    "- ```Garzon.run()```: el garzón estará en un _loop_ donde tomará el ```Lock``` de los platos y revisará si hay platos en la _deque_. Si es que no hay platos en la _deque_, entonces activará el evento ```platos_entregados``` sólo si todos los platos ya fueron cocinados, luego, independientemente de si los platos fueron cocinados o no, pasará a la siguiente iteración (```continue```). Si es que hay platos en la _deque_, entonces sacará el primer plato y se tomará de 2 a 5 segundos en entregarlo, y hará el siguiente print: ```\"Garzón {nombre} entregando plato {nombre_plato} a mesa {mesa}\"```.\n",
    "- ```Restoran.__init__()```: deberás completar lo que falta en el inicializador de esta clase.\n",
    "- ```Restoran.abrir()```: esta función es la encargada de abrir el restorán, deberá instanciar a un gerente e iniciar su ```Thread```, instanciar los cocineros e iniciar sus ```Thread```'s e instanciar los garzones e iniciar sus ```Thread```'s, guardando estos últimos dos en sus listas correspondientes. Por último esperará a que se active el evento ```platos_entregados_evt``` para poder cerrar el restorán."
   ]
  },
  {
   "cell_type": "code",
   "execution_count": 24,
   "metadata": {},
   "outputs": [],
   "source": [
    "from collections import deque, namedtuple\n",
    "from threading import Event, Lock, Thread\n",
    "import random\n",
    "import time\n",
    "\n",
    "Pedido = namedtuple(\"Pedido\", [\"nombre\", \"mesa\"])\n",
    "\n",
    "\n",
    "class Gerente(Thread):\n",
    "\n",
    "    def __init__(self, nombre: str, nombre_archivo: str, pedidos: deque,\n",
    "                 lock_pedidos: Lock, lock_print: Lock, pedidos_tomados_evt: Event):\n",
    "        # completar\n",
    "        self.nombre = nombre\n",
    "        self.nombre_archivo = nombre_archivo\n",
    "        self.pedidos = pedidos\n",
    "        self.lock_pedidos = lock_pedidos\n",
    "        self.lock_print = lock_print\n",
    "        self.pedidos_tomados_evt = pedidos_tomados_evt\n",
    "\n",
    "    def run(self):\n",
    "        # completar\n",
    "        pass\n",
    "\n",
    "\n",
    "class Cocinero(Thread):\n",
    "\n",
    "    def __init__(self, nombre: str, pedidos: deque, platos: deque, lock_pedidos: Lock, lock_platos: Lock,\n",
    "                 lock_print: Lock, pedidos_tomados_evt: Event, platos_cocinados_evt: Event):\n",
    "        # completar\n",
    "        self.nombre = nombre\n",
    "        self.platos = platos\n",
    "        self.pedidos = pedidos\n",
    "        self.lock_pedidos = lock_pedidos\n",
    "        self.lock_platos = lock_platos\n",
    "        self.lock_print = lock_print\n",
    "        self.pedidos_tomados_evt = pedidos_tomados_evt\n",
    "        self.platos_cocinados_evt = platos_cocinados_evt\n",
    "        self.daemon # completar\n",
    "\n",
    "    def run(self):\n",
    "        while True:\n",
    "            with self.lock_pedidos:\n",
    "                # completar\n",
    "                time.sleep(random.randint(2, 5))\n",
    "                with self.lock_platos:\n",
    "                    # completar\n",
    "                    pass\n",
    "            time.sleep(random.randint(0, 1)) # esto es para aleatorizar el cocinero que tomará el pedido\n",
    "\n",
    "\n",
    "class Garzon(Thread):\n",
    "\n",
    "    def __init__(self, nombre: str, platos: deque, lock_platos: Lock, lock_print: Lock,\n",
    "                 platos_cocinados_evt: Event, platos_entregados_evt: Event):\n",
    "        # completar\n",
    "        self.nombre = nombre\n",
    "        self.platos = platos\n",
    "        self.lock_platos = lock_platos\n",
    "        self.lock_print = lock_print\n",
    "        self.platos_cocinados_evt = platos_cocinados_evt\n",
    "        self.platos_entregados_evt = platos_entregados_evt\n",
    "        self.daemon # completar\n",
    "\n",
    "    def run(self):\n",
    "        while True:\n",
    "            with self.lock_platos:\n",
    "                # completar\n",
    "                time.sleep(random.randint(2, 5))\n",
    "                # completar\n",
    "            time.sleep(random.randint(0, 1)) # esto es para aleatorizar el garzón que tomará el pedido\n",
    "\n",
    "\n",
    "class Restoran:\n",
    "\n",
    "    def __init__(self, nombre_restoran: str):\n",
    "        self.nombre_restoran = nombre_restoran\n",
    "        self.pedidos = deque()\n",
    "        self.platos = deque()\n",
    "        self.lock_pedidos = None # completar\n",
    "        self.lock_platos = None # completar\n",
    "        self.pedidos_tomados_evt = None # completar\n",
    "        self.platos_cocinados_evt = None # completar\n",
    "        self.platos_entregados_evt = None # completar\n",
    "        self.garzones = []\n",
    "        self.cocineros = []\n",
    "\n",
    "    def abrir(self, nombre_archivo: str, nombre_gerente: str,\n",
    "              nombres_garzones: list, nombres_cocineros: list):\n",
    "        print(f\"¡Buenos días! Ya abrimos el restorán {self.nombre_restoran}\")\n",
    "        # completar\n",
    "        print(f\"¡Buenas noches! Ya cerramos el restorán {self.nombre_restoran}\")"
   ]
  },
  {
   "cell_type": "code",
   "execution_count": 25,
   "metadata": {},
   "outputs": [
    {
     "name": "stdout",
     "output_type": "stream",
     "text": [
      "¡Buenos días! Ya abrimos el restorán DCChef\n",
      "¡Buenas noches! Ya cerramos el restorán DCChef\n"
     ]
    }
   ],
   "source": [
    "garzones = [\"Julián\", \"Clemente\", \"Diego\", \"Julio\", \"Carlos\"]\n",
    "cocineros = [\"Hernán\", \"Dani\", \"Gatochico\", \"Dante\", \"Paqui\"]\n",
    "restoran = Restoran(\"DCChef\")\n",
    "restoran.abrir(\"data.csv\", \"Cata\", garzones, cocineros)"
   ]
  }
 ],
 "metadata": {
  "kernelspec": {
   "display_name": "Python 3",
   "language": "python",
   "name": "python3"
  },
  "language_info": {
   "codemirror_mode": {
    "name": "ipython",
    "version": 3
   },
   "file_extension": ".py",
   "mimetype": "text/x-python",
   "name": "python",
   "nbconvert_exporter": "python",
   "pygments_lexer": "ipython3",
   "version": "3.11.8"
  }
 },
 "nbformat": 4,
 "nbformat_minor": 2
}
