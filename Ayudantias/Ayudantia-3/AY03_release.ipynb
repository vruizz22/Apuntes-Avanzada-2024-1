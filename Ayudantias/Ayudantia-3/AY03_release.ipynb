{
 "cells": [
  {
   "cell_type": "markdown",
   "metadata": {
    "id": "N3CQTAx4jrK7"
   },
   "source": [
    "# Ayudantia 03:\n",
    "## Programación Orientada a Objetos 💾\n",
    "\n",
    "\n",
    "### Ayudantes 👾\n",
    "- Sección 1: [Julián García](https://github.com/JJJGGGG)\n",
    "- Sección 2: [Clemente Campos](https://github.com/mskdancers)\n",
    "- Sección 3: [Diego Toledo](https://github.com/diegoftpxd)\n",
    "- Sección 4: [Julio Huerta](https://github.com/Julius9)\n",
    "- Sección 5: [Carlos Olguín](https://github.com/CarlangaUC)"
   ]
  },
  {
   "cell_type": "markdown",
   "metadata": {
    "id": "WU6G_zygJDN-"
   },
   "source": [
    "## Introducción\n",
    "\n",
    "La programación orientada a objetos es un paradigma de programación basado en el concepto de clases y objetos, ademas de la interacción entre estos ultimos. Los objetos tiene atributos, los cuales son modificables bajo métodos del mismo objeto o en su interacción con otros. Ademas la POO fomenta la reutilización de codigo, buscando reducir la reescritura del mismo para lograr un mayor pragmatismo.\n",
    "\n",
    "La POO es en la actualidad soportada por diversos lenguajes de programación, entre ellos: C#, Java, Ruby y Python. Donde por ejemplo en Python todo lo existente en el lenguaje es un objeto\n",
    "\n"
   ]
  },
  {
   "cell_type": "markdown",
   "metadata": {
    "id": "yrG6MlMUkB6R"
   },
   "source": [
    "## Clases Abstractas\n",
    "\n",
    "Las clases abstractas son una herramienta útil para modelar un problema ya que nos permiten generar un tipo de molde para futuras clases. Es decir su objetivo no es ser instanciadas propiamente sino que servir para definir la estructura de otras clases.\n",
    "\n",
    "## Métodos Abstractos\n",
    "\n",
    "Es un método de una clase abstracta que no necesariamente tiene una implementación o definición, es decir que sólo se declara. La gracia de esto, es que los métodos debe ser sobreescritos en todas las clases que heredan de la clase abstracta, o de lo contrario se levantará un error.\n",
    "\n",
    "## Property\n",
    "En Python una property funciona como un atributo que posee un comportamiento personalizado al ser leído, seteado o eliminado. También puede ser visto como un método que se \"esconde u oculta\" como atributo. Son especialmente útiles para:\n",
    "\n",
    "* Controlar los valores de un atributo de manera más exacta, para que no se escape de cierto rango\n",
    "* Trabajar con atributos privados o internos\n",
    "* Ocultar un método para proteger información sensible, de tal forma que parezca un atributo y no una función\n",
    "\n",
    "\n"
   ]
  },
  {
   "cell_type": "markdown",
   "metadata": {
    "id": "UCWtNSjvTqo5"
   },
   "source": [
    "## La actividad: DesCCubriendo el mundo Pokemon (parte 1)\n",
    "\n",
    "El objetivo de esta ayudantía es modelar diferentes tipos de pokemones y sus comportamientos, para de esta forma poder simular un efrentamiento entre maestros pokemon.\n",
    "\n",
    "Por lo que, en primer lugar definiremos nuestra clase abstracta `Pokemon`, la cual sera el molde para todos los siguientes tipos elementales. Para lograr esto debemos:\n",
    "\n",
    "1. Definir la clase Pokemon como abstracta\n",
    "\n",
    "2. Definir los siguientes métodos como abstractos ya que cada tipo elemental de pokemon los implementará de diferente manera:\n",
    "  * `self.level_up`\n",
    "  * `self.ataque_especial`\n",
    "\n",
    "3. Ademas es necesario que `self.ataque_especial`sea definido como property (**Ojo**, es necesario que el decorador property se coloque antes del decorador del método abstracto)\n",
    "\n",
    "4. Definir una property que trabaje sobre el atributo privado `self.__hp`, junto a su `setter` que controle que este atributo no baje de 0\n",
    "\n",
    "5. Definir una property que trabaje sobre el atributo privado `self.__experiencia` que permita controlar la experiencia entre los valores 0 y 100. Además, cuando supere los 100 esta regresa a 0 y se llama a `self.level_up`\n",
    "\n",
    "6. Definir un método como property llamado `self.ataque` que calcula el daño que puede inflingir el pokemon a su rival. Primero esta property imprime el nombre del pokemon e indica que ha atacado con \"arañazo\". Ademas este daño puede ser crítico el cual recibe un bono multiplicador, pero esto depende del atributo `self.critico`, el cual representa la probabilidad de que se realice un ataque crítico. Si salta el ataque critico se debe retornar la multiplicación del `ataque_base` por el `multiplicador_crit` y en caso contrario solo se debe retornar el `ataque_base`."
   ]
  },
  {
   "cell_type": "code",
   "execution_count": 248,
   "metadata": {
    "id": "YREDDG3Qo_gj"
   },
   "outputs": [],
   "source": [
    "from abc import ABC, abstractmethod\n",
    "from random import random"
   ]
  },
  {
   "cell_type": "code",
   "execution_count": 249,
   "metadata": {
    "id": "NqZBhOknnR2B"
   },
   "outputs": [],
   "source": [
    "class Pokemon(ABC):\n",
    "\n",
    "    def __init__(self, nombre, hp, defensa, ataque_base, critico):\n",
    "        self.nombre = nombre\n",
    "        self.__hp = hp\n",
    "        self.defensa = defensa\n",
    "        self.ataque_base = ataque_base\n",
    "        self.critico = critico\n",
    "        self.multiplicador_crit = 1.5\n",
    "        self.__experiencia = 0\n",
    "        self.nivel = 1\n",
    "        self.debilitado = False\n",
    "\n",
    "    @abstractmethod  \n",
    "    def level_up(self):\n",
    "        self.nivel += 1\n",
    "        self.__hp += 10\n",
    "        self.defensa += 10\n",
    "        self.ataque_base += 10\n",
    "        print(f\"{self.nombre} ha subido de nivel!\")\n",
    "\n",
    "    @property\n",
    "    @abstractmethod \n",
    "    def ataque_especial(self):\n",
    "        pass\n",
    "\n",
    "    @property\n",
    "    def hp(self):\n",
    "        return self.__hp\n",
    "    \n",
    "    @hp.setter\n",
    "    def hp(self, value):\n",
    "        if value < 0:\n",
    "            self.__hp = 0\n",
    "        else:\n",
    "            self.__hp = value\n",
    "    \n",
    "    @property\n",
    "    def experiencia(self):\n",
    "        return self.__experiencia\n",
    "    \n",
    "    @experiencia.setter\n",
    "    def experiencia(self, value):\n",
    "        if value < 0:\n",
    "            self.__experiencia = 0\n",
    "        elif value > 100:\n",
    "            self.__experiencia = 100  \n",
    "        else:\n",
    "            self.__experiencia = value\n",
    "        \n",
    "    @property\n",
    "    def esta_ko(self):\n",
    "        return self.hp <= 0\n",
    "    \n",
    "    @property\n",
    "    def ataque(self):\n",
    "        print(f\"{self.nombre} ha atacado con: Arañazo!\")\n",
    "        if random() < self.critico:\n",
    "            self.ataque_base *= self.multiplicador_crit\n",
    "        return self.ataque_base        \n",
    "\n",
    "    def atacar(self, pokemon, es_especial):\n",
    "        if es_especial:\n",
    "            ataque = self.ataque_especial\n",
    "        else:\n",
    "            ataque = self.ataque\n",
    "\n",
    "        vida_antes = pokemon.hp\n",
    "\n",
    "\n",
    "        pokemon.recibir_ataque(ataque)\n",
    "        vida_despues = pokemon.hp\n",
    "        delta = vida_despues - vida_antes\n",
    "        print(f\"{pokemon.nombre} ha recibido {-delta} puntos de daño! Ahora tiene {pokemon.hp} puntos de vida\")\n",
    "\n",
    "        if pokemon.esta_ko and not pokemon.debilitado:\n",
    "            print(f\"{pokemon.nombre} se ha debilitado!\")\n",
    "            self.experiencia += 70\n",
    "            pokemon.debilitado = True\n",
    "\n",
    "    def recibir_ataque(self, ataque):\n",
    "        dano = ataque - self.defensa\n",
    "        self.hp -= dano"
   ]
  },
  {
   "cell_type": "markdown",
   "metadata": {
    "id": "XaqhmEm9rClb"
   },
   "source": [
    "Las clases abstractas no se pueden instanciar. Veremos qué pasa si intentamos crear un Rattata instanciando la clase `Pokemon`"
   ]
  },
  {
   "cell_type": "markdown",
   "metadata": {
    "id": "zigB3IlDUl4W"
   },
   "source": [
    "## Herencia\n",
    "\n",
    "Como ya mencionamos la POO fomenta la reutilización de codigo y uno de las principales formas de hacerlo es la **Herencia**. Con ella podemos crear nuevas clases basadas en otras ya existentes y de esta forma evitamos el tener que declarar todos los atributos y métodos que ya existen, pues estos son pasados *mágicamente* a la clase hija.\n",
    "\n",
    "Un ejemplo biológico puede ser la clase `mamifero` a la que se define que sus instancias tienen 5 dedos en cada extremidad. Si un animal hereda de este `mamifero`, entonces también tendrá 5 dedos; como ocurre con los primates, los murciélagos y las ballenas.\n",
    "\n",
    "Por otro lado, un ejemplo de un posible método de la clase `mamifero` es el de `desplazamiento`, pues estos a diferencia de las plantas tienen la capacidad de moverse en su medio"
   ]
  },
  {
   "cell_type": "markdown",
   "metadata": {
    "id": "oDaTj5yIUopA"
   },
   "source": [
    "## Polimorfismo\n",
    "\n",
    "\"Es la capacidad que tienen ciertos lenguajes para hacer que, al enviar el mismo mensaje a distintos objetos, cada uno de esos objetos pueda responder a ese mensaje\"\n",
    "\n",
    "Si bien la definición formal puede ser un poco dificil, el polimorfismo es basicamente la capacidad que tienen los objetos de responder de diferente forma a la invocación de un método. Podemos verlo de mejor manera en dos ejemplos:\n",
    "\n",
    "* Siguiendo el ejemplo de los `mamiferos`, si bien cada instancia tiene la capacidad de desplazarse, se ejecuta de diferente forma; así pues el murciélago vuela, la ballena nada y el primate camina\n",
    "\n",
    "* También podemos verlo en el caso de los estudios: imaginemos que tenemos una instancia de un estudiante de sociales y un estudiante de ingeniería. De esta forma al ejecutar el método `estudiar` el estudiante de sociales leerá 100 páginas de diferentes libros y el estudiante de ingeniería resolverá unas entretenidas integrales\n",
    "\n",
    "En este curso nos centraremos en el **overriding**, el cual se trata basicamente de redefinir en la clase hija un método que ya existe en la clase madre"
   ]
  },
  {
   "cell_type": "markdown",
   "metadata": {
    "id": "M8UL2XblkIHX"
   },
   "source": [
    "## DesCCubriendo el mundo Pokemon (parte 2)\n",
    "\n",
    "Aplicaremos los conceptos visto a la especialización de nuestros pokemones en los diferentes tipos elementales, crearemos entonces los siguientes: el tipo planta, el tipo agua y el tipo fuego.\n",
    "\n",
    "1. `TipoPlanta`\n",
    "\n",
    "  * Esta hereda de la clase abstracta `Pokemon` y ademas en su inicializador recibe un argumento llamado `defensa_especial`, el cual debe ser seteado en un atributo del mismo nombre. Ademas, se debe llamar al inicializador de la clase madre y entregarle sus atributos correspondientes (**HINT**: debes usar `**kwargs`)\n",
    "\n",
    "  * Se **sobreescribe** el método abstracto `level_up`, el cual realiza lo mismo que el método de su clase padre, pero ademas aumenta en 10 su defensa especial\n",
    "\n",
    "  * Se **sobreescribe** la property abstracta `ataque_especial` y se debe imprimir `\"{self.nombre} reune energia... y lanza un RAYO SOLAR\"` ademas de retornar la multiplicación del `ataque_base`, el `multiplicador_crit` y el `nivel`\n",
    "\n",
    "  * Se **sobreescribe** el método `recibir_ataque`. El daño real se calcula retornando el ataque, menos la defensa y menos la multiplicacion de la defensa especial por el nivel. Finalmente el resultado es restado al atributo `hp`  "
   ]
  },
  {
   "cell_type": "code",
   "execution_count": 250,
   "metadata": {
    "id": "uPyw_p5Vqw0z"
   },
   "outputs": [],
   "source": [
    "class TipoPlanta(Pokemon):\n",
    "    \n",
    "    def __init__(self, defensa_especial, **kwargs):\n",
    "        super().__init__(**kwargs)\n",
    "        self.__defensa_especial = defensa_especial\n",
    "        \n",
    "    @property\n",
    "    def defensa_especial(self):\n",
    "        return self.__defensa_especial\n",
    "    \n",
    "    def level_up(self):\n",
    "        self.__defensa_especial += 10\n",
    "        super().level_up()\n",
    "    \n",
    "    @property\n",
    "    def ataque_especial(self):\n",
    "        print(f\"{self.nombre} reune energia... y lanza un RAYO SOLAR\")\n",
    "        return self.ataque_base * self.multiplicador_crit\n",
    "\n",
    "    def recibir_ataque(self, ataque):\n",
    "        return super().recibir_ataque(ataque)\n",
    "    "
   ]
  },
  {
   "cell_type": "markdown",
   "metadata": {
    "id": "CPXSgW7nq0-C"
   },
   "source": [
    "2. `TipoFuego`\n",
    "\n",
    "  * Esta hereda de la clase abstracta `Pokemon` y ademas en su inicializador recibe un argumento llamado `ataque_especial`, el cual debe ser seteado en un atributo **privado** del mismo nombre. Además, se debe llamar al inicializador de la clase madre y entregarle sus atributos correspondientes (**HINT**: debes usar `**kwargs`)\n",
    "\n",
    "  * Se **sobreescribe** el método abstracto `level_up`, el cual realiza lo mismo que el método de su clase padre, pero ademas aumenta en 10 su ataque especial\n",
    "\n",
    "  * Se **sobreescribe** la property abstracta `ataque_especial` y se debe imprimir `\"{self.nombre} respira profundo... y ataca con LANZALLAMAS\"` además de retornar la multiplicación del `ataque_base`, el `multiplicador_crit` y el `nivel`, sumado a la multiplicación del `_ataque_especial` por el `nivel`\n",
    "\n",
    "  * Se **sobreescribe** la property `ataque` cuya diferencia con la property base del `Pokemon`, es que en caso de ser crítico además se le debe sumar `(self._ataque_especial + self.nivel)`"
   ]
  },
  {
   "cell_type": "code",
   "execution_count": 251,
   "metadata": {
    "id": "M34hbSSOmn_t"
   },
   "outputs": [],
   "source": [
    "class TipoFuego(Pokemon):\n",
    "    \n",
    "    def __init__(self, ataque_especial, **kwargs):\n",
    "        super().__init__(**kwargs)\n",
    "        self.__ataque_especial = ataque_especial\n",
    "    \n",
    "    @property\n",
    "    def ataque_especial(self):\n",
    "        return self.__ataque_especial\n",
    "    \n",
    "    def level_up(self):\n",
    "        self.__ataque_especial += 10\n",
    "        super().level_up()\n",
    "    \n",
    "    @property\n",
    "    def ataque_especial(self):\n",
    "        print(f\"{self.nombre} respira profundo... y ataca con LANZALLAMAS\")\n",
    "        return self.ataque_base * self.multiplicador_crit * self.nivel + self.__ataque_especial * self.nivel\n",
    "    \n",
    "    @property\n",
    "    def ataque(self):\n",
    "        print(f\"{self.nombre} ha atacado con: Arañazo!\")\n",
    "        if random() < self.critico:\n",
    "            self.ataque_base *= self.multiplicador_crit\n",
    "            self.ataque_base += self.__ataque_especial + self.nivel\n",
    "        return self.ataque_base"
   ]
  },
  {
   "cell_type": "markdown",
   "metadata": {
    "id": "xjlzbeBZq5Bl"
   },
   "source": [
    "3. `TipoAgua`\n",
    "\n",
    "  * Esta hereda de la clase abstracta `Pokemon` y ademas en su inicializador recibe un multiplicador de critico diferente, este debe ser seteado al atributo `multiplicador_crit`. Además, se debe llamar al inicializador de la clase madre y entregarle sus atributos correspondientes (**HINT**: debes usar `**kwargs`)\n",
    "\n",
    "  * Se **sobreescribe** el método abstracto `level_up`, el cual realiza lo mismo que el método de su clase padre, pero además aumenta su multiplicador de crítico en un 0.1\n",
    "\n",
    "  * Se **sobreescribe** la property abstracta `ataque_especial` y se debe imprimir `\"{self.nombre} respira profundo... y ataca con HIDROBOMBA\"` además de retornar la multiplicación del `ataque_base`, el `multiplicador_crit` y el `nivel`"
   ]
  },
  {
   "cell_type": "code",
   "execution_count": 252,
   "metadata": {
    "id": "inBH0ekEq7Po"
   },
   "outputs": [],
   "source": [
    "class TipoAgua(Pokemon):\n",
    "    def __init__(self, multiplicador_crit, **kwargs):\n",
    "        super().__init__(**kwargs)\n",
    "        self.multiplicador_crit = multiplicador_crit\n",
    "        \n",
    "    def level_up(self):\n",
    "        self.multiplicador_crit += 0.1\n",
    "        super().level_up()\n",
    "    \n",
    "    @property\n",
    "    def ataque_especial(self):\n",
    "        print(f\"{self.nombre} respira profundo... y ataca con HIDROBOMBA\")\n",
    "        return self.ataque_base * self.multiplicador_crit * self.nivel\n",
    "    "
   ]
  },
  {
   "cell_type": "markdown",
   "metadata": {
    "id": "gR9ovN6H0qHc"
   },
   "source": [
    "Luego podemos definir los pokemons iniciales de la primera generación"
   ]
  },
  {
   "cell_type": "code",
   "execution_count": 253,
   "metadata": {
    "id": "M83Q7kADmnOk"
   },
   "outputs": [],
   "source": [
    "class Squirtle(TipoAgua):\n",
    "    def __init__(self):\n",
    "        super().__init__(nombre=\"Squirtle\", hp=50, defensa=18, ataque_base=25, critico=1/8, multiplicador_crit=2)\n",
    "\n",
    "class Charmander(TipoFuego):\n",
    "    def __init__(self):\n",
    "        super().__init__(nombre=\"Charmander\", hp=50, defensa=15, ataque_base=30, critico=1/8, ataque_especial=5)\n",
    "\n",
    "class Bulbasaur(TipoPlanta):\n",
    "    def __init__(self):\n",
    "        super().__init__(nombre=\"Bulbasaur\", hp=50, defensa=13, ataque_base=28, critico=1/8, defensa_especial=5)"
   ]
  },
  {
   "cell_type": "markdown",
   "metadata": {
    "id": "DWacXzFQ144P"
   },
   "source": [
    "Hacemos un pequeño enfrentamiento para corroborar que todo esta Okey"
   ]
  },
  {
   "cell_type": "code",
   "execution_count": 254,
   "metadata": {
    "colab": {
     "base_uri": "https://localhost:8080/"
    },
    "id": "fNnSol5S-M5g",
    "outputId": "5e569dee-e810-46c2-c399-35845dc7c62d"
   },
   "outputs": [
    {
     "name": "stdout",
     "output_type": "stream",
     "text": [
      "Bulbasaur ha atacado con: Arañazo!\n",
      "Squirtle ha recibido 10 puntos de daño! Ahora tiene 40 puntos de vida\n"
     ]
    }
   ],
   "source": [
    "s = Bulbasaur()\n",
    "\n",
    "c = Squirtle()\n",
    "\n",
    "s.atacar(c, False)\n",
    "\n"
   ]
  },
  {
   "cell_type": "markdown",
   "metadata": {
    "id": "Af0yJYXRkwLI"
   },
   "source": [
    "## Multiherencia\n",
    "\n",
    "Finalmente también tenemos la capacidad de multiheredar clases, lo cual nos interesa cuando queremos tener una objeto con el comportamiento de dos clases diferentes. En nuestro ejemplo de los animales, desearíamos que una `Ballena` herede tanto de `Mamifero` como `AnimalAcuatico`. Mientras que en el caso de los estudiantes tambien se puede dar alguien que este haciendo carreras paralelas.\n",
    "\n",
    "\n",
    "Sin embargo hay que tener ciertos cuidados y consideraciones especiales cuando trabajamos con la multiherencia, ya que nuestro objeto podría tener comportamientos no deseados."
   ]
  },
  {
   "cell_type": "markdown",
   "metadata": {
    "id": "ix12jRuNnHPU"
   },
   "source": [
    "## DesCCubriendo el mundo Pokemon (parte 3)\n",
    "\n",
    "Finalmente tambien queremos simular el caso de los pokemones con dos tipos elementales, un momento perfecto para utilizar la multiherencia. Queremos crear un Lotad que hereda de los tipos Agua y Planta. Para realizar esto debemos tener cuidado en pasar los argumentos necesarios para los constructores de cada clase. Los argumentos son:\n",
    "\n",
    "* nombre = \"Lotad\"\n",
    "* hp = 50\n",
    "* defensa = 18\n",
    "* ataque_base = 20\n",
    "* critico = 1/8\n",
    "* multiplicador_crit = 2\n",
    "* defensa_especial = 5"
   ]
  },
  {
   "cell_type": "markdown",
   "metadata": {
    "id": "0ofBeBnCyLxF"
   },
   "source": [
    "Pero nuestro Lotad solo realiza el ataque especial de los tipo planta, cuando nosotros también queríamos que lanzara la hidrobomba de los tipo agua :("
   ]
  },
  {
   "cell_type": "markdown",
   "metadata": {
    "id": "vP9-p5rWx8lk"
   },
   "source": [
    "## ¿Por que pasa esto?\n",
    "\n"
   ]
  },
  {
   "cell_type": "markdown",
   "metadata": {
    "id": "PLBUOzB4ywiA"
   },
   "source": [
    "*En un sencillo resumen:* al trabajar con multiherencia, la clase que hereda tiene varias clases desde donde \"sacar\" el método el cual se esta llamando, por lo que cuando se crea una clase, Python construye un mapa de resolución de conflictos a la hora de llamar al método, el `mro`"
   ]
  },
  {
   "cell_type": "markdown",
   "metadata": {
    "id": "SiFob-c7zi5C"
   },
   "source": [
    "Como vemos en este caso, cuando se llama al método `ataque_especial`, Python baja por las clases hasta encontrarlo y luego lo retorna. Como en este caso el `TipoPlanta` esta un nivel más arriba que el `TipoAgua`, Python lo encuentra y lo retorna y con esto se termina el método."
   ]
  },
  {
   "cell_type": "markdown",
   "metadata": {
    "id": "28kJBG-o0IQY"
   },
   "source": [
    "## ¿Como lo solucionamos?\n",
    "\n",
    "Entonces, en el caso de que queramos que nuestro pokemon realize una combinación de los dos ataques especiales correspondientes a cada tipo debemos llamar a super con argumentos extra.\n",
    "\n",
    "Al llamar a `super()` buscaremos el método partiendo en la clase siguiente a `Lotad` en el `mro` (en este caso `TipoPlanta`), mientras que al llamar a `super(TipoPlanta, self)` se partirá en la clase siguiente a `TipoPlanta`(en este caso, `TipoAgua`). Así, podemos realizar un promedio entre los ataques especiales del tipo planta y del tipo agua, por lo que nuestro Lotad lanzara una mezcla entre rayo solar y hidrobomba :)"
   ]
  },
  {
   "cell_type": "code",
   "execution_count": 257,
   "metadata": {
    "colab": {
     "base_uri": "https://localhost:8080/"
    },
    "id": "jkGdUj7504Hr",
    "outputId": "d620eb3a-956d-4040-fb17-762319b8f174"
   },
   "outputs": [
    {
     "name": "stdout",
     "output_type": "stream",
     "text": [
      "<built-in method mro of ABCMeta object at 0x0000028F1B7527B0>\n",
      "Lotad reune energia... y lanza un RAYO SOLAR\n",
      "Lotad respira profundo... y ataca con HIDROBOMBA\n"
     ]
    },
    {
     "data": {
      "text/plain": [
       "50.0"
      ]
     },
     "execution_count": 257,
     "metadata": {},
     "output_type": "execute_result"
    }
   ],
   "source": [
    "class Lotad(TipoPlanta, TipoAgua):\n",
    "    def __init__(self, defensa_especial, **kwargs):\n",
    "        super().__init__(defensa_especial, **kwargs)\n",
    "\n",
    "    @property\n",
    "    def ataque_especial(self):\n",
    "        return (super().ataque_especial + super(TipoPlanta, self).ataque_especial) / 2\n",
    "\n",
    "print(Lotad.mro)\n",
    "l = Lotad(defensa_especial= 5, nombre=\"Lotad\", hp=50, defensa=18, ataque_base=25, critico=1/8, multiplicador_crit=2)\n",
    "l.ataque_especial"
   ]
  },
  {
   "cell_type": "markdown",
   "metadata": {
    "id": "pr3OKEvVoUzT"
   },
   "source": [
    "## DCCombate Pokémon!\n",
    "\n",
    "Ahora haremos luchar a nuestros pokemones con las clases que ya hicimos. Disfruten!"
   ]
  },
  {
   "cell_type": "code",
   "execution_count": 256,
   "metadata": {
    "id": "beK27mCNzzju"
   },
   "outputs": [
    {
     "ename": "ValueError",
     "evalue": "rate must be specified when data is a numpy array or list of audio samples.",
     "output_type": "error",
     "traceback": [
      "\u001b[1;31m---------------------------------------------------------------------------\u001b[0m",
      "\u001b[1;31mValueError\u001b[0m                                Traceback (most recent call last)",
      "Cell \u001b[1;32mIn[256], line 3\u001b[0m\n\u001b[0;32m      1\u001b[0m \u001b[38;5;28;01mfrom\u001b[39;00m \u001b[38;5;21;01mIPython\u001b[39;00m\u001b[38;5;21;01m.\u001b[39;00m\u001b[38;5;21;01mdisplay\u001b[39;00m \u001b[38;5;28;01mimport\u001b[39;00m Audio\n\u001b[1;32m----> 3\u001b[0m battle \u001b[38;5;241m=\u001b[39m \u001b[43mAudio\u001b[49m\u001b[43m(\u001b[49m\u001b[38;5;124;43m\"\u001b[39;49m\u001b[38;5;124;43m./pokemon_sounds/Battle_Sound.mp3\u001b[39;49m\u001b[38;5;124;43m\"\u001b[39;49m\u001b[43m,\u001b[49m\u001b[43m \u001b[49m\u001b[43mautoplay\u001b[49m\u001b[38;5;241;43m=\u001b[39;49m\u001b[38;5;28;43;01mTrue\u001b[39;49;00m\u001b[43m)\u001b[49m\n\u001b[0;32m      4\u001b[0m victory \u001b[38;5;241m=\u001b[39m Audio(\u001b[38;5;124m\"\u001b[39m\u001b[38;5;124m./pokemon_sounds/victory.mp3\u001b[39m\u001b[38;5;124m\"\u001b[39m, autoplay\u001b[38;5;241m=\u001b[39m\u001b[38;5;28;01mTrue\u001b[39;00m)\n\u001b[0;32m      6\u001b[0m attack \u001b[38;5;241m=\u001b[39m Audio(\u001b[38;5;124m\"\u001b[39m\u001b[38;5;124m./pokemon_sounds/attack.wav\u001b[39m\u001b[38;5;124m\"\u001b[39m, autoplay\u001b[38;5;241m=\u001b[39m\u001b[38;5;28;01mTrue\u001b[39;00m)\n",
      "File \u001b[1;32m~\\AppData\\Roaming\\Python\\Python311\\site-packages\\IPython\\lib\\display.py:129\u001b[0m, in \u001b[0;36mAudio.__init__\u001b[1;34m(self, data, filename, url, embed, rate, autoplay, normalize, element_id)\u001b[0m\n\u001b[0;32m    127\u001b[0m \u001b[38;5;28;01mif\u001b[39;00m \u001b[38;5;28mself\u001b[39m\u001b[38;5;241m.\u001b[39mdata \u001b[38;5;129;01mis\u001b[39;00m \u001b[38;5;129;01mnot\u001b[39;00m \u001b[38;5;28;01mNone\u001b[39;00m \u001b[38;5;129;01mand\u001b[39;00m \u001b[38;5;129;01mnot\u001b[39;00m \u001b[38;5;28misinstance\u001b[39m(\u001b[38;5;28mself\u001b[39m\u001b[38;5;241m.\u001b[39mdata, \u001b[38;5;28mbytes\u001b[39m):\n\u001b[0;32m    128\u001b[0m     \u001b[38;5;28;01mif\u001b[39;00m rate \u001b[38;5;129;01mis\u001b[39;00m \u001b[38;5;28;01mNone\u001b[39;00m:\n\u001b[1;32m--> 129\u001b[0m         \u001b[38;5;28;01mraise\u001b[39;00m \u001b[38;5;167;01mValueError\u001b[39;00m(\u001b[38;5;124m\"\u001b[39m\u001b[38;5;124mrate must be specified when data is a numpy array or list of audio samples.\u001b[39m\u001b[38;5;124m\"\u001b[39m)\n\u001b[0;32m    130\u001b[0m     \u001b[38;5;28mself\u001b[39m\u001b[38;5;241m.\u001b[39mdata \u001b[38;5;241m=\u001b[39m Audio\u001b[38;5;241m.\u001b[39m_make_wav(data, rate, normalize)\n",
      "\u001b[1;31mValueError\u001b[0m: rate must be specified when data is a numpy array or list of audio samples."
     ]
    }
   ],
   "source": [
    "from IPython.display import Audio\n",
    "\n",
    "battle = Audio(\"./pokemon_sounds/Battle_Sound.mp3\", autoplay=True)\n",
    "victory = Audio(\"./pokemon_sounds/victory.mp3\", autoplay=True)\n",
    "\n",
    "attack = Audio(\"./pokemon_sounds/attack.wav\", autoplay=True)\n",
    "special_attack = Audio(\"./pokemon_sounds/special_attack.mp3\", autoplay=True)\n",
    "send_pokemon = Audio(\"./pokemon_sounds/send_pokemon.wav\", autoplay=True)"
   ]
  },
  {
   "cell_type": "code",
   "execution_count": null,
   "metadata": {
    "id": "Qih1XPrZRH1H",
    "scrolled": false
   },
   "outputs": [],
   "source": [
    "from time import sleep\n",
    "from random import choice, shuffle\n",
    "from IPython.display import Audio, display, HTML, update_display, clear_output\n",
    "import sys\n",
    "\n",
    "turn_time = 6\n",
    "intro_time = 6\n",
    "outro_time = 20\n",
    "\n",
    "audio_style = \"<style>audio { width: 0; height: 0; }</style>\"\n",
    "display(HTML(audio_style))\n",
    "\n",
    "pokemons = [choice([Lotad, Bulbasaur, Squirtle, Charmander])(), choice([Lotad, Bulbasaur, Squirtle, Charmander])()]\n",
    "\n",
    "shuffle(pokemons)\n",
    "\n",
    "battle_handle = display(battle, display_id=\"battle\")\n",
    "battle_handle\n",
    "\n",
    "sleep(intro_time)\n",
    "\n",
    "print(\"Ash desafía a Gary!\")\n",
    "\n",
    "sleep(turn_time)\n",
    "\n",
    "display(send_pokemon)\n",
    "display(Audio(f\"./pokemon_sounds/{pokemons[0].nombre}.mp3\", autoplay=True))\n",
    "print(f\"Ash envía a {pokemons[0].nombre}!\")\n",
    "\n",
    "sleep(turn_time)\n",
    "\n",
    "display(send_pokemon)\n",
    "display(Audio(f\"./pokemon_sounds/{pokemons[1].nombre}.mp3\", autoplay=True))\n",
    "print(f\"Gary envía a {pokemons[1].nombre}!\")\n",
    "\n",
    "sleep(turn_time)\n",
    "\n",
    "while not pokemons[0].esta_ko and not pokemons[1].esta_ko:\n",
    "    if not pokemons[1].esta_ko:\n",
    "        special = choice([False, True])\n",
    "        if not special:\n",
    "            display(attack)\n",
    "        else:\n",
    "            display(special_attack)\n",
    "        pokemons[0].atacar(pokemons[1], special)\n",
    "\n",
    "        print()\n",
    "\n",
    "    sleep(turn_time)\n",
    "\n",
    "    if not pokemons[0].esta_ko and not pokemons[1].esta_ko:\n",
    "        special = choice([False, True])\n",
    "        if not special:\n",
    "            display(attack)\n",
    "        else:\n",
    "            display(special_attack)\n",
    "        pokemons[1].atacar(pokemons[0], special)\n",
    "\n",
    "        print()\n",
    "\n",
    "    sleep(turn_time)\n",
    "\n",
    "for i, pokemon in enumerate(pokemons):\n",
    "    if not pokemon.esta_ko:\n",
    "        display(Audio(f\"./pokemon_sounds/{pokemons[int(not i)].nombre}.mp3\", autoplay=True))\n",
    "\n",
    "        sleep(turn_time)\n",
    "        battle_handle.update(victory)\n",
    "\n",
    "        print(f'{[\"Ash\", \"Gary\"][i]} ha ganado!')\n",
    "\n",
    "\n",
    "sleep(outro_time)\n",
    "clear_output()"
   ]
  }
 ],
 "metadata": {
  "colab": {
   "provenance": []
  },
  "kernelspec": {
   "display_name": "Python 3 (ipykernel)",
   "language": "python",
   "name": "python3"
  },
  "language_info": {
   "codemirror_mode": {
    "name": "ipython",
    "version": 3
   },
   "file_extension": ".py",
   "mimetype": "text/x-python",
   "name": "python",
   "nbconvert_exporter": "python",
   "pygments_lexer": "ipython3",
   "version": "3.11.7"
  }
 },
 "nbformat": 4,
 "nbformat_minor": 1
}
