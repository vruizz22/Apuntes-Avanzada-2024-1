{
 "cells": [
  {
   "cell_type": "markdown",
   "metadata": {},
   "source": [
    "## Ayudantía 7: Interfaces Gráficas II 💻🏃‍♂️​\n",
    "\n",
    "### Ayudantes 👾\n",
    "- Sección 1: [Julián García](https://github.com/JJJGGGG)\n",
    "- Sección 2: [Clemente Campos](https://github.com/mskdancers)\n",
    "- Sección 3: [Diego Toledo](https://github.com/diegoftpxd)\n",
    "- Sección 4: [Julio Huerta](https://github.com/Julius9)\n",
    "- Sección 5: [Carlos Olguín](https://github.com/CarlangaUC)\n",
    "\n",
    "### 📖 Contenidos 📖\n",
    "En esta ayudantía usaremos:\n",
    "- Qthreads para generar diversos procesos en PyQt.\n",
    "- QTimers para generar procesos cada cierto tiempo.\n",
    "- Uso de señales en conjunto a subprocesos.\n",
    "- Uso de MainWindow.\n",
    "\n",
    "\n",
    "### Introducción\n",
    "\n",
    "Anteriormente ya vimos la utilidad y alcanze de PyQt, pero es valido preguntarse como es posible generar diversos comportamientos en un programa mas grande, recordemos el uso de threads y mas aún, aplicado a PyQt, nos encontramos con QThreads y Qtimers, que nos ayudaran a generar un comportamiento mas complejo e idoneo para programas mas complejos.\n",
    "\n",
    "Sumado a esto nos encontraremos con nuevas capas de PyQt como pueden ser las señales en combinacion a los Qthreads/Qtimers y la MainWindow."
   ]
  },
  {
   "cell_type": "markdown",
   "metadata": {
    "id": "_VhrKGZeuByg"
   },
   "source": [
    "# Qthreads\n",
    "\n",
    "Al igual que anteriormente empleabamos *Threads* usualmente, PyQt trae su propia implementacion de estos con metodos muy similes pero de distinta notacion e inclusive distinta implementacion, aqui un resumen de los mas relevante:\n",
    "\n",
    "- Para implementar la ``funcion objetivo`` que empleabamos anteriormente, ahora tendremos que heredar de la clase **Qthread** de **PyQt** y sobreescribir su funcion **run()**\n",
    "- Al emplear PyQt es recomendable (**haganlo**), emplear su uso en justamente el modulo **PyQt**\n",
    "- ``Qthreads`` heredan de la clase ``PyQt``\n",
    "- Estos no pueden ser vueltos ``daemon``, importante considerar al momento de pensar el flujo de tu programa.\n",
    "- ``Qthreads`` se corre con **.start()** (igual que el **.start()** de los Threads).\n",
    "- Para ver si un ``Qthread`` esta vivo se emplea **.is_running()** (simil con **.is_alive()** de los Threads).\n",
    "\n",
    "\n",
    "Si quieres ver mas metodos y aplicaciones 👀​:\n",
    "[Mas info](https://doc.qt.io/qtforpython-6/PySide6/QtCore/QThread.html)\n"
   ]
  },
  {
   "cell_type": "markdown",
   "metadata": {},
   "source": [
    "# Qtimers\n",
    "\n",
    "Como anteriormente se adelanto, los Qtimers son ``Qthreads`` pero con la diferencia que al asignarle un parametro de tiempo estos ejecutaran su funcion **run** cada cierto tiempo anteriormente asignado. (**¡Utiles para comportamiento periodico! 👌​**). Nuevamente aca algunos metodos relevantes:\n",
    "- **.start()** y **.stop.()** permite iniciar y parar el timer, respectivamente.\n",
    "- **setInterval(ms: int)** define cada cuanto el ``timer`` debe emitir la señal timeout cada ms milisegundos. (**IMPTE**)\n",
    "- timeout: es la **señal** que llama el timer cuando termina el intervalo de tiempo. En conjunto con el método ``connect`` para conectarlo a alguna función. (**IMPTE**)\n",
    "- **.isActive()** permite saber si el timer está actualmente corriendo (análogo a **isRunning** e **is_alive** anteriormente vistos).\n",
    "- **setSingleShot(singleShot: bool)** permite definir si el timer es de tipo singleShot (entregando como parámetro True). Que un timer sea singleShot significa que, al pasar el intervalo de tiempo, el timer se detendrá (es decir, no cicla indefinidamente). (**Util en ciertos casos**)\n",
    "\n",
    "\n",
    "Si quieres ver mas metodos y aplicaciones 👀​:\n",
    "[Mas info](https://doc.qt.io/qtforpython-5/PySide2/QtCore/QTimer.html)"
   ]
  },
  {
   "cell_type": "markdown",
   "metadata": {},
   "source": [
    "### FLUJO\n",
    "\n",
    "Recordar que buscaremos trabajar con eventos, señales y los Qthreads/Qtimers, para un mejor entendimiento de todo el flujo del programa recordar siempre como esta funcionando, aca un diagrama para mejor entendimiento. \n",
    "\n",
    "![IMAGEN](img/DIAGRAMA.png)"
   ]
  },
  {
   "cell_type": "markdown",
   "metadata": {},
   "source": [
    "# MainWindow"
   ]
  },
  {
   "cell_type": "markdown",
   "metadata": {},
   "source": [
    "Anteriormente ya vimos QWidgets, Qlabels y demas objetos de Pyqt...\n",
    "\n",
    "Ahora veremos uno mas pero que presenta propiedades que nos podrian interesar dado ciertas circunstancias.\n",
    "\n",
    "La ``MainWindow`` como ya se menciono es un widget mas que presenta una estructura ``fija`` con un orden ya existente que permite generar ventanas de manera mas 'estandar', aca un diagrama:"
   ]
  },
  {
   "cell_type": "markdown",
   "metadata": {},
   "source": [
    "![Mainwindow](img/mainwindowlayout.png)\n"
   ]
  },
  {
   "cell_type": "markdown",
   "metadata": {},
   "source": [
    "Algunos (no todos, para mas revisar **documentacion**) metodos de ``MainWindow`` son:\n",
    "\n",
    "- **self.menubar()** : Agrega una barra de menú al MainWidget. Sobre esta podemos utilizar addMenu() para agregar un menú.\n",
    "\n",
    "- **setCentralWidget(widget)** : Asigna el cuerpo de la ventana.\n",
    "\n",
    "- **showMessage(msg)** : Actualiza el mensaje en la barra de estado.\n",
    "\n",
    "- ...\n",
    "\n",
    "Para mas info [AQUI](https://www.pythontutorial.net/pyqt/pyqt-qmainwindow/)"
   ]
  },
  {
   "cell_type": "markdown",
   "metadata": {},
   "source": []
  }
 ],
 "metadata": {
  "colab": {
   "provenance": []
  },
  "kernelspec": {
   "display_name": "Python 3 (ipykernel)",
   "language": "python",
   "name": "python3"
  },
  "language_info": {
   "codemirror_mode": {
    "name": "ipython",
    "version": 3
   },
   "file_extension": ".py",
   "mimetype": "text/x-python",
   "name": "python",
   "nbconvert_exporter": "python",
   "pygments_lexer": "ipython3",
   "version": "3.10.11"
  }
 },
 "nbformat": 4,
 "nbformat_minor": 4
}
