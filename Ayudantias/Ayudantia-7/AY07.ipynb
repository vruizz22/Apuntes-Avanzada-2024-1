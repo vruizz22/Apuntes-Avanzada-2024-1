{
 "cells": [
  {
   "cell_type": "markdown",
   "metadata": {},
   "source": [
    "## Ayudantía 7: Interfaces Gráficas II 💻🏃‍♂️​\n",
    "\n",
    "### Ayudantes 👾\n",
    "- Sección 1: [Julián García](https://github.com/JJJGGGG)\n",
    "- Sección 2: [Clemente Campos](https://github.com/mskdancers)\n",
    "- Sección 3: [Diego Toledo](https://github.com/diegoftpxd)\n",
    "- Sección 4: [Julio Huerta](https://github.com/Julius9)\n",
    "- Sección 5: [Carlos Olguín](https://github.com/CarlangaUC)\n",
    "\n",
    "### 📖 Contenidos 📖\n",
    "En esta ayudantía usaremos:\n",
    "- Qthreads para generar diversos procesos en PyQt.\n",
    "- QTimers para generar procesos cada cierto tiempo.\n",
    "- Uso de señales en conjunto a subprocesos.\n",
    "- Uso de MainWindow.\n",
    "\n",
    "\n",
    "### Introducción\n",
    "\n",
    "Anteriormente ya vimos la utilidad y alcanze de PyQt, pero es valido preguntarse como es posible generar diversos comportamientos en un programa mas grande, recordemos el uso de threads y mas aún, aplicado a PyQt, nos encontramos con QThreads y Qtimers, que nos ayudaran a generar un comportamiento mas complejo e idoneo para programas mas complejos.\n",
    "\n",
    "Sumado a esto nos encontraremos con nuevas capas de PyQt como pueden ser las señales en combinacion a los Qthreads/Qtimers y la MainWindow."
   ]
  },
  {
   "cell_type": "markdown",
   "metadata": {
    "id": "_VhrKGZeuByg"
   },
   "source": [
    "# Qthreads\n",
    "\n",
    "Al igual que anteriormente empleabamos *Threads* usualmente, PyQt trae su propia implementacion de estos con metodos muy similes pero de distinta notacion e inclusive distinta implementacion, aqui un resumen de los mas relevante:\n",
    "\n",
    "- Para implementar la ``funcion objetivo`` que empleabamos anteriormente, ahora tendremos que heredar de la clase **Qthread** de **PyQt** y sobreescribir su funcion **run()**\n",
    "- Al emplear PyQt es recomendable (**haganlo**), emplear su uso en justamente el modulo **PyQt**\n",
    "- ``Qthreads`` heredan de la clase ``PyQt``\n",
    "- Estos no pueden ser vueltos ``daemon``, importante considerar al momento de pensar el flujo de tu programa.\n",
    "- ``Qthreads`` se corre con **.start()** (igual que el **.start()** de los Threads).\n",
    "- Para ver si un ``Qthread`` esta vivo se emplea **.is_running()** (simil con **.is_alive()** de los Threads).\n",
    "\n",
    "\n",
    "Si quieres ver mas metodos y aplicaciones 👀​:\n",
    "[Mas info](https://doc.qt.io/qtforpython-6/PySide6/QtCore/QThread.html)\n"
   ]
  },
  {
   "cell_type": "markdown",
   "metadata": {},
   "source": [
    "# Qtimers\n",
    "\n",
    "Como anteriormente se adelanto, los Qtimers son ``Qthreads`` pero con la diferencia que al asignarle un parametro de tiempo estos ejecutaran su funcion **run** cada cierto tiempo anteriormente asignado. (**¡Utiles para comportamiento periodico! 👌​**). Nuevamente aca algunos metodos relevantes:\n",
    "- **.start()** y **.stop.()** permite iniciar y parar el timer, respectivamente.\n",
    "- **setInterval(ms: int)** define cada cuanto el ``timer`` debe emitir la señal timeout cada ms milisegundos. (**IMPTE**)\n",
    "- timeout: es la **señal** que llama el timer cuando termina el intervalo de tiempo. En conjunto con el método ``connect`` para conectarlo a alguna función. (**IMPTE**)\n",
    "- **.isActive()** permite saber si el timer está actualmente corriendo (análogo a **isRunning** e **is_alive** anteriormente vistos).\n",
    "- **setSingleShot(singleShot: bool)** permite definir si el timer es de tipo singleShot (entregando como parámetro True). Que un timer sea singleShot significa que, al pasar el intervalo de tiempo, el timer se detendrá (es decir, no cicla indefinidamente). (**Util en ciertos casos**)\n",
    "\n",
    "\n",
    "Si quieres ver mas metodos y aplicaciones 👀​:\n",
    "[Mas info](https://doc.qt.io/qtforpython-5/PySide2/QtCore/QTimer.html)"
   ]
  },
  {
   "cell_type": "markdown",
   "metadata": {},
   "source": [
    "### FLUJO\n",
    "\n",
    "Recordar que buscaremos trabajar con eventos, señales y los Qthreads/Qtimers, para un mejor entendimiento de todo el flujo del programa recordar siempre como esta funcionando, aca un diagrama para mejor entendimiento. \n",
    "\n",
    "![IMAGEN](img/DIAGRAMA.png)"
   ]
  },
  {
   "cell_type": "markdown",
   "metadata": {},
   "source": [
    "# MainWindow"
   ]
  },
  {
   "cell_type": "markdown",
   "metadata": {},
   "source": [
    "Anteriormente ya vimos QWidgets, Qlabels y demas objetos de Pyqt...\n",
    "\n",
    "Ahora veremos uno mas pero que presenta propiedades que nos podrian interesar dado ciertas circunstancias.\n",
    "\n",
    "La ``MainWindow`` como ya se menciono es un widget mas que presenta una estructura ``fija`` con un orden ya existente que permite generar ventanas de manera mas 'estandar', aca un diagrama:"
   ]
  },
  {
   "cell_type": "markdown",
   "metadata": {},
   "source": [
    "![Mainwindow](img/mainwindowlayout.png)\n"
   ]
  },
  {
   "cell_type": "markdown",
   "metadata": {},
   "source": [
    "Algunos (no todos, para mas revisar **documentacion**) metodos de ``MainWindow`` son:\n",
    "\n",
    "- **self.menubar()** : Agrega una barra de menú al MainWidget. Sobre esta podemos utilizar addMenu() para agregar un menú.\n",
    "\n",
    "- **setCentralWidget(widget)** : Asigna el cuerpo de la ventana.\n",
    "\n",
    "- **showMessage(msg)** : Actualiza el mensaje en la barra de estado.\n",
    "\n",
    "- ...\n",
    "\n",
    "Para mas info [AQUI](https://www.pythontutorial.net/pyqt/pyqt-qmainwindow/)"
   ]
  },
  {
   "cell_type": "markdown",
   "metadata": {},
   "source": [
    "# DCConsole: TETRIS\n",
    "\n",
    "Para el ejercicio propuesto de esta semana reviviremos una vieja actividad del semestre 2021-1 completaremos ciertos métodos y les dejaremos el resto del codigo para que puedan hacer un poco de ingenieria inversa."
   ]
  },
  {
   "cell_type": "markdown",
   "metadata": {},
   "source": [
    "### Por Implementar:\n",
    "\n",
    "1. `def __init__(self)` de la clase `VentanaInicio` en el modulo `frontend/ventana_inicio.py`\n",
    "    * Debes conectar el botón para comenzar el juego (`self.boton_comenzar`) con el método `self.verificar_usuario` y el botón para salir del   juego (`self.boton_salir`) con el método `self.salir`\n",
    "    * Por ultimo debes hacer `show()`de la ventana de inicio"
   ]
  },
  {
   "cell_type": "markdown",
   "metadata": {},
   "source": [
    "2. `def verificar_usuario(self)` de la clase `VentanaInicio` en el modulo `frontend/ventana_inicio.py`\n",
    "   * Debes crear una señal `senal_verificar_usuario` que permita mandar un `str`, esta debe ser un atributo de clase de `VentanaInicio`\n",
    "   * El método debe emitir la señal al back-end con el nombre de usuario ingresado en el campo de texto `self.campo_nombre`"
   ]
  },
  {
   "cell_type": "markdown",
   "metadata": {},
   "source": [
    "3. `def verificar_usuario(self, usuario)` de la clase `VentanaInicioBackend` del modulo `backend/ventana_inicio_backend.py`\n",
    "   * Recibe el nombre de usuario ingresado desde el front-end y verifica si cumple con los requisitos indicados: no debe poseer comas (‘,’) y no de- be ser vacío. En caso de que cumpla con los requisitos se debe emitir una señal para empezar el juego (senal_empezar_juego) enviando el nombre de usuario. En caso de que el nombre de usuario no cumpla con los requisitos, se deberá emitir una señal para mostrar el mensaje de error (senal_mensaje_error)"
   ]
  },
  {
   "cell_type": "markdown",
   "metadata": {},
   "source": [
    "4. Conectar las señales de la logica de inicio en `main.py`\n",
    "   * `senal_verificar_usuario` Esa señal es responsable de conectar la `VentanaInicio` con el método `verificar_usuario` de la `VentanaInicioBackend`. Envía un `str`\n",
    "   * `senal_mensaje_error` Esa señal es responsable de conectar la `VentanaInicioBackend` con el método mostrar de la clase `VentanaError`. No envía parámetros.\n",
    "   * `senal_empezar_juego` Esa señal es responsable de conectar la clase `VentanaInicioBackend` con los métodos `mostrar_ventana` de la clase `VentanaJuego`, `comenzar_partida` de la class Juego y salir de la clase `VentanaInicio`. Envía un `str`"
   ]
  },
  {
   "cell_type": "markdown",
   "metadata": {},
   "source": [
    "5. Método `KeyPressEvent(self, event)` del modulo `frontend/ventana_juego.py` en la clase `VentanaJuego`. Este método detectará que tecla se esta presionando y le comunicara al backend hacia que lugar mover el bloque. Para esto se debe utilizar la señal `self.senal_teclas` la cual puede emitir diccionarios\n",
    "   * Si la tecla oprimida es la \"A\", se deberá mandar un diccionario de la forma `{'direccion': 'left'}`\n",
    "   * Si la tecla oprimida es la \"B\", se deberá mandar un diccionario de la forma `{'direccion': 'right'}`"
   ]
  },
  {
   "cell_type": "markdown",
   "metadata": {},
   "source": [
    "6. `def comenzar_partida(self)` del modulo `backend/logica_juego` de la clase `Juego`. Es en este método donde se inicializan los bloques y se maneja su avance en intervalos de tiempo, para hacer esto debes:\n",
    "   * ejecutar el método `self.enviar_bloque`\n",
    "   * crear un `QTimer` y guardarlo en una variable llamada `self.timer_avance_bloques`\n",
    "   * Conectar el `QTimer` al método `self.avanzar_bloque`\n",
    "   * Iniciar el `QTimer` dandole un intervalo de tiempo (el cual es `self.tiempo_de_avance`)"
   ]
  },
  {
   "cell_type": "markdown",
   "metadata": {},
   "source": [
    "7. def game_over(self) del modulo `backend/logica_juego` de la clase `Juego`. Debes completarlo con:\n",
    "   * Parar la ejecucion del timer\n",
    "   * emitir la señal `self.senal_game_over` con el puntaje obtenido"
   ]
  },
  {
   "cell_type": "markdown",
   "metadata": {},
   "source": [
    "\n",
    "Con esto ya tenemos todo para que la aplicacion de `Tetris` funcione, pero como nosotros somos cool tambien realizaremos una implementacion con `QThread` en vez de `QTimer` para analizar sus diferencias.\n",
    "\n",
    "### Implementación alternativa\n",
    "8. Adaptar el método `comenzar_partida(self)` para que trabaje con un `QThread` para esto debes:\n",
    "   * Reescribir el método `run()` del `QThread` personalizado `Desplazador`, este método debe contener un `while` que compruebe que el booleano de `self.running` sea verdadero y en caso de que sea así se debe hacer dormir el metodo con `self.sleep(self.interval)` y despues emitir la señal interna del thread, llamada `senal_avanzar_bloques` (esta no recibe ningun argumento)\n",
    "   * Completar el método `stop(self)` del `Desplazador`, en este se debe cambiar el booleano de `self.running` a falso y ejecutar el método `self.wait()`\n",
    "   * Modificar el método `comenzar_partida` de la clase `Juego`, para esto debes crear el thread personalizado `Desplazador` darle un segundo en su contructor y guardarlo en el atributo `self.worker`\n",
    "   * Conectar la señal interna del thread con el método `self.avanzar_bloques`\n",
    "   * Debes correr el thread\n",
    "   * Cambiar el método `game_over(self)` de la clase `Juego`, solamente debes detener el thread `Desplazador`."
   ]
  },
  {
   "cell_type": "code",
   "execution_count": null,
   "metadata": {},
   "outputs": [],
   "source": []
  }
 ],
 "metadata": {
  "colab": {
   "provenance": []
  },
  "kernelspec": {
   "display_name": "Python 3 (ipykernel)",
   "language": "python",
   "name": "python3"
  },
  "language_info": {
   "codemirror_mode": {
    "name": "ipython",
    "version": 3
   },
   "file_extension": ".py",
   "mimetype": "text/x-python",
   "name": "python",
   "nbconvert_exporter": "python",
   "pygments_lexer": "ipython3",
   "version": "3.10.10"
  }
 },
 "nbformat": 4,
 "nbformat_minor": 4
}
