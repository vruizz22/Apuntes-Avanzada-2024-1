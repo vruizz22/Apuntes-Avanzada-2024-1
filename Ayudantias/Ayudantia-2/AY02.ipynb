{
 "cells": [
  {
   "cell_type": "markdown",
   "metadata": {},
   "source": [
    "## Ayudantía 2: Built-in 👨‍🔧👩‍🔧\n",
    "\n",
    "### Ayudantes 👾\n",
    "- Sección 1: [Julián García](https://github.com/JJJGGGG)\n",
    "- Sección 2: [Clemente Campos](https://github.com/mskdancers)\n",
    "- Sección 3: [Diego Toledo](https://github.com/diegoftpxd)\n",
    "- Sección 4: [Julio Huerta](https://github.com/Julius9)\n",
    "- Sección 5: [Carlos Olguín](https://github.com/CarlangaUC)\n",
    "\n",
    "### 📖 Contenidos 📖\n",
    "En esta ayudantía usaremos:\n",
    "- Tuplas\n",
    "- Stacks/Colas\n",
    "- Diccionarios\n",
    "- Sets\n",
    "- Args/Kwargs\n",
    "\n",
    "### Introducción\n",
    "Las estructuras de datos son una manera de agrupar datos relacionados, junto con un conjunto de operaciones para accederlos y modificarlos de manera eficiente. Podemos separarlas en dos categorías:\n",
    "\n",
    "### Estructuras de datos secuenciales\n",
    "Estas estructuras se basan en un orden secuencial de los datos, y se pueden recorrer acorde a este orden.\n",
    "- ```list```\n",
    "- ```str```\n",
    "- ```tuple```\n",
    "\n",
    "### Estructuras de datos no secuenciales\n",
    "Estas estructuras almacenan los datos sin establecer un orden fijo.\n",
    "- ```dict```\n",
    "- ```set```\n",
    "\n",
    "### Tuplas\n",
    "Las tuplas (clase ```tuple```) son estructuras de datos ordenadas, inmutables y pueden contener datos de distintos tipos."
   ]
  },
  {
   "cell_type": "code",
   "execution_count": 7,
   "metadata": {},
   "outputs": [
    {
     "name": "stdout",
     "output_type": "stream",
     "text": [
      "(':p', ':3', 99, [1, 2])\n",
      "()\n",
      "(1,)\n",
      "(1, 'dos', 3)\n"
     ]
    }
   ],
   "source": [
    "# Podemos tener datos de distinto tipo en nuestra tupla\n",
    "mi_tupla = (\":p\", \":3\", 99, [1, 2]) \n",
    "\n",
    "# Podemos hacer una tupla vacía con tuple()\n",
    "tupla_vacia = tuple()\n",
    "\n",
    "# Para crear una tupla con un único elemento tenemos que incluir una coma\n",
    "monotupla = (1, )\n",
    "\n",
    "# También funciona si omitimos los paréntesis\n",
    "mi_tupla_2 = 1, \"dos\", 3\n",
    "\n",
    "print(mi_tupla)\n",
    "print(tupla_vacia)\n",
    "print(monotupla)\n",
    "print(mi_tupla_2)"
   ]
  },
  {
   "cell_type": "code",
   "execution_count": 8,
   "metadata": {},
   "outputs": [
    {
     "name": "stdout",
     "output_type": "stream",
     "text": [
      "0\n"
     ]
    },
    {
     "ename": "TypeError",
     "evalue": "'tuple' object does not support item assignment",
     "output_type": "error",
     "traceback": [
      "\u001b[1;31m---------------------------------------------------------------------------\u001b[0m",
      "\u001b[1;31mTypeError\u001b[0m                                 Traceback (most recent call last)",
      "Cell \u001b[1;32mIn[8], line 7\u001b[0m\n\u001b[0;32m      4\u001b[0m \u001b[38;5;28mprint\u001b[39m(tupla[\u001b[38;5;241m0\u001b[39m])\n\u001b[0;32m      6\u001b[0m \u001b[38;5;66;03m# Sin embargo, al tratar de modificar la tupla obtendremos un error\u001b[39;00m\n\u001b[1;32m----> 7\u001b[0m \u001b[43mtupla\u001b[49m\u001b[43m[\u001b[49m\u001b[38;5;241;43m0\u001b[39;49m\u001b[43m]\u001b[49m \u001b[38;5;241m=\u001b[39m \u001b[38;5;241m5\u001b[39m\n",
      "\u001b[1;31mTypeError\u001b[0m: 'tuple' object does not support item assignment"
     ]
    }
   ],
   "source": [
    "tupla = (0, 1, 2)\n",
    "\n",
    "# El acceso por índice es igual que en las listas\n",
    "print(tupla[0])\n",
    "\n",
    "# Sin embargo, al tratar de modificar la tupla obtendremos un error\n",
    "tupla[0] = 5"
   ]
  },
  {
   "cell_type": "markdown",
   "metadata": {},
   "source": [
    "### Named Tuples\n",
    "Las named tuples son estructuras que permiten definir campos para cada una de las posiciones en que han sido ingresados los datos. Su comportamiento es muy similar al de una clase, solo que sin métodos (sólo atributos)."
   ]
  },
  {
   "cell_type": "code",
   "execution_count": null,
   "metadata": {},
   "outputs": [
    {
     "name": "stdout",
     "output_type": "stream",
     "text": [
      "Jorge\n",
      "2021\n",
      "21647590\n"
     ]
    }
   ],
   "source": [
    "from collections import namedtuple\n",
    "\n",
    "# Creamos la named tuple dándole como argumentos el nombre que le queremos dar a\n",
    "# la named tuple y los atributos que queremos que tenga\n",
    "alumno = namedtuple(\"Clase_Alumno\", [\"nombre\", \"generacion\", \"n_alumno\"])\n",
    "\n",
    "# Luego creamos la instancia\n",
    "alumno_1 = alumno(\"Jorge\", 2021, 21647590)\n",
    "\n",
    "# Accedemos a los atributos de la misma forma que en las clases\n",
    "print(alumno_1.nombre)\n",
    "print(alumno_1.generacion)\n",
    "print(alumno_1.n_alumno)"
   ]
  },
  {
   "cell_type": "code",
   "execution_count": null,
   "metadata": {},
   "outputs": [
    {
     "ename": "AttributeError",
     "evalue": "can't set attribute",
     "output_type": "error",
     "traceback": [
      "\u001b[1;31m---------------------------------------------------------------------------\u001b[0m",
      "\u001b[1;31mAttributeError\u001b[0m                            Traceback (most recent call last)",
      "Cell \u001b[1;32mIn[6], line 2\u001b[0m\n\u001b[0;32m      1\u001b[0m \u001b[38;5;66;03m# Al igual que una tupla y a diferencia de una clase, los atributos son inmutables\u001b[39;00m\n\u001b[1;32m----> 2\u001b[0m \u001b[43malumno_1\u001b[49m\u001b[38;5;241;43m.\u001b[39;49m\u001b[43mnombre\u001b[49m \u001b[38;5;241m=\u001b[39m \u001b[38;5;124m\"\u001b[39m\u001b[38;5;124mJorgito\u001b[39m\u001b[38;5;124m\"\u001b[39m\n",
      "\u001b[1;31mAttributeError\u001b[0m: can't set attribute"
     ]
    }
   ],
   "source": [
    "# Al igual que una tupla y a diferencia de una clase, los atributos son inmutables\n",
    "alumno_1.nombre = \"Jorgito\""
   ]
  },
  {
   "cell_type": "markdown",
   "metadata": {},
   "source": [
    "### Stacks\n",
    "Los stacks son EDD's que están optimizadas para añadir elementos al final y sacar elementos también del final. A este tipo de estructuras se les llama \"Last In, First Out\" (LIFO). En python podemos modelar un stack usando una lista. "
   ]
  },
  {
   "cell_type": "code",
   "execution_count": null,
   "metadata": {},
   "outputs": [
    {
     "name": "stdout",
     "output_type": "stream",
     "text": [
      "Elemento popeado: 2\n",
      "Elemento final: 1\n"
     ]
    }
   ],
   "source": [
    "# Creamos el stack vacío\n",
    "mi_stack = []\n",
    "\n",
    "# Vamos añadiendo elementos al final (push)\n",
    "mi_stack.append(0)\n",
    "mi_stack.append(1)\n",
    "mi_stack.append(2)\n",
    "\n",
    "# Extraemos el último elemento (pop)\n",
    "elemento = mi_stack.pop()\n",
    "print(f\"Elemento popeado: {elemento}\")\n",
    "\n",
    "# Podemos ver qué elemento está al final (peek)\n",
    "print(f\"Elemento final: {mi_stack[-1]}\")\n"
   ]
  },
  {
   "cell_type": "markdown",
   "metadata": {},
   "source": [
    "### Colas (queues)\n",
    "Las colas son EDD's que están optimizadas para funcionar, valga la redundancia, como una cola; el primer elemento en entrar va a ser el primero en salir (FIFO). En python, la modelación con una lista no es eficiente por lo que usaremos una ```deque``` del módulo ```collections```."
   ]
  },
  {
   "cell_type": "code",
   "execution_count": null,
   "metadata": {},
   "outputs": [
    {
     "name": "stdout",
     "output_type": "stream",
     "text": [
      "deque([1, 2])\n",
      "0\n"
     ]
    }
   ],
   "source": [
    "from collections import deque\n",
    "\n",
    "# Creamos una cola vacía\n",
    "cola = deque()\n",
    "\n",
    "# Le añadimos elementos de la misma forma que a una lista\n",
    "cola.append(0)\n",
    "cola.append(1)\n",
    "cola.append(2)\n",
    "\n",
    "# Para sacar un elemento usamos popleft\n",
    "elemento = cola.popleft()\n",
    "print(cola)\n",
    "print(elemento)\n"
   ]
  },
  {
   "cell_type": "code",
   "execution_count": null,
   "metadata": {},
   "outputs": [
    {
     "name": "stdout",
     "output_type": "stream",
     "text": [
      "deque([-1, 1])\n",
      "2\n"
     ]
    }
   ],
   "source": [
    "# Deque viene de \"double ended queue\", lo que significa que esta estructura también\n",
    "# está optimizada para añadir elementos al inicio y sacar del final\n",
    "cola.appendleft(-1)\n",
    "elemento = cola.pop()\n",
    "print(cola)\n",
    "print(elemento)"
   ]
  },
  {
   "cell_type": "markdown",
   "metadata": {},
   "source": [
    "### Diccionarios\n",
    "Un diccionario es una estructura de datos no secuencial y mutable que permite asociar pares de elementos mediante la relación llave-valor. Al diccionario se le consulta por una llave y retorna su valor asociado."
   ]
  },
  {
   "cell_type": "code",
   "execution_count": null,
   "metadata": {},
   "outputs": [],
   "source": [
    "# Creamos un diccionario con los corchetes {}\n",
    "notas = {\n",
    "    # Llave: valor\n",
    "    \"Carlos\": 3.9,\n",
    "    \"Clemente\": 3.5,\n",
    "    \"Diego\": 6.6,\n",
    "    \"Julián\": 6.0,\n",
    "    \"Julio\": 5.5\n",
    "}"
   ]
  },
  {
   "cell_type": "markdown",
   "metadata": {},
   "source": [
    "En un diccionario no pueden haber dos llaves iguales, y además no todos los tipos de objetos pueden ser llaves. De los objetos built-in de python, todos los que son inmutables pueden ser ocupados como llave. Es decir, los objetos mutables como listas o los mismos diccionarios no pueden ser usados como llave. Por defecto, las clases que creemos si podrán ser usadas como llave."
   ]
  },
  {
   "cell_type": "code",
   "execution_count": null,
   "metadata": {},
   "outputs": [
    {
     "name": "stdout",
     "output_type": "stream",
     "text": [
      "3.5\n",
      "7.0\n"
     ]
    }
   ],
   "source": [
    "# Podemos acceder a los valores asociados a las llaves\n",
    "print(notas[\"Clemente\"])\n",
    "\n",
    "# También podemos modificar el valor\n",
    "notas[\"Clemente\"] = 7.0\n",
    "print(notas[\"Clemente\"])"
   ]
  },
  {
   "cell_type": "markdown",
   "metadata": {},
   "source": [
    "### Defaultdicts\n",
    "Los defaultdicts son diccionarios que nos permiten asignar un valor por defecto a cada key con la que se llama el diccionario. Es decir, si llamamos por una key que no existe, el ```defaultdict``` crea una, con la función o ```callable``` que le entreguemos."
   ]
  },
  {
   "cell_type": "code",
   "execution_count": null,
   "metadata": {},
   "outputs": [
    {
     "name": "stdout",
     "output_type": "stream",
     "text": [
      "0\n"
     ]
    }
   ],
   "source": [
    "from collections import defaultdict\n",
    "\n",
    "# Creamos un defaultdict con int como argumento, por lo que al consultar por una llave \n",
    "# que no existe le asignará el resultado de int(), que es igual a 0\n",
    "notas_2 = defaultdict(int)\n",
    "\n",
    "print(notas_2[\"Cata\"])"
   ]
  },
  {
   "cell_type": "markdown",
   "metadata": {},
   "source": [
    "### Sets\n",
    "Los sets son EDD's no secuenciales mutables que funcionan como un conjunto matemático, ya que no repiten elementos."
   ]
  },
  {
   "cell_type": "code",
   "execution_count": null,
   "metadata": {},
   "outputs": [
    {
     "name": "stdout",
     "output_type": "stream",
     "text": [
      "Set 1: {0, 1}\n",
      "Set 2: {0, 2, 3, 4}\n",
      "Unión: {0, 1, 2, 3, 4}\n",
      "Interseccion: {0}\n",
      "Diferencia: {2, 3, 4}\n",
      "Diferencia simétrica: {1, 2, 3, 4}\n"
     ]
    }
   ],
   "source": [
    "# Creamos un set vacío con set()\n",
    "set_1 = set()\n",
    "\n",
    "# Para añadir un elemento usamos add\n",
    "set_1.add(0)\n",
    "set_1.add(1)\n",
    "\n",
    "# También se pueden crear con los corchetes {}\n",
    "set_2 = {0, 2, 3, 4}\n",
    "\n",
    "print(f\"Set 1: {set_1}\")\n",
    "print(f\"Set 2: {set_2}\")\n",
    "\n",
    "# Unión de conjuntos\n",
    "union = set_1 | set_2\n",
    "print(f\"Unión: {union}\")\n",
    "\n",
    "# Intersección de conjuntos\n",
    "interseccion = set_1 & set_2\n",
    "print(f\"Intersección: {interseccion}\")\n",
    "\n",
    "# Diferencia de conjuntos\n",
    "diferencia = set_2 - set_1\n",
    "print(f\"Diferencia: {diferencia}\")\n",
    "\n",
    "# Diferencia simétrica de conjuntos\n",
    "dif_simetrica = set_1 ^ set_2\n",
    "print(f\"Diferencia simétrica: {dif_simetrica}\")\n"
   ]
  },
  {
   "cell_type": "markdown",
   "metadata": {},
   "source": [
    "### Args/Kwargs\n",
    "Args y Kwargs describen dos tipos de argumentos en el llamado de funciones o métodos: argumentos posicionales y argumentos por palabra clave, respectivamente. En el llamado de funciones los podemos usar de la siguiente forma:"
   ]
  },
  {
   "cell_type": "code",
   "execution_count": null,
   "metadata": {},
   "outputs": [
    {
     "name": "stdout",
     "output_type": "stream",
     "text": [
      "a: hola, b: mundo, c: 42\n",
      "a: hola, b: mundo, c: 42\n",
      "a: hola, b: mundo, c: 42\n",
      "a: hola, b: mundo, c: 42\n",
      "a: hola, b: mundo, c: 42\n",
      "a: hola, b: mundo, c: 42\n",
      "a: hola, b: mundo, c: 42\n",
      "a: hola, b: mundo, c: 42\n"
     ]
    }
   ],
   "source": [
    "def ejemplo(a, b, c):\n",
    "    print(f'a: {a}, b: {b}, c: {c}')\n",
    "\n",
    "# Llamada a la función que haríamos normalmente\n",
    "ejemplo('hola', 'mundo', 42)\n",
    "\n",
    "# Llamada utilizando argumentos por palabra clave\n",
    "ejemplo(b='mundo', c=42, a='hola')\n",
    "\n",
    "# También podemos combinar ambos, todas las siguientes llamadas son equivalentes:\n",
    "ejemplo('hola', 'mundo', 42)\n",
    "ejemplo('hola', 'mundo', c=42)\n",
    "ejemplo('hola', b='mundo', c=42)\n",
    "ejemplo('hola', c=42, b='mundo')\n",
    "ejemplo(a='hola', b='mundo', c=42)\n",
    "ejemplo(c=42, a='hola', b='mundo')"
   ]
  },
  {
   "cell_type": "code",
   "execution_count": null,
   "metadata": {},
   "outputs": [
    {
     "ename": "SyntaxError",
     "evalue": "positional argument follows keyword argument (1617641304.py, line 3)",
     "output_type": "error",
     "traceback": [
      "\u001b[1;36m  Cell \u001b[1;32mIn[3], line 3\u001b[1;36m\u001b[0m\n\u001b[1;33m    ejemplo(a='hola', 'mundo', 42)\u001b[0m\n\u001b[1;37m                                 ^\u001b[0m\n\u001b[1;31mSyntaxError\u001b[0m\u001b[1;31m:\u001b[0m positional argument follows keyword argument\n"
     ]
    }
   ],
   "source": [
    "# Sin embargo, hay que tener cierto cuidado, ya que un argumento\n",
    "# posicional no puede ir después de un argumento por palabra clave\n",
    "ejemplo(a='hola', 'mundo', 42)"
   ]
  },
  {
   "cell_type": "markdown",
   "metadata": {},
   "source": [
    "Ahora, en la definición de funciones podemos hacer cosas muy interesantes usando Args y Kwargs. Para esto vamos a usar los caracteres ```*``` y ```**``` para argumentos posicionales, y argumentos por palabra clave, respectivamente.\n",
    "\n",
    "- ```*args``` nos permite declarar una cantidad variable de argumentos posicionales, accesibles mediante la tupla ```args```\n",
    "- ```**kwargs``` nos permite declarar una cantidad variable de argumentos por palabra clave, accesibles mediante el diccionario ```kwargs``."
   ]
  },
  {
   "cell_type": "code",
   "execution_count": null,
   "metadata": {},
   "outputs": [
    {
     "name": "stdout",
     "output_type": "stream",
     "text": [
      "Hola Cabros Del Facebook \n",
      "\n",
      "('Hola', 'Cabros', 'Del', 'Facebook')\n"
     ]
    }
   ],
   "source": [
    "def funcion_args(*args):\n",
    "    # Dentro de la función, args es una tupla sobre la cual podemos iterar\n",
    "    for i in args:\n",
    "        print(i, end=\" \")\n",
    "    print(\"\\n\")\n",
    "    print(args)\n",
    "\n",
    "funcion_args(\"Hola\", \"Cabros\", \"Del\", \"Facebook\")"
   ]
  },
  {
   "cell_type": "code",
   "execution_count": null,
   "metadata": {},
   "outputs": [
    {
     "name": "stdout",
     "output_type": "stream",
     "text": [
      "profe_s1: Hernán\n",
      "profe_s2: Dani\n",
      "profe_s3: Gatochico\n",
      "profe_s4: Dante\n",
      "profe_s5: Paqui\n",
      "{'profe_s1': 'Hernán', 'profe_s2': 'Dani', 'profe_s3': 'Gatochico', 'profe_s4': 'Dante', 'profe_s5': 'Paqui'}\n"
     ]
    }
   ],
   "source": [
    "def funcion_kwargs(**kwargs):\n",
    "    # Dentro de la función, kwargs es un diccionario\n",
    "    for i, j in kwargs.items():\n",
    "        print(f\"{i}: {j}\")\n",
    "    print(kwargs)\n",
    "\n",
    "funcion_kwargs(profe_s1=\"Hernán\", profe_s2=\"Dani\", profe_s3=\"Gatochico\", profe_s4=\"Dante\", profe_s5=\"Paqui\")"
   ]
  },
  {
   "cell_type": "markdown",
   "metadata": {},
   "source": [
    "### Ejercicio: DCChrome\n",
    "Después de un largo día de revisar los contenidos de la semana 2 en el github de Programación Avanzada, te das cuenta que el sistema que usa tu navegador para ir hacia atrás y hacia adelante se te hace familiar. Te lo imaginas como una pila de páginas, y que al ir hacia atrás estás sacando el elemento de más arriba de la pila. \"¡¡Ya lo sé, es un stack!!\" gritas en medio de la sala de estudio del CAI, mientras la gente lentamente se da vuelta para mirarte con caras de confusión. Huyes lo más rápido posible y te encierras en tu pieza a programar tu propio navegador en python, DCChrome.\n",
    "\n",
    "Para modelar los movimientos hacia atrás y adelante, tendrás dos stacks, un ```back_stack``` y un ```forward_stack```, donde guardarás las páginas hacia atrás y las páginas hacia adelante respectivamente. El siguiente dibujo ilustra lo que estamos haciendo ([source](https://lowleveldesign.io/LLD/WebBrowserHistory)):\n",
    "\n",
    "![stacks](browser-two-stacks.png) \n",
    "\n",
    "Deberás completar las siguientes cosas en la clase ```DCChrome```:\n",
    "\n",
    "- El método ```cargar_paginas```, que se encarga de leer el archivo de información que tienes (```data.csv```), y cargar cada sitio como una instancia de la clase ```SitioWeb```, añadiéndolo a la lista de sitios de la clase. Se recomienda el uso de diccionarios y Kwargs.\n",
    "\n",
    "- En el método ```listado_de_sitios```, deberás completar lo que pasa luego de elegir cada opción. El menú debería mostrar de a 3 páginas a la vez, y debes ver qué pasa con los stacks al elegir una página nueva.\n",
    "\n",
    "- En el método ```entrar_a_sitio``` deberás completar las opciones 1 y 2, modificando adecuadamente ambos stacks. Si se elige la opción de ir hacia atrás y no hay ningún sitio al cual ir, el navegador se deberá mantener en el mismo sitio en el que estaba (lo mismo hacia adelante).\n",
    "\n",
    "Tip: Imagina que en tu navegador vas del sitio ```a``` al sitio ```b```, y luego del ```b``` al ```c```. Si vuelves hacia atrás al sitio ```b```, y de ahí vas al sitio ```d```, ¿qué pasa con el botón de ir hacia adelante? ¿Qué pasaría con el ```forward_stack``` en ese caso?"
   ]
  },
  {
   "cell_type": "code",
   "execution_count": 10,
   "metadata": {},
   "outputs": [],
   "source": [
    "from math import ceil\n",
    "\n",
    "\n",
    "class SitioWeb:\n",
    "\n",
    "    def __init__(self, url, mail, ip):\n",
    "        self.url = url\n",
    "        self.mail = mail\n",
    "        self.ip = ip\n",
    "        self.reclamos = []\n",
    "\n",
    "    def recibir_reclamo(self, mail_usuario, texto):\n",
    "        self.reclamos.append([mail_usuario, texto])\n",
    "\n",
    "\n",
    "class DCChrome:\n",
    "    def __init__(self, mail):\n",
    "        self.mail = mail\n",
    "        self.sitios = []\n",
    "        self.back_stack = []\n",
    "        self.forward_stack = []\n",
    "\n",
    "    def cargar_paginas(self, nombre_archivo):\n",
    "        with open(nombre_archivo) as archivo:\n",
    "\n",
    "            # COMPLETAR\n",
    "            \n",
    "            pass\n",
    "\n",
    "    def listado_de_sitios(self, sitio_anterior=-1):\n",
    "        index = 0\n",
    "        while True:\n",
    "            sitio_2 = \"\"\n",
    "            sitio_3 = \"\"\n",
    "            if index + 1 < len(self.sitios):\n",
    "                sitio_2 = self.sitios[index + 1].url\n",
    "            if index + 2 < len(self.sitios):\n",
    "                sitio_3 = self.sitios[index + 2].url\n",
    "            print(\"Listado de sitios\")\n",
    "            print(\"-\" * 62)\n",
    "            print(f\"{self.sitios[index].url:^20.20s}|{sitio_2:^20.20s}|{sitio_3:^20.20s}\")\n",
    "            print(f\"{1: ^20d}|{2: ^20d}|{3: ^20d}\")\n",
    "            print(\"-\" * 62)\n",
    "            print(\"1. Sitio 1\")\n",
    "            print(\"2. Sitio 2\")\n",
    "            print(\"3. Sitio 3\")\n",
    "            print(\"4. ->\")\n",
    "            print(\"5. <-\")\n",
    "            print(\"6. Salir\")\n",
    "            if sitio_anterior != -1:\n",
    "                print(\"7. Volver al sitio\")\n",
    "            nro = input(\"Elija una opción: \")\n",
    "            print()\n",
    "\n",
    "            # COMPLETAR\n",
    "            \n",
    "            if nro == \"7\" and sitio_anterior != -1:\n",
    "                self.back_stack.pop()\n",
    "                self.entrar_a_sitio(sitio_anterior)\n",
    "                break\n",
    "\n",
    "    def entrar_a_sitio(self, nro_sitio):\n",
    "        while True:\n",
    "            print(f\"{self.sitios[nro_sitio].url:^62s}\")\n",
    "            print(f\"{self.sitios[nro_sitio].ip:^62s}\")\n",
    "            print(f\"{self.sitios[nro_sitio].mail:^62s}\")\n",
    "            print(\"-\" * 62)\n",
    "            print(\"Reclamos:\")\n",
    "            print()\n",
    "            for mail_user, reclamo in self.sitios[nro_sitio].reclamos:\n",
    "                print(f\"from: {mail_user}\")\n",
    "                print(f\"to: {self.sitios[nro_sitio].mail}\")\n",
    "                for i in range(ceil(len(reclamo) / 62)):\n",
    "                    print(f\"{reclamo[62 * i: 62 * (i + 1)]:62s}\")\n",
    "                print()\n",
    "            print(\"-\" * 62)\n",
    "            sitio_atras = \"\"\n",
    "            sitio_adelante = \"\"\n",
    "            if self.back_stack:\n",
    "                sitio_atras = self.sitios[self.back_stack[-1]].url\n",
    "            if self.forward_stack:\n",
    "                sitio_adelante = self.sitios[self.forward_stack[-1]].url\n",
    "            print(f\"1. Atrás: {sitio_atras}\")\n",
    "            print(f\"2. Adelante: {sitio_adelante}\")\n",
    "            print(\"3. Escribir reclamo\")\n",
    "            print(\"4. Listado de sitios\")\n",
    "            print(\"5. Salir\")\n",
    "            nro = input(\"Elija una opción: \")\n",
    "            print()\n",
    "            \n",
    "            # COMPLETAR\n",
    "            \n",
    "            if nro == \"3\":\n",
    "                reclamo = input(\"Escriba su reclamo: \")\n",
    "                self.sitios[nro_sitio].reclamos.append([self.mail, reclamo])\n",
    "            if nro == \"4\":\n",
    "                self.back_stack.append(nro_sitio)\n",
    "                self.listado_de_sitios(nro_sitio)\n",
    "                break\n",
    "            if nro == \"5\":\n",
    "                break\n",
    "\n",
    "\n",
    "# descomentar la última línea cuando esté listo\n",
    "\n",
    "navegador = DCChrome(\"tu.mail@uc.cl\")\n",
    "navegador.cargar_paginas(\"data.csv\")\n",
    "# navegador.listado_de_sitios()\n"
   ]
  }
 ],
 "metadata": {
  "kernelspec": {
   "display_name": "Python 3 (ipykernel)",
   "language": "python",
   "name": "python3"
  },
  "language_info": {
   "codemirror_mode": {
    "name": "ipython",
    "version": 3
   },
   "file_extension": ".py",
   "mimetype": "text/x-python",
   "name": "python",
   "nbconvert_exporter": "python",
   "pygments_lexer": "ipython3",
   "version": "3.11.7"
  }
 },
 "nbformat": 4,
 "nbformat_minor": 4
}
