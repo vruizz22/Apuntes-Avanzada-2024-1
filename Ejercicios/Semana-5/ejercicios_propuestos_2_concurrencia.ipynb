{
 "cells": [
  {
   "cell_type": "markdown",
   "metadata": {},
   "source": [
    "<p>\n",
    "<font size='5' face='Georgia, Arial'>IIC-2233 Apunte Programación Avanzada</font><br>\n",
    "<font size='1'> Ejercicios creados a partir de 2019-2 por Equipo Docente IIC2233. </font>\n",
    "<font size='1'> Actualizados el 2023-2.</font>\n",
    "</p>\n",
    "\n",
    "\n",
    "# Ejercicios propuestos: Threadings\n",
    "## Concurrencia\n",
    "\n",
    "Los siguientes problemas se proveen como oportunidad de ejercitar los conceptos revisados en el material de ***Threading***. Si tienes dudas sobre algún problema o alguna solución, no dudes en dejar una *issue* en el [foro del curso](https://github.com/IIC2233/syllabus/issues)."
   ]
  },
  {
   "cell_type": "markdown",
   "metadata": {},
   "source": [
    "**ADVERTENCIA:** No corras los comandos en el notebook actual ya que no funcionarán de manera correcta. Debes copiar y pegar el código en un archivo nuevo con tu IDE, y ejecutarlos desde ahí."
   ]
  },
  {
   "cell_type": "markdown",
   "metadata": {},
   "source": [
    "### Ejercicio 1: Ayudantes en restorán"
   ]
  },
  {
   "cell_type": "markdown",
   "metadata": {},
   "source": [
    "A continuación se te presenta la simulación de un restorán. Clientes pueden hacer pedidos de productos alimenticios y estos están almacenados en una cola. Para atender a los clientes, se ponen a trabajar a tres *threads* que ejecutan la misma misma función `atender_pedidos`. Pero estos trabajadores son medios torpes, cuando intentan generar un pedido, tiene una probabilidad de 50% de que se les caiga y no se complete el pedido. Además, los tres no se coordinan y suelen trabajar en el mismo pedido al mismo tiempo.\n",
    "\n",
    "Tu objetivo es arreglar esta situación para que logren coordinarse en la elaboración de pedidos. Utiliza un `Lock` para arreglarlo, y **solo debes agregar líneas al código presentado, no eliminar ni modificar líneas existentes**."
   ]
  },
  {
   "cell_type": "code",
   "execution_count": null,
   "metadata": {},
   "outputs": [],
   "source": [
    "import threading\n",
    "import time\n",
    "from collections import deque\n",
    "from random import randint\n",
    "\n",
    "\n",
    "clientes = {\n",
    "    \"Enzo\": [],\n",
    "    \"Dani\": [],\n",
    "    \"Dante\": [],\n",
    "    \"Josefina\": [],\n",
    "    \"Ian\": []\n",
    "}\n",
    "cola_de_pedidos = deque([(\"Enzo\", \"🍕\"), (\"Josefina\", \"🍣\"), (\"Dante\", \"🌭\"), (\"Dani\", \"🍟\"), (\"Ian\", \"🍔\"),\n",
    "                         (\"Ian\", \"🍰\"), (\"Enzo\", \"🌮\"), (\"Dani\", \"🍩\"), (\"Enzo\", \"🍫\")])\n",
    "\n",
    "\n",
    "def atender_pedidos(cola, clientes):\n",
    "    while len(cola) > 0:\n",
    "        print(\"¡Haré un pedido!\")\n",
    "        cliente, comida = cola[0]\n",
    "        print(f\"Preparando {comida} para {cliente}\")\n",
    "        time.sleep(1)\n",
    "        if randint(0, 1) == 1:\n",
    "            bandeja = clientes[cliente]\n",
    "            bandeja.append(comida)\n",
    "            print(f\"Pedido de {comida} entregado a {cliente}\")\n",
    "            cola.popleft()\n",
    "        else:\n",
    "            print(\"¡Se me cayó!\")\n",
    "        \n",
    "\n",
    "trabajador_1 = threading.Thread(target=atender_pedidos, args=(cola_de_pedidos, clientes))\n",
    "trabajador_2 = threading.Thread(target=atender_pedidos, args=(cola_de_pedidos, clientes))\n",
    "trabajador_3 = threading.Thread(target=atender_pedidos, args=(cola_de_pedidos, clientes))\n",
    "\n",
    "\n",
    "trabajador_1.start()\n",
    "trabajador_2.start()\n",
    "trabajador_3.start()\n",
    "\n",
    "\n",
    "trabajador_1.join()\n",
    "trabajador_2.join()\n",
    "trabajador_3.join()\n",
    "\n",
    "for cliente in clientes:\n",
    "    print(f\"La bandeja de {cliente} tiene: {clientes[cliente]}\")\n"
   ]
  },
  {
   "cell_type": "markdown",
   "metadata": {},
   "source": [
    "### Ejercicio 2: Niveles de videojuego"
   ]
  },
  {
   "cell_type": "markdown",
   "metadata": {},
   "source": [
    "Ahora se te presenta un videojuego que consiste de cuatro niveles distintos. Pero como en todo buen videojuego, solo puedes acceder a un nivel si completaste el anterior. Es por esto, que los antiguos desarrolladores dejaron el objeto `Event`: `evento_nivel_terminado`. Todos los niveles reciben este objeto como argumento.\n",
    "\n",
    "Completa el código utilizando el objeto `Event` mencionado, pero **solo puedes agregar código dentro de la función `jugar_nivel` y bajo la sección comentada**."
   ]
  },
  {
   "cell_type": "code",
   "execution_count": null,
   "metadata": {},
   "outputs": [],
   "source": [
    "def jugar_nivel(nivel, evento_nivel):\n",
    "    ##### SOLO AGREGAR CÓDIGO EN ESTA FUNCIÓN\n",
    "    print(f\"¡Jugando nivel {nivel}!\")\n",
    "    time.sleep(1)\n",
    "    print(f\"Batallando en el nivel {nivel}\")\n",
    "    time.sleep(3)\n",
    "    print(f\"Terminando el nivel {nivel}\")\n",
    "    \n",
    "    \n",
    "evento_nivel_terminado = threading.Event()\n",
    "\n",
    "n1 = threading.Thread(target=jugar_nivel, args=[1, evento_nivel_terminado])\n",
    "n2 = threading.Thread(target=jugar_nivel, args=[2, evento_nivel_terminado])\n",
    "n3 = threading.Thread(target=jugar_nivel, args=[3, evento_nivel_terminado])\n",
    "n4 = threading.Thread(target=jugar_nivel, args=[4, evento_nivel_terminado])\n",
    "\n",
    "# =========== SOLO AGREGAR CÓDIGO DESDE AQUÍ HACIA ABAJO =============\n",
    "\n",
    "n1.start()\n",
    "\n",
    "n2.start()\n",
    "\n",
    "n3.start()\n",
    "\n",
    "n4.start()"
   ]
  },
  {
   "cell_type": "markdown",
   "metadata": {},
   "source": [
    "### Ejercicio 3: Eventos en la DCCueva"
   ]
  },
  {
   "cell_type": "markdown",
   "metadata": {},
   "source": [
    "Para poder funcionar correctamente, la DCCueva necesita recibir suministros todos los meses. Esta DCCueva esta utilizando un nuevo sistema futurístico, en el cual los suministros necesarios que se piden cada mes son entregados por un dron. Este se encarga de estar alerta para recibir pedidos y luego de recibirlos, entregarlos oportunamente a la DCCueva. Tu trabajo en esta sección es implementar correctamente un sistema de señales para que estas dos entidades puedan comunicarse correctamente y que así la DCCueva pueda funcionar todos los meses previstos.\n",
    "\n",
    "En específico, debes sincronizar la comunicación entre la DCCueva y el SuperDrone de manera que la DCCueva pueda enviar solicitudes de suministros al dron que este debe procesar (puedes simular esto mediante el uso de `sleep`, por ejemplo `sleep(2)`), las que una vez resueltas le permitirán a la DCCueva trabajar durante el mes (lo que también puedes simular con `sleep`, por ejemplo con `sleep(5)`).\n"
   ]
  },
  {
   "cell_type": "code",
   "execution_count": null,
   "metadata": {},
   "outputs": [],
   "source": [
    "from threading import Thread, Event\n",
    "from time import sleep\n",
    "\n",
    "class DCCueva(Thread):\n",
    "\n",
    "    def __init__(self, peticion_suministros, peticion_resuelta):\n",
    "        super().__init__()\n",
    "        self.meses_trabajo = 5  # Puedes usar el valor que prefieras\n",
    "        # Completar con sistema de señales\n",
    "\n",
    "    def run(self):\n",
    "        print(f\"(DCCueva) ¡Comienzan operaciones en la DCCueva!\")\n",
    "        meses = 0\n",
    "        while meses < self.meses_trabajo:\n",
    "            # Completar con sistema de señales\n",
    "            pass\n",
    "\n",
    "class SuperDrone(Thread):\n",
    "\n",
    "    def __init__(self, peticion_suministros, peticion_resuelta):\n",
    "        super().__init__()\n",
    "        self.daemon = True\n",
    "        # Completar con sistema de señales\n",
    "\n",
    "    def run(self):\n",
    "        while True:\n",
    "            # Completar son sistema de señales\n",
    "            # Nota: no importa que sea un loop infinito, es daemon thread.\n",
    "            pass\n",
    "            \n",
    "\n",
    "#Completar con sistema de señales e instanciacion de threads\n",
    "\n",
    "dccueva.start()\n",
    "drone.start()\n"
   ]
  },
  {
   "cell_type": "markdown",
   "metadata": {},
   "source": [
    "Ejemplo de salida de código (puede variar mucho ya que depende de cómo lo implementes):"
   ]
  },
  {
   "cell_type": "raw",
   "metadata": {},
   "source": [
    "(SuperDrone) Esperando una petición de suministros\n",
    "(DCCueva) ¡Comienzan operaciones en la DCCueva!\n",
    "(DCCueva) Empezaré un nuevo mes, a pedir recursos (mes 1)\n",
    "(SuperDrone) Llegó una petición de suministros, a trabajar\n",
    "Resolviendo petición... 1/2\n",
    "Resolviendo petición... 2/2\n",
    "(SuperDrone) Esperando una petición de suministros\n",
    "Utilizando recursos... 1/5\n",
    "Utilizando recursos... 2/5\n",
    "Utilizando recursos... 3/5\n",
    "Utilizando recursos... 4/5\n",
    "Utilizando recursos... 5/5\n",
    "(DCCueva) Empezaré un nuevo mes, a pedir recursos (mes 2)\n",
    "(SuperDrone) Llegó una petición de suministros, a trabajar\n",
    "Resolviendo petición... 1/2\n",
    "Resolviendo petición... 2/2\n",
    "(SuperDrone) Esperando una petición de suministros\n",
    "Utilizando recursos... 1/5\n",
    "Utilizando recursos... 2/5\n",
    "Utilizando recursos... 3/5\n",
    "Utilizando recursos... 4/5\n",
    "Utilizando recursos... 5/5\n",
    "(DCCueva) Empezaré un nuevo mes, a pedir recursos (mes 3)\n",
    "(SuperDrone) Llegó una petición de suministros, a trabajar\n",
    "Resolviendo petición... 1/2\n",
    "Resolviendo petición... 2/2\n",
    "(SuperDrone) Esperando una petición de suministros\n",
    "Utilizando recursos... 1/5\n",
    "Utilizando recursos... 2/5\n",
    "Utilizando recursos... 3/5\n",
    "Utilizando recursos... 4/5\n",
    "Utilizando recursos... 5/5"
   ]
  },
  {
   "cell_type": "markdown",
   "metadata": {},
   "source": [
    "### Ejercicio 4: ¡Juan despierta!"
   ]
  },
  {
   "cell_type": "markdown",
   "metadata": {},
   "source": [
    "Juan ha decidio mostrar sus nuevas habilidades como programador creando un sistema que simula como dormiría una siesta un día cualquiera. Para ello implemento todo un sistema con *threads* y eventos para no pasarse de la hora.\n",
    "\n",
    "Lamentablemente a Juan se le olvidó programar que el sistema activara la `alarma` luego de 5 horas de siesta *(A Juan le gusta dormir mucho 😅)*.\n",
    "\n",
    "Es por esto que tú debes completar su programa y lograr que active la alarma **luego de 5 horas**, pero únicamente utilizando `Timer` de la librería `threading` y solo agregando código desde la sección comentada hacia abajo.\n",
    "\n",
    "**Aclaración:** Interpreta una hora como un segundo en el programa, no te quedes esperando cinco horas a ver si funciona, por favor."
   ]
  },
  {
   "cell_type": "code",
   "execution_count": null,
   "metadata": {},
   "outputs": [],
   "source": [
    "def dormir(hora_actual, alarma):\n",
    "    print(f\"Tomaré una siesta, son las {hora_actual}\")\n",
    "    for i in range(15):\n",
    "        if alarma.is_set():\n",
    "            print(\"¡Gracias despertador, desperté a la hora!\")\n",
    "            return\n",
    "        hora_actual += 1\n",
    "        print(f\"Estoy durmiendo a las {hora_actual}\")\n",
    "        time.sleep(1)\n",
    "    print(f\"¡Oh no!\\nMe quedé dormido, son las {hora_actual}!!\\n¡¡¡MALDITO DESPERTADOR!!!\")\n",
    "    \n",
    "hora = 9\n",
    "alarma = threading.Event()\n",
    "\n",
    "thread = threading.Thread(target=dormir, args=[hora, alarma])\n",
    "thread.start()\n",
    "\n",
    "# ================ AGREGAR CÓDIGO DESDE AQUÍ ===================\n"
   ]
  },
  {
   "cell_type": "markdown",
   "metadata": {},
   "source": [
    "### Ejercicio 5: ¿Qué ocurre?"
   ]
  },
  {
   "cell_type": "markdown",
   "metadata": {},
   "source": [
    "En base al siguiente código, escribe el `output` que esperas se imprima al ejecutarlo. Luego responde las preguntas de al final."
   ]
  },
  {
   "cell_type": "code",
   "execution_count": null,
   "metadata": {},
   "outputs": [],
   "source": [
    "from random import shuffle\n",
    "\n",
    "\n",
    "bebestibles = [\"Vino\"] * 15 + [\"Pipeño\"]\n",
    "helados = [\"Vainilla\"] * 20 + [\"Piña\"]\n",
    "shuffle(bebestibles)\n",
    "shuffle(helados)\n",
    "\n",
    "pipeño_encontrado = threading.Event()\n",
    "helado_encontrado = threading.Event()\n",
    "\n",
    "def busca_pipeño():\n",
    "    print(\"¡Voy por el pipeño!\")\n",
    "    for bebestible in bebestibles:\n",
    "        time.sleep(1)\n",
    "        if bebestible == \"Pipeño\":\n",
    "            print(\"¡Encontré el pipeño!\")\n",
    "            helado_encontrado.wait()\n",
    "            pipeño_encontrado.set()\n",
    "            print(\"¡Salud!\")\n",
    "            return\n",
    "    \n",
    "def busca_helado_de_piña():\n",
    "    print(\"¡Voy por el helado de piña!\")\n",
    "    for helado in helados:\n",
    "        time.sleep(1)\n",
    "        if helado == \"Piña\":\n",
    "            print(\"¡Encontré el helado!\")\n",
    "            pipeño_encontrado.wait()\n",
    "            helado_encontrado.set()\n",
    "            print(\"¡Salud!\")\n",
    "            return\n",
    "\n",
    "\n",
    "\n",
    "thread_1 = threading.Thread(target=busca_pipeño)\n",
    "thread_2 = threading.Thread(target=busca_helado_de_piña)\n",
    "\n",
    "thread_1.start()\n",
    "thread_2.start()\n",
    "thread_1.join()\n",
    "thread_2.join()\n",
    "print(\"¡Ti-ki-ti-ki-ti!\")"
   ]
  },
  {
   "cell_type": "markdown",
   "metadata": {},
   "source": [
    "**¿Qué pasa que el código no termina de correr? ¿Puedes arreglarlo?**"
   ]
  }
 ],
 "metadata": {
  "kernelspec": {
   "display_name": "Python 3 (ipykernel)",
   "language": "python",
   "name": "python3"
  },
  "language_info": {
   "codemirror_mode": {
    "name": "ipython",
    "version": 3
   },
   "file_extension": ".py",
   "mimetype": "text/x-python",
   "name": "python",
   "nbconvert_exporter": "python",
   "pygments_lexer": "ipython3",
   "version": "3.10.6"
  }
 },
 "nbformat": 4,
 "nbformat_minor": 4
}
