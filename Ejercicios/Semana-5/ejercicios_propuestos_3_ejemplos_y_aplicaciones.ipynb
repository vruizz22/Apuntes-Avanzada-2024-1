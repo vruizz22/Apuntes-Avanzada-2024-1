{
 "cells": [
  {
   "cell_type": "markdown",
   "metadata": {},
   "source": [
    "<p>\n",
    "<font size='5' face='Georgia, Arial'>IIC-2233 Apunte Programación Avanzada</font><br>\n",
    "<font size='1'> Ejercicios creados a partir de 2019-2 por Equipo Docente IIC2233. </font>\n",
    "<font size='1'> Actualizados el 2023-2.</font>\n",
    "</p>\n",
    "\n",
    "\n",
    "# Ejercicios propuestos: Threadings\n",
    "## Ejemplo y aplicaciones\n",
    "\n",
    "Los siguientes problemas se proveen como oportunidad de ejercitar los conceptos revisados en el material de ***Threading***. Si tienes dudas sobre algún problema o alguna solución, no dudes en dejar una *issue* en el [foro del curso](https://github.com/IIC2233/syllabus/issues)."
   ]
  },
  {
   "cell_type": "markdown",
   "metadata": {},
   "source": [
    "**ADVERTENCIA:** No corras los comandos en el notebook actual ya que no funcionarán de manera correcta. Debes copiar y pegar el código en tu IDE, y ejecutarlos desde ahí."
   ]
  },
  {
   "cell_type": "markdown",
   "metadata": {},
   "source": [
    "### Ejercicio 1: Bienvenidos y bienvenidas al circo"
   ]
  },
  {
   "cell_type": "markdown",
   "metadata": {},
   "source": [
    "Ha llegado el circo y tienen a sus tres mejores vendedores vendiendo entradas para la siguiente función. Para esto el jefe ha diseñado un código que simula el sistema de ventas, donde: \n",
    "\n",
    "- `asientos_vendidos` es una lista que contiene a los asientos, donde cada uno es un `bool` para indicar si está ocupado (`True`) o no (`False`).\n",
    "\n",
    "- `entradas_vendidas` es el total de entradas vendidas por los vendedores.\n",
    "\n",
    "Luego de un tiempo el jefe se da cuenta que hay un error en su simulación, pues nunca se logran vender correctamente el total de tickets. Debes analizar el siguiente código y utilizando `Lock` arregla el comportamiento del programa dónde se logran vender todos los tickets del circo. Intenta lograrlo utilizando un atributo de la clase `Circo`."
   ]
  },
  {
   "cell_type": "code",
   "execution_count": null,
   "metadata": {},
   "outputs": [],
   "source": [
    "from threading import Thread, Lock\n",
    "\n",
    "\n",
    "class Circo:\n",
    "    \n",
    "    def __init__(self):\n",
    "        self.entradas_vendidas = 0\n",
    "        self.asientos_vendidos = [False for _ in range(1000000)]\n",
    "        self.v1 = Thread(target=self.vendedor_1)\n",
    "        self.v2 = Thread(target=self.vendedor_2)\n",
    "        self.v3 = Thread(target=self.vendedor_3)\n",
    "        \n",
    "    def vender(self):\n",
    "        self.v1.start()\n",
    "        self.v2.start()\n",
    "        self.v3.start()\n",
    "        self.v1.join()\n",
    "        self.v2.join()\n",
    "        self.v3.join()\n",
    "\n",
    "    def vendedor_1(self):\n",
    "        for posicion in range(len(self.asientos_vendidos)):\n",
    "            if not self.asientos_vendidos[posicion]:\n",
    "                self.asientos_vendidos[posicion] = True\n",
    "                self.entradas_vendidas += 1\n",
    "\n",
    "    def vendedor_2(self):\n",
    "        for posicion in range(len(self.asientos_vendidos)):\n",
    "            if not self.asientos_vendidos[posicion]:\n",
    "                self.asientos_vendidos[posicion] = True\n",
    "                self.entradas_vendidas += 1\n",
    "\n",
    "    def vendedor_3(self):\n",
    "        for posicion in range(len(self.asientos_vendidos)):\n",
    "            if not self.asientos_vendidos[posicion]:\n",
    "                self.asientos_vendidos[posicion] = True\n",
    "                self.entradas_vendidas += 1\n",
    "\n",
    "                \n",
    "cirque_du_soleil = Circo()\n",
    "cirque_du_soleil.vender()\n",
    "\n",
    "print(cirque_du_soleil.entradas_vendidas)\n"
   ]
  }
 ],
 "metadata": {
  "kernelspec": {
   "display_name": "Python 3 (ipykernel)",
   "language": "python",
   "name": "python3"
  },
  "language_info": {
   "codemirror_mode": {
    "name": "ipython",
    "version": 3
   },
   "file_extension": ".py",
   "mimetype": "text/x-python",
   "name": "python",
   "nbconvert_exporter": "python",
   "pygments_lexer": "ipython3",
   "version": "3.10.10"
  }
 },
 "nbformat": 4,
 "nbformat_minor": 4
}
