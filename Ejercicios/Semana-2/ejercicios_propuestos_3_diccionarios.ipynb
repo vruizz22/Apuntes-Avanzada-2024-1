{
 "cells": [
  {
   "cell_type": "markdown",
   "metadata": {},
   "source": [
    "<p>\n",
    "<font size='5' face='Georgia, Arial'>IIC-2233 Apunte Programación Avanzada</font><br>\n",
    "<font size='1'> Ejercicios creados a partir de 2019-2 por Equipo Docente IIC2233. </font>\n",
    "<font size='1'> Actualizados el 2023-2.</font>\n",
    "</p>\n",
    "\n",
    "\n",
    "# Ejercicios propuestos: built-ins\n",
    "## Diccionarios"
   ]
  },
  {
   "cell_type": "markdown",
   "metadata": {},
   "source": [
    "Los siguientes problemas se proveen como oportunidad de ejercitar los conceptos revisados en el material de **estructuras de datos *built-ins***. Si tienes dudas sobre algún problema o alguna solución, no dudes en dejar una *issue* en el [foro del curso](https://github.com/IIC2233/syllabus/issues)."
   ]
  },
  {
   "cell_type": "markdown",
   "metadata": {},
   "source": [
    "### Ejercicio 1: Indice de consonantes en el abecedario"
   ]
  },
  {
   "cell_type": "markdown",
   "metadata": {},
   "source": [
    "A continuación, se te entrega código que tiene dentro de la variable `letras` un *string* que contiene en orden los caracteres del idioma inglés en orden, desde la `'a'` hasta la `'z'`. Con eso, sigue las siguientes instrucciones:\n",
    "\n",
    "- Crea un diccionario vacío.\n",
    "- Por cada carácter en `letras`, crea una asociación en tu diccionario, donde el valor es el carácter y la llave es el índice numérico donde se ubica ese carácter en `letras`. Por ejemplo, primero se agregaría la asociación `0: 'a'`, ya que la `'a'` es el primer carácter en `letras`.\n",
    "- Una vez todas creadas, elimina las asociaciones cuyas llaves sean múltiplos de 3.\n",
    "- Imprime el diccionario que resulta."
   ]
  },
  {
   "cell_type": "code",
   "execution_count": 6,
   "metadata": {},
   "outputs": [
    {
     "name": "stdout",
     "output_type": "stream",
     "text": [
      "abcdefghijklmnopqrstuvwxyz\n",
      "{0: 'a', 1: 'b', 2: 'c', 4: 'e', 5: 'f', 7: 'h', 8: 'i', 10: 'k', 11: 'l', 13: 'n', 14: 'o', 16: 'q', 17: 'r', 19: 't', 20: 'u', 22: 'w', 23: 'x', 25: 'z'}\n"
     ]
    }
   ],
   "source": [
    "from string import ascii_lowercase as letras\n",
    "\n",
    "\n",
    "print(letras)\n",
    "\n",
    "diccionario = {\n",
    "    contador: letras[contador] for contador in range(len(letras)) \n",
    "    if (contador % 3 != 0 or contador == 0)\n",
    "}\n",
    "\n",
    "print(diccionario)"
   ]
  },
  {
   "cell_type": "markdown",
   "metadata": {},
   "source": [
    "### Ejercicio 2: Categorizar por grupo"
   ]
  },
  {
   "cell_type": "markdown",
   "metadata": {},
   "source": [
    "A continuación, se te entrega un código incompleto. Hasta el momento, crea una lista (`personas`) de 100 instancias de la namedtupla `Persona` que poseen `edad` y `nacionalidad` cada una. Debes crear dos diccionarios: `personas_por_pais` y `personas_por_edad`, y poblarlos tal que:\n",
    "\n",
    "- `personas_por_pais` contenga asociaciones donde las llaves son nombres de las distintas nacionalidades posibles para las instancias de `Persona`, y el valor asociado es una lista con aquellas instancias en `personas` que tienen ese valor de `nacionalidad`.\n",
    "- `personas_por_edad` similarmente contenga listas de instancias en `personas` pero categorizados por rangos de edades en las llaves. Específicamente, las llaves deben ser tuplas que indiquen los extremos de dichos rangos que vayan de 10 en 10. Es decir: `(0, 9)`, `(10, 19)`, ..., `(90, 99)`; son llaves del diccionario.\n",
    "\n",
    "**Observación**: No hay una única forma de generar lo pedido, intenta hacerlo como puedas inicialmente, y luego analiza si lo puedes alterar o usar otro tipo de definición de diccionario distinta."
   ]
  },
  {
   "cell_type": "code",
   "execution_count": 19,
   "metadata": {},
   "outputs": [
    {
     "name": "stdout",
     "output_type": "stream",
     "text": [
      "{'Argentina': [Persona(edad=99, nacionalidad='Argentina'), Persona(edad=86, nacionalidad='Argentina'), Persona(edad=47, nacionalidad='Argentina'), Persona(edad=74, nacionalidad='Argentina'), Persona(edad=56, nacionalidad='Argentina'), Persona(edad=82, nacionalidad='Argentina'), Persona(edad=90, nacionalidad='Argentina'), Persona(edad=94, nacionalidad='Argentina'), Persona(edad=15, nacionalidad='Argentina'), Persona(edad=43, nacionalidad='Argentina'), Persona(edad=34, nacionalidad='Argentina'), Persona(edad=34, nacionalidad='Argentina'), Persona(edad=77, nacionalidad='Argentina'), Persona(edad=88, nacionalidad='Argentina'), Persona(edad=3, nacionalidad='Argentina'), Persona(edad=9, nacionalidad='Argentina'), Persona(edad=98, nacionalidad='Argentina'), Persona(edad=74, nacionalidad='Argentina'), Persona(edad=22, nacionalidad='Argentina'), Persona(edad=73, nacionalidad='Argentina'), Persona(edad=91, nacionalidad='Argentina'), Persona(edad=5, nacionalidad='Argentina')], 'Bolivia': [Persona(edad=91, nacionalidad='Bolivia'), Persona(edad=97, nacionalidad='Bolivia'), Persona(edad=44, nacionalidad='Bolivia'), Persona(edad=79, nacionalidad='Bolivia'), Persona(edad=83, nacionalidad='Bolivia'), Persona(edad=68, nacionalidad='Bolivia'), Persona(edad=4, nacionalidad='Bolivia'), Persona(edad=86, nacionalidad='Bolivia'), Persona(edad=59, nacionalidad='Bolivia'), Persona(edad=62, nacionalidad='Bolivia'), Persona(edad=8, nacionalidad='Bolivia'), Persona(edad=8, nacionalidad='Bolivia'), Persona(edad=50, nacionalidad='Bolivia'), Persona(edad=75, nacionalidad='Bolivia'), Persona(edad=47, nacionalidad='Bolivia'), Persona(edad=55, nacionalidad='Bolivia'), Persona(edad=52, nacionalidad='Bolivia'), Persona(edad=36, nacionalidad='Bolivia'), Persona(edad=2, nacionalidad='Bolivia'), Persona(edad=95, nacionalidad='Bolivia'), Persona(edad=64, nacionalidad='Bolivia'), Persona(edad=35, nacionalidad='Bolivia'), Persona(edad=12, nacionalidad='Bolivia'), Persona(edad=19, nacionalidad='Bolivia'), Persona(edad=71, nacionalidad='Bolivia'), Persona(edad=88, nacionalidad='Bolivia'), Persona(edad=67, nacionalidad='Bolivia'), Persona(edad=88, nacionalidad='Bolivia')], 'Chile': [Persona(edad=86, nacionalidad='Chile'), Persona(edad=16, nacionalidad='Chile'), Persona(edad=26, nacionalidad='Chile'), Persona(edad=7, nacionalidad='Chile'), Persona(edad=59, nacionalidad='Chile'), Persona(edad=32, nacionalidad='Chile'), Persona(edad=7, nacionalidad='Chile'), Persona(edad=49, nacionalidad='Chile'), Persona(edad=41, nacionalidad='Chile'), Persona(edad=62, nacionalidad='Chile'), Persona(edad=68, nacionalidad='Chile'), Persona(edad=36, nacionalidad='Chile'), Persona(edad=54, nacionalidad='Chile'), Persona(edad=34, nacionalidad='Chile'), Persona(edad=30, nacionalidad='Chile'), Persona(edad=24, nacionalidad='Chile'), Persona(edad=30, nacionalidad='Chile'), Persona(edad=88, nacionalidad='Chile'), Persona(edad=6, nacionalidad='Chile'), Persona(edad=56, nacionalidad='Chile'), Persona(edad=23, nacionalidad='Chile'), Persona(edad=38, nacionalidad='Chile'), Persona(edad=25, nacionalidad='Chile'), Persona(edad=89, nacionalidad='Chile'), Persona(edad=99, nacionalidad='Chile'), Persona(edad=96, nacionalidad='Chile'), Persona(edad=72, nacionalidad='Chile')], 'Perú': [Persona(edad=23, nacionalidad='Perú'), Persona(edad=24, nacionalidad='Perú'), Persona(edad=7, nacionalidad='Perú'), Persona(edad=24, nacionalidad='Perú'), Persona(edad=4, nacionalidad='Perú'), Persona(edad=61, nacionalidad='Perú'), Persona(edad=31, nacionalidad='Perú'), Persona(edad=26, nacionalidad='Perú'), Persona(edad=0, nacionalidad='Perú'), Persona(edad=85, nacionalidad='Perú'), Persona(edad=51, nacionalidad='Perú'), Persona(edad=89, nacionalidad='Perú'), Persona(edad=93, nacionalidad='Perú'), Persona(edad=30, nacionalidad='Perú'), Persona(edad=89, nacionalidad='Perú'), Persona(edad=12, nacionalidad='Perú'), Persona(edad=46, nacionalidad='Perú'), Persona(edad=47, nacionalidad='Perú'), Persona(edad=98, nacionalidad='Perú'), Persona(edad=80, nacionalidad='Perú'), Persona(edad=61, nacionalidad='Perú'), Persona(edad=51, nacionalidad='Perú'), Persona(edad=31, nacionalidad='Perú')]}\n",
      "{(0, 9): [Persona(edad=7, nacionalidad='Chile'), Persona(edad=4, nacionalidad='Bolivia'), Persona(edad=7, nacionalidad='Chile'), Persona(edad=7, nacionalidad='Perú'), Persona(edad=8, nacionalidad='Bolivia'), Persona(edad=8, nacionalidad='Bolivia'), Persona(edad=4, nacionalidad='Perú'), Persona(edad=0, nacionalidad='Perú'), Persona(edad=6, nacionalidad='Chile'), Persona(edad=2, nacionalidad='Bolivia'), Persona(edad=3, nacionalidad='Argentina'), Persona(edad=9, nacionalidad='Argentina'), Persona(edad=5, nacionalidad='Argentina')], (10, 19): [Persona(edad=16, nacionalidad='Chile'), Persona(edad=15, nacionalidad='Argentina'), Persona(edad=12, nacionalidad='Bolivia'), Persona(edad=19, nacionalidad='Bolivia'), Persona(edad=12, nacionalidad='Perú')], (20, 29): [Persona(edad=23, nacionalidad='Perú'), Persona(edad=26, nacionalidad='Chile'), Persona(edad=24, nacionalidad='Perú'), Persona(edad=24, nacionalidad='Perú'), Persona(edad=24, nacionalidad='Chile'), Persona(edad=26, nacionalidad='Perú'), Persona(edad=23, nacionalidad='Chile'), Persona(edad=25, nacionalidad='Chile'), Persona(edad=22, nacionalidad='Argentina')], (30, 39): [Persona(edad=32, nacionalidad='Chile'), Persona(edad=36, nacionalidad='Chile'), Persona(edad=34, nacionalidad='Chile'), Persona(edad=30, nacionalidad='Chile'), Persona(edad=31, nacionalidad='Perú'), Persona(edad=34, nacionalidad='Argentina'), Persona(edad=30, nacionalidad='Chile'), Persona(edad=34, nacionalidad='Argentina'), Persona(edad=36, nacionalidad='Bolivia'), Persona(edad=38, nacionalidad='Chile'), Persona(edad=35, nacionalidad='Bolivia'), Persona(edad=30, nacionalidad='Perú'), Persona(edad=31, nacionalidad='Perú')], (40, 49): [Persona(edad=44, nacionalidad='Bolivia'), Persona(edad=47, nacionalidad='Argentina'), Persona(edad=49, nacionalidad='Chile'), Persona(edad=41, nacionalidad='Chile'), Persona(edad=47, nacionalidad='Bolivia'), Persona(edad=43, nacionalidad='Argentina'), Persona(edad=46, nacionalidad='Perú'), Persona(edad=47, nacionalidad='Perú')], (50, 59): [Persona(edad=59, nacionalidad='Chile'), Persona(edad=56, nacionalidad='Argentina'), Persona(edad=59, nacionalidad='Bolivia'), Persona(edad=50, nacionalidad='Bolivia'), Persona(edad=54, nacionalidad='Chile'), Persona(edad=55, nacionalidad='Bolivia'), Persona(edad=52, nacionalidad='Bolivia'), Persona(edad=51, nacionalidad='Perú'), Persona(edad=56, nacionalidad='Chile'), Persona(edad=51, nacionalidad='Perú')], (60, 69): [Persona(edad=68, nacionalidad='Bolivia'), Persona(edad=62, nacionalidad='Bolivia'), Persona(edad=61, nacionalidad='Perú'), Persona(edad=62, nacionalidad='Chile'), Persona(edad=68, nacionalidad='Chile'), Persona(edad=64, nacionalidad='Bolivia'), Persona(edad=67, nacionalidad='Bolivia'), Persona(edad=61, nacionalidad='Perú')], (70, 79): [Persona(edad=79, nacionalidad='Bolivia'), Persona(edad=74, nacionalidad='Argentina'), Persona(edad=75, nacionalidad='Bolivia'), Persona(edad=77, nacionalidad='Argentina'), Persona(edad=71, nacionalidad='Bolivia'), Persona(edad=72, nacionalidad='Chile'), Persona(edad=74, nacionalidad='Argentina'), Persona(edad=73, nacionalidad='Argentina')], (80, 89): [Persona(edad=83, nacionalidad='Bolivia'), Persona(edad=86, nacionalidad='Chile'), Persona(edad=86, nacionalidad='Argentina'), Persona(edad=86, nacionalidad='Bolivia'), Persona(edad=82, nacionalidad='Argentina'), Persona(edad=88, nacionalidad='Chile'), Persona(edad=85, nacionalidad='Perú'), Persona(edad=89, nacionalidad='Perú'), Persona(edad=88, nacionalidad='Argentina'), Persona(edad=89, nacionalidad='Perú'), Persona(edad=89, nacionalidad='Chile'), Persona(edad=88, nacionalidad='Bolivia'), Persona(edad=80, nacionalidad='Perú'), Persona(edad=88, nacionalidad='Bolivia')], (90, 99): [Persona(edad=91, nacionalidad='Bolivia'), Persona(edad=97, nacionalidad='Bolivia'), Persona(edad=99, nacionalidad='Argentina'), Persona(edad=90, nacionalidad='Argentina'), Persona(edad=94, nacionalidad='Argentina'), Persona(edad=95, nacionalidad='Bolivia'), Persona(edad=93, nacionalidad='Perú'), Persona(edad=99, nacionalidad='Chile'), Persona(edad=96, nacionalidad='Chile'), Persona(edad=98, nacionalidad='Argentina'), Persona(edad=98, nacionalidad='Perú'), Persona(edad=91, nacionalidad='Argentina')]}\n"
     ]
    }
   ],
   "source": [
    "from random import choice, randint\n",
    "from collections import namedtuple \n",
    "\n",
    "\n",
    "paises = ['Argentina', 'Bolivia', 'Chile', 'Perú']\n",
    "Persona = namedtuple('Persona', 'edad nacionalidad')\n",
    "\n",
    "personas = []\n",
    "for i in range(100):\n",
    "    nueva_persona = Persona(randint(0, 99), choice(paises))\n",
    "    personas.append(nueva_persona)\n",
    "\n",
    "personas_por_pais = {\n",
    "    pais: [persona for persona in personas if persona.nacionalidad == pais] \n",
    "    for pais in paises\n",
    "}\n",
    "\n",
    "personas_por_edad = {\n",
    "    (count, count + 9): [persona for persona in personas if count <= persona.edad <= count + 9] \n",
    "    for count in range(0, 100, 10)\n",
    "}\n",
    "\n",
    "print(personas_por_pais)\n",
    "print(personas_por_edad)\n",
    "\n"
   ]
  },
  {
   "cell_type": "markdown",
   "metadata": {},
   "source": [
    "### Ejercicio 3: Diccionarios y funciones"
   ]
  },
  {
   "cell_type": "markdown",
   "metadata": {},
   "source": [
    "El siguiente código tiene lo necesario para simular el movimiento de un objeto en una matriz de 3 por 3. La variable `tablero` es una lista de listas con el contenido del tablero matricial, donde `'o'` representa el objeto en movimiento, y `pos` es la posición actual del objeto en la matriz. Por otro lado, las funciones `bajar`, `subir`, `derecha` e `izquierda` generan los cambios en `tablero` y `pos` para mover el objeto correspondientemente.\n",
    "\n",
    "La última sección genera interacción con el usuario mediante `input`, donde al recibir los caracteres `'a'`, `'s'`, `'d'`, `'w'` y `'q'` genera una acción. Ya está definido que al ingresar `'q'`, se termina el programa. Debes completar el programa para que al ingresar `'a'` el objeto se mueva a la izquierda, al ingresar `'d'` el objeto se mueva a la derecha, al ingresar `'s'` el objeto se mueva hacia abajo, y al ingresar `'w'` el objeto se mueva hacia arriba.\n",
    "\n",
    "**Observación:** Es fácil el ejercicio utilizando más sentencias `if-elif-else`. Intenta no usarlas y en su lugar utilizar un diccionario para resolverlo."
   ]
  },
  {
   "cell_type": "code",
   "execution_count": 21,
   "metadata": {},
   "outputs": [
    {
     "name": "stdout",
     "output_type": "stream",
     "text": [
      "---\n",
      "-o-\n",
      "---\n",
      "\n",
      "---\n",
      "o--\n",
      "---\n",
      "\n",
      "---\n",
      "o--\n",
      "---\n",
      "\n",
      "---\n",
      "-o-\n",
      "---\n",
      "\n",
      "-o-\n",
      "---\n",
      "---\n",
      "\n",
      "--o\n",
      "---\n",
      "---\n",
      "\n",
      "--o\n",
      "---\n",
      "---\n",
      "\n",
      "---\n",
      "--o\n",
      "---\n",
      "\n",
      "---\n",
      "---\n",
      "--o\n",
      "\n",
      "---\n",
      "---\n",
      "--o\n",
      "\n",
      "---\n",
      "---\n",
      "-o-\n",
      "\n",
      "---\n",
      "---\n",
      "o--\n",
      "\n",
      "---\n",
      "o--\n",
      "---\n",
      "\n",
      "o--\n",
      "---\n",
      "---\n",
      "\n",
      "o--\n",
      "---\n",
      "---\n",
      "\n",
      "-o-\n",
      "---\n",
      "---\n",
      "\n",
      "--o\n",
      "---\n",
      "---\n",
      "\n",
      "---\n",
      "--o\n",
      "---\n",
      "\n",
      "---\n",
      "-o-\n",
      "---\n",
      "\n",
      "---\n",
      "o--\n",
      "---\n",
      "\n",
      "¡Adios!\n"
     ]
    }
   ],
   "source": [
    "tablero = [['-', '-', '-'], ['-', 'o', '-'], ['-', '-', '-']]\n",
    "pos = (1, 1)\n",
    "\n",
    "\n",
    "def bajar(tablero, pos):\n",
    "    tablero[pos[1]][pos[0]] = '-'\n",
    "    pos = (pos[0], min(pos[1] + 1, 2))\n",
    "    tablero[pos[1]][pos[0]] = 'o'\n",
    "    return tablero, pos\n",
    "\n",
    "\n",
    "def subir(tablero, pos):\n",
    "    tablero[pos[1]][pos[0]] = '-'\n",
    "    pos = (pos[0], max(pos[1] - 1, 0))\n",
    "    tablero[pos[1]][pos[0]] = 'o'\n",
    "    return tablero, pos\n",
    "\n",
    "\n",
    "def derecha(tablero, pos):\n",
    "    tablero[pos[1]][pos[0]] = '-'\n",
    "    pos = (min(pos[0] + 1, 2), pos[1])\n",
    "    tablero[pos[1]][pos[0]] = 'o'\n",
    "    return tablero, pos\n",
    "\n",
    "\n",
    "def izquierda(tablero, pos):\n",
    "    tablero[pos[1]][pos[0]] = '-'\n",
    "    pos = (max(pos[0] - 1, 0), pos[1])\n",
    "    tablero[pos[1]][pos[0]] = 'o'\n",
    "    return tablero, pos\n",
    "\n",
    "# Puedes rellenar aquí\n",
    "\n",
    "movimientos  = {\"a\": izquierda, \"d\": derecha, \"s\": bajar, \"w\": subir}\n",
    "\n",
    "while True:\n",
    "    for fila in tablero:\n",
    "        print(\"\".join(fila))\n",
    "    print()\n",
    "    accion = input(\"Ingresa acción: \")\n",
    "    if accion in \"asdw\":\n",
    "        tablero, pos = movimientos[accion](tablero, pos)\n",
    "    elif accion == \"q\":\n",
    "        print(\"¡Adios!\")\n",
    "        break\n",
    "    else:\n",
    "        print(\"Inválido\")"
   ]
  }
 ],
 "metadata": {
  "kernelspec": {
   "display_name": "Python 3 (ipykernel)",
   "language": "python",
   "name": "python3"
  },
  "language_info": {
   "codemirror_mode": {
    "name": "ipython",
    "version": 3
   },
   "file_extension": ".py",
   "mimetype": "text/x-python",
   "name": "python",
   "nbconvert_exporter": "python",
   "pygments_lexer": "ipython3",
   "version": "3.11.7"
  }
 },
 "nbformat": 4,
 "nbformat_minor": 4
}
