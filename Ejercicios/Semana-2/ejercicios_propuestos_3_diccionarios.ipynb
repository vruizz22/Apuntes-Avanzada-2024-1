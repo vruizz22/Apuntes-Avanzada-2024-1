{
 "cells": [
  {
   "cell_type": "markdown",
   "metadata": {},
   "source": [
    "<p>\n",
    "<font size='5' face='Georgia, Arial'>IIC-2233 Apunte Programación Avanzada</font><br>\n",
    "<font size='1'> Ejercicios creados a partir de 2019-2 por Equipo Docente IIC2233. </font>\n",
    "<font size='1'> Actualizados el 2023-2.</font>\n",
    "</p>\n",
    "\n",
    "\n",
    "# Ejercicios propuestos: built-ins\n",
    "## Diccionarios"
   ]
  },
  {
   "cell_type": "markdown",
   "metadata": {},
   "source": [
    "Los siguientes problemas se proveen como oportunidad de ejercitar los conceptos revisados en el material de **estructuras de datos *built-ins***. Si tienes dudas sobre algún problema o alguna solución, no dudes en dejar una *issue* en el [foro del curso](https://github.com/IIC2233/syllabus/issues)."
   ]
  },
  {
   "cell_type": "markdown",
   "metadata": {},
   "source": [
    "### Ejercicio 1: Indice de consonantes en el abecedario"
   ]
  },
  {
   "cell_type": "markdown",
   "metadata": {},
   "source": [
    "A continuación, se te entrega código que tiene dentro de la variable `letras` un *string* que contiene en orden los caracteres del idioma inglés en orden, desde la `'a'` hasta la `'z'`. Con eso, sigue las siguientes instrucciones:\n",
    "\n",
    "- Crea un diccionario vacío.\n",
    "- Por cada carácter en `letras`, crea una asociación en tu diccionario, donde el valor es el carácter y la llave es el índice numérico donde se ubica ese carácter en `letras`. Por ejemplo, primero se agregaría la asociación `0: 'a'`, ya que la `'a'` es el primer carácter en `letras`.\n",
    "- Una vez todas creadas, elimina las asociaciones cuyas llaves sean múltiplos de 3.\n",
    "- Imprime el diccionario que resulta."
   ]
  },
  {
   "cell_type": "code",
   "execution_count": null,
   "metadata": {},
   "outputs": [],
   "source": [
    "from string import ascii_lowercase as letras\n",
    "\n",
    "\n",
    "print(letras)\n",
    "\n",
    "# Completar"
   ]
  },
  {
   "cell_type": "markdown",
   "metadata": {},
   "source": [
    "### Ejercicio 2: Categorizar por grupo"
   ]
  },
  {
   "cell_type": "markdown",
   "metadata": {},
   "source": [
    "A continuación, se te entrega un código incompleto. Hasta el momento, crea una lista (`personas`) de 100 instancias de la namedtupla `Persona` que poseen `edad` y `nacionalidad` cada una. Debes crear dos diccionarios: `personas_por_pais` y `personas_por_edad`, y poblarlos tal que:\n",
    "\n",
    "- `personas_por_pais` contenga asociaciones donde las llaves son nombres de las distintas nacionalidades posibles para las instancias de `Persona`, y el valor asociado es una lista con aquellas instancias en `personas` que tienen ese valor de `nacionalidad`.\n",
    "- `personas_por_edad` similarmente contenga listas de instancias en `personas` pero categorizados por rangos de edades en las llaves. Específicamente, las llaves deben ser tuplas que indiquen los extremos de dichos rangos que vayan de 10 en 10. Es decir: `(0, 9)`, `(10, 19)`, ..., `(90, 99)`; son llaves del diccionario.\n",
    "\n",
    "**Observación**: No hay una única forma de generar lo pedido, intenta hacerlo como puedas inicialmente, y luego analiza si lo puedes alterar o usar otro tipo de definición de diccionario distinta."
   ]
  },
  {
   "cell_type": "code",
   "execution_count": null,
   "metadata": {},
   "outputs": [],
   "source": [
    "from random import choice, randint\n",
    "from collections import namedtuple, defaultdict  # Puedes usar defaultdict si lo deseas\n",
    "\n",
    "\n",
    "paises = ['Argentina', 'Bolivia', 'Chile', 'Perú']\n",
    "Persona = namedtuple('Persona', 'edad nacionalidad')\n",
    "\n",
    "personas = []\n",
    "for i in range(100):\n",
    "    nueva_persona = Persona(randint(0, 99), choice(paises))\n",
    "    personas.append(nueva_persona)\n",
    "\n",
    "\n",
    "# Completar"
   ]
  },
  {
   "cell_type": "markdown",
   "metadata": {},
   "source": [
    "### Ejercicio 3: Diccionarios y funciones"
   ]
  },
  {
   "cell_type": "markdown",
   "metadata": {},
   "source": [
    "El siguiente código tiene lo necesario para simular el movimiento de un objeto en una matriz de 3 por 3. La variable `tablero` es una lista de listas con el contenido del tablero matricial, donde `'o'` representa el objeto en movimiento, y `pos` es la posición actual del objeto en la matriz. Por otro lado, las funciones `bajar`, `subir`, `derecha` e `izquierda` generan los cambios en `tablero` y `pos` para mover el objeto correspondientemente.\n",
    "\n",
    "La última sección genera interacción con el usuario mediante `input`, donde al recibir los caracteres `'a'`, `'s'`, `'d'`, `'w'` y `'q'` genera una acción. Ya está definido que al ingresar `'q'`, se termina el programa. Debes completar el programa para que al ingresar `'a'` el objeto se mueva a la izquierda, al ingresar `'d'` el objeto se mueva a la derecha, al ingresar `'s'` el objeto se mueva hacia abajo, y al ingresar `'w'` el objeto se mueva hacia arriba.\n",
    "\n",
    "**Observación:** Es fácil el ejercicio utilizando más sentencias `if-elif-else`. Intenta no usarlas y en su lugar utilizar un diccionario para resolverlo."
   ]
  },
  {
   "cell_type": "code",
   "execution_count": null,
   "metadata": {},
   "outputs": [],
   "source": [
    "tablero = [['-', '-', '-'], ['-', 'o', '-'], ['-', '-', '-']]\n",
    "pos = (1, 1)\n",
    "\n",
    "\n",
    "def bajar(tablero, pos):\n",
    "    tablero[pos[1]][pos[0]] = '-'\n",
    "    pos = (pos[0], min(pos[1] + 1, 2))\n",
    "    tablero[pos[1]][pos[0]] = 'o'\n",
    "    return tablero, pos\n",
    "\n",
    "\n",
    "def subir(tablero, pos):\n",
    "    tablero[pos[1]][pos[0]] = '-'\n",
    "    pos = (pos[0], max(pos[1] - 1, 0))\n",
    "    tablero[pos[1]][pos[0]] = 'o'\n",
    "    return tablero, pos\n",
    "\n",
    "\n",
    "def derecha(tablero, pos):\n",
    "    tablero[pos[1]][pos[0]] = '-'\n",
    "    pos = (min(pos[0] + 1, 2), pos[1])\n",
    "    tablero[pos[1]][pos[0]] = 'o'\n",
    "    return tablero, pos\n",
    "\n",
    "\n",
    "def izquierda(tablero, pos):\n",
    "    tablero[pos[1]][pos[0]] = '-'\n",
    "    pos = (max(pos[0] - 1, 0), pos[1])\n",
    "    tablero[pos[1]][pos[0]] = 'o'\n",
    "    return tablero, pos\n",
    "\n",
    "# Puedes rellenar aquí\n",
    "\n",
    "\n",
    "while True:\n",
    "    for fila in tablero:\n",
    "        print(\"\".join(fila))\n",
    "    accion = input(\"Ingresa acción: \")\n",
    "    if accion in \"asdw\":\n",
    "        # Completar aquí\n",
    "        pass\n",
    "    elif accion == \"q\":\n",
    "        print(\"¡Adios!\")\n",
    "        break\n",
    "    else:\n",
    "        print(\"Inválido\")"
   ]
  }
 ],
 "metadata": {
  "kernelspec": {
   "display_name": "Python 3 (ipykernel)",
   "language": "python",
   "name": "python3"
  },
  "language_info": {
   "codemirror_mode": {
    "name": "ipython",
    "version": 3
   },
   "file_extension": ".py",
   "mimetype": "text/x-python",
   "name": "python",
   "nbconvert_exporter": "python",
   "pygments_lexer": "ipython3",
   "version": "3.10.12"
  }
 },
 "nbformat": 4,
 "nbformat_minor": 4
}
