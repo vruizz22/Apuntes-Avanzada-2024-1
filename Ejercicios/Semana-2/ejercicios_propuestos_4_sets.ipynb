{
 "cells": [
  {
   "cell_type": "markdown",
   "metadata": {},
   "source": [
    "<p>\n",
    "<font size='5' face='Georgia, Arial'>IIC-2233 Apunte Programación Avanzada</font><br>\n",
    "<font size='1'> Ejercicios creados a partir de 2019-2 por Equipo Docente IIC2233. </font>\n",
    "<font size='1'> Actualizados el 2023-2.</font>\n",
    "</p>\n",
    "\n",
    "\n",
    "# Ejercicios propuestos: built-ins\n",
    "## Sets"
   ]
  },
  {
   "cell_type": "markdown",
   "metadata": {},
   "source": [
    "Los siguientes problemas se proveen como oportunidad de ejercitar los conceptos revisados en el material de **estructuras de datos *built-ins***. Si tienes dudas sobre algún problema o alguna solución, no dudes en dejar una *issue* en el [foro del curso](https://github.com/IIC2233/syllabus/issues).\n"
   ]
  },
  {
   "cell_type": "markdown",
   "metadata": {},
   "source": [
    "### Ejercicio 1: *Set* de números aleatorios"
   ]
  },
  {
   "cell_type": "markdown",
   "metadata": {},
   "source": [
    "Crea un *set* vacío, y agrega 100 veces un número aleatorio entre 0 y 100. Luego imprime el *set* que resulta. Una vez resuelto, intenta generar el mismo resultado utilizando una estructura por comprensión."
   ]
  },
  {
   "cell_type": "code",
   "execution_count": null,
   "metadata": {},
   "outputs": [],
   "source": [
    "from random import randint\n",
    "\n",
    "\n",
    "# Completar"
   ]
  },
  {
   "cell_type": "markdown",
   "metadata": {},
   "source": [
    "### Ejercicio 2: Eficiencia de revisión de pertenencia en *sets*"
   ]
  },
  {
   "cell_type": "markdown",
   "metadata": {},
   "source": [
    "La intención es extender el experimento del material que revisa el tiempo que demora buscar cierto elemento en listas y conjuntos muy grandes. En ese ejemplo, siempre se buscaba el mismo elemento. Ahora, debes extenderlo para probar varios casos, donde el elemento buscado varía. Se te entrega creada una función (`pertenencia_cronometrada`) que cronometra la revisión de pertenencia de un elemento en una estructura cualquiera; y luego está la creación del *set* y lista gigantes. El programa debe generar 100 experimentos donde busca en ambas estructuras un elemento aleatorio cualquiera y cronometra cuanto demora en cada estructura. Finalmente, debe mostrar también cuanto tiempo promedio tomó para cada estructura la búsqueda en la totalidad de los experimentos.\n",
    "\n",
    "Una vez completado eso, extiende la simulación para que cada experimento aleatorio nuevo **no se repita**."
   ]
  },
  {
   "cell_type": "code",
   "execution_count": null,
   "metadata": {},
   "outputs": [],
   "source": [
    "from time import time\n",
    "from random import randint\n",
    "\n",
    "\n",
    "def pertenencia_cronometrada(elemento, estructura):\n",
    "    inicio = time()\n",
    "    elemento in estructura\n",
    "    fin = time()\n",
    "    return fin - inicio\n",
    "\n",
    "\n",
    "ELEMENTOS = 10 ** 7\n",
    "lista_gigante = list(range(ELEMENTOS))\n",
    "set_gigante = set(range(ELEMENTOS))\n",
    "\n",
    "# Puedes rellenar aquí\n",
    "\n",
    "for _ in range(100):\n",
    "\n",
    "    # Completar\n",
    "\n",
    "    print(f\"set  -- La búsqueda de {elemento} demoró... {tiempo_set:.6f} segundos.\")\n",
    "    print(f\"list -- La búsqueda de {elemento} demoró... {tiempo_lista:.6f} segundos.\")\n",
    "\n",
    "# Puedes rellenar aquí\n",
    "\n",
    "print(f\"set  -- La búsqueda en promedio demoró... {set_promedio:.6f} segundos.\")\n",
    "print(f\"list -- La búsqueda en promedio demoró... {lista_promedio:.6f} segundos.\")\n",
    "print(f\"La búsqueda en la lista fue {lista_promedio / set_promedio:.2f} veces más lenta que en el set.\")"
   ]
  }
 ],
 "metadata": {
  "kernelspec": {
   "display_name": "Python 3 (ipykernel)",
   "language": "python",
   "name": "python3"
  },
  "language_info": {
   "codemirror_mode": {
    "name": "ipython",
    "version": 3
   },
   "file_extension": ".py",
   "mimetype": "text/x-python",
   "name": "python",
   "nbconvert_exporter": "python",
   "pygments_lexer": "ipython3",
   "version": "3.10.12"
  }
 },
 "nbformat": 4,
 "nbformat_minor": 4
}
