{
 "cells": [
  {
   "cell_type": "markdown",
   "metadata": {},
   "source": [
    "<p>\n",
    "<font size='5' face='Georgia, Arial'>IIC-2233 Apunte Programación Avanzada</font><br>\n",
    "<font size='1'> Ejercicios creados a partir de 2019-2 por Equipo Docente IIC2233. </font>\n",
    "<font size='1'> Actualizados el 2024-1.</font>\n",
    "</p>\n",
    "\n",
    "\n",
    "# Ejercicios propuestos: built-ins\n",
    "## *args y **kwargs"
   ]
  },
  {
   "cell_type": "markdown",
   "metadata": {},
   "source": [
    "Los siguientes problemas se proveen como oportunidad de ejercitar los conceptos revisados en el material de **estructuras de datos *built-ins***. Si tienes dudas sobre algún problema o alguna solución, no dudes en dejar una *issue* en el [foro del curso](https://github.com/IIC2233/syllabus/issues)."
   ]
  },
  {
   "cell_type": "markdown",
   "metadata": {},
   "source": [
    "### Ejercicio 1: Múltiples argumentos de `print`"
   ]
  },
  {
   "cell_type": "markdown",
   "metadata": {},
   "source": [
    "`print` puede recibir una cantidad arbitraría de argumentos posicionales e imprimirlos todos con cierto por separador *string* entre ellos. Por defecto, ese separador es el espacio `' '`, pero también recibe un parámetro opcional (`sep`) que permite alterar dicho separador. A su vez, recibe un parámetro opcional (`end`) que permite alterar con qué termina lo impreso, cuyo default es `'\\n'` (salto de línea).\n",
    "\n",
    "El siguiente código genera una lista de listas con strings numéricos de dos dígitos. Luego se imprime fila por fila, lo cual resulta en la impresión literal de cada sub-lista contenidas en `numeros`."
   ]
  },
  {
   "cell_type": "code",
   "execution_count": null,
   "metadata": {},
   "outputs": [],
   "source": [
    "numeros = [[str((fila * 10 + columna)).zfill(2) for columna in range(10)] for fila in range(10)]\n",
    "\n",
    "for fila in numeros:\n",
    "    print(fila)"
   ]
  },
  {
   "cell_type": "markdown",
   "metadata": {},
   "source": [
    "Completa las siguientes secciones haciendo uso de los argumentos de `print` para imprimir los números en ciertos formatos. Primero:\n",
    "\n",
    "```\n",
    "00 01 02 03 04 05 06 07 08 09\n",
    "10 11 12 13 14 15 16 17 18 19\n",
    "20 21 22 23 24 25 26 27 28 29\n",
    "30 31 32 33 34 35 36 37 38 39\n",
    "40 41 42 43 44 45 46 47 48 49\n",
    "50 51 52 53 54 55 56 57 58 59\n",
    "60 61 62 63 64 65 66 67 68 69\n",
    "70 71 72 73 74 75 76 77 78 79\n",
    "80 81 82 83 84 85 86 87 88 89\n",
    "90 91 92 93 94 95 96 97 98 99\n",
    "```"
   ]
  },
  {
   "cell_type": "code",
   "execution_count": null,
   "metadata": {},
   "outputs": [],
   "source": [
    "for fila in numeros:\n",
    "    # Completar"
   ]
  },
  {
   "cell_type": "markdown",
   "metadata": {},
   "source": [
    "Luego:\n",
    "```\n",
    "00-01-02-03-04-05-06-07-08-09\n",
    "10-11-12-13-14-15-16-17-18-19\n",
    "20-21-22-23-24-25-26-27-28-29\n",
    "30-31-32-33-34-35-36-37-38-39\n",
    "40-41-42-43-44-45-46-47-48-49\n",
    "50-51-52-53-54-55-56-57-58-59\n",
    "60-61-62-63-64-65-66-67-68-69\n",
    "70-71-72-73-74-75-76-77-78-79\n",
    "80-81-82-83-84-85-86-87-88-89\n",
    "90-91-92-93-94-95-96-97-98-99\n",
    "```"
   ]
  },
  {
   "cell_type": "code",
   "execution_count": null,
   "metadata": {},
   "outputs": [],
   "source": [
    "for fila in numeros:\n",
    "    # Completar"
   ]
  },
  {
   "cell_type": "markdown",
   "metadata": {},
   "source": [
    "Y finalmente:\n",
    "```\n",
    "00>01>02>03>04>05>06>07>08>09>10>11>12>13>14>15>16>17>18>19>20>21>22>23>24>25>26>27>28>29>30>31>32>33>34>35>36>37>38>39>40>41>42>43>44>45>46>47>48>49>50>51>52>53>54>55>56>57>58>59>60>61>62>63>64>65>66>67>68>69>70>71>72>73>74>75>76>77>78>79>80>81>82>83>84>85>86>87>88>89>90>91>92>93>94>95>96>97>98>99>\n",
    "```"
   ]
  },
  {
   "cell_type": "code",
   "execution_count": null,
   "metadata": {},
   "outputs": [],
   "source": [
    "for fila in numeros:\n",
    "    # Completar"
   ]
  },
  {
   "cell_type": "markdown",
   "metadata": {},
   "source": [
    "### Ejercicio 2: Clonando diccionarios"
   ]
  },
  {
   "cell_type": "markdown",
   "metadata": {},
   "source": [
    "La función `dict` permite también crear diccionarios vacíos, o con contenido. Particularmente, permite recibir argumentos por palabra clave de tal forma que el nuevo diccionario creado tenga pares llave-valor iguales a la palabra clave y argumento entregado, respectivamente."
   ]
  },
  {
   "cell_type": "code",
   "execution_count": null,
   "metadata": {},
   "outputs": [],
   "source": [
    "diccionario = dict(uno=1)\n",
    "print(diccionario)"
   ]
  },
  {
   "cell_type": "markdown",
   "metadata": {},
   "source": [
    "Con esto en mente, completa el siguiente espacio de tal forma que `diccionario_2` sea una copia de `diccionario_1`, pero no el mismo objeto. La solución cabe en una línea y no consiste en replicar la definición de `diccionario_1`."
   ]
  },
  {
   "cell_type": "code",
   "execution_count": null,
   "metadata": {},
   "outputs": [],
   "source": [
    "diccionario_1 = {str(i): 0 for i in range(100)}\n",
    "\n",
    "diccionario_2 =  # Completar\n",
    "\n",
    "print(f'¿Es el mismo objeto?: {diccionario_1 is diccionario_2}')"
   ]
  }
 ],
 "metadata": {
  "kernelspec": {
   "display_name": "Python 3 (ipykernel)",
   "language": "python",
   "name": "python3"
  },
  "language_info": {
   "codemirror_mode": {
    "name": "ipython",
    "version": 3
   },
   "file_extension": ".py",
   "mimetype": "text/x-python",
   "name": "python",
   "nbconvert_exporter": "python",
   "pygments_lexer": "ipython3",
   "version": "3.10.12"
  }
 },
 "nbformat": 4,
 "nbformat_minor": 4
}
