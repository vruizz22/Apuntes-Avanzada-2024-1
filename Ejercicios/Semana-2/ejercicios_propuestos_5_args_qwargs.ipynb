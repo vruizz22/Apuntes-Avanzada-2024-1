{
 "cells": [
  {
   "cell_type": "markdown",
   "metadata": {},
   "source": [
    "<p>\n",
    "<font size='5' face='Georgia, Arial'>IIC-2233 Apunte Programación Avanzada</font><br>\n",
    "<font size='1'> Ejercicios creados a partir de 2019-2 por Equipo Docente IIC2233. </font>\n",
    "<font size='1'> Actualizados el 2024-1.</font>\n",
    "</p>\n",
    "\n",
    "\n",
    "# Ejercicios propuestos: built-ins\n",
    "## *args y **kwargs"
   ]
  },
  {
   "cell_type": "markdown",
   "metadata": {},
   "source": [
    "Los siguientes problemas se proveen como oportunidad de ejercitar los conceptos revisados en el material de **estructuras de datos *built-ins***. Si tienes dudas sobre algún problema o alguna solución, no dudes en dejar una *issue* en el [foro del curso](https://github.com/IIC2233/syllabus/issues)."
   ]
  },
  {
   "cell_type": "markdown",
   "metadata": {},
   "source": [
    "### Ejercicio 1: Múltiples argumentos de `print`"
   ]
  },
  {
   "cell_type": "markdown",
   "metadata": {},
   "source": [
    "`print` puede recibir una cantidad arbitraría de argumentos posicionales e imprimirlos todos con cierto por separador *string* entre ellos. Por defecto, ese separador es el espacio `' '`, pero también recibe un parámetro opcional (`sep`) que permite alterar dicho separador. A su vez, recibe un parámetro opcional (`end`) que permite alterar con qué termina lo impreso, cuyo default es `'\\n'` (salto de línea).\n",
    "\n",
    "El siguiente código genera una lista de listas con strings numéricos de dos dígitos. Luego se imprime fila por fila, lo cual resulta en la impresión literal de cada sub-lista contenidas en `numeros`."
   ]
  },
  {
   "cell_type": "code",
   "execution_count": 2,
   "metadata": {},
   "outputs": [
    {
     "name": "stdout",
     "output_type": "stream",
     "text": [
      "['00', '01', '02', '03', '04', '05', '06', '07', '08', '09']\n",
      "['10', '11', '12', '13', '14', '15', '16', '17', '18', '19']\n",
      "['20', '21', '22', '23', '24', '25', '26', '27', '28', '29']\n",
      "['30', '31', '32', '33', '34', '35', '36', '37', '38', '39']\n",
      "['40', '41', '42', '43', '44', '45', '46', '47', '48', '49']\n",
      "['50', '51', '52', '53', '54', '55', '56', '57', '58', '59']\n",
      "['60', '61', '62', '63', '64', '65', '66', '67', '68', '69']\n",
      "['70', '71', '72', '73', '74', '75', '76', '77', '78', '79']\n",
      "['80', '81', '82', '83', '84', '85', '86', '87', '88', '89']\n",
      "['90', '91', '92', '93', '94', '95', '96', '97', '98', '99']\n"
     ]
    }
   ],
   "source": [
    "numeros = [[str((fila * 10 + columna)).zfill(2) for columna in range(10)] for fila in range(10)]\n",
    "\n",
    "for fila in numeros:\n",
    "    print(fila)"
   ]
  },
  {
   "cell_type": "markdown",
   "metadata": {},
   "source": [
    "Completa las siguientes secciones haciendo uso de los argumentos de `print` para imprimir los números en ciertos formatos. Primero:\n",
    "\n",
    "```\n",
    "00 01 02 03 04 05 06 07 08 09\n",
    "10 11 12 13 14 15 16 17 18 19\n",
    "20 21 22 23 24 25 26 27 28 29\n",
    "30 31 32 33 34 35 36 37 38 39\n",
    "40 41 42 43 44 45 46 47 48 49\n",
    "50 51 52 53 54 55 56 57 58 59\n",
    "60 61 62 63 64 65 66 67 68 69\n",
    "70 71 72 73 74 75 76 77 78 79\n",
    "80 81 82 83 84 85 86 87 88 89\n",
    "90 91 92 93 94 95 96 97 98 99\n",
    "```"
   ]
  },
  {
   "cell_type": "code",
   "execution_count": 29,
   "metadata": {},
   "outputs": [
    {
     "name": "stdout",
     "output_type": "stream",
     "text": [
      "00 01 02 03 04 05 06 07 08 09\n",
      "10 11 12 13 14 15 16 17 18 19\n",
      "20 21 22 23 24 25 26 27 28 29\n",
      "30 31 32 33 34 35 36 37 38 39\n",
      "40 41 42 43 44 45 46 47 48 49\n",
      "50 51 52 53 54 55 56 57 58 59\n",
      "60 61 62 63 64 65 66 67 68 69\n",
      "70 71 72 73 74 75 76 77 78 79\n",
      "80 81 82 83 84 85 86 87 88 89\n",
      "90 91 92 93 94 95 96 97 98 99\n"
     ]
    }
   ],
   "source": [
    "for fila in numeros:\n",
    "    print(*fila)"
   ]
  },
  {
   "cell_type": "markdown",
   "metadata": {},
   "source": [
    "Luego:\n",
    "```\n",
    "00-01-02-03-04-05-06-07-08-09\n",
    "10-11-12-13-14-15-16-17-18-19\n",
    "20-21-22-23-24-25-26-27-28-29\n",
    "30-31-32-33-34-35-36-37-38-39\n",
    "40-41-42-43-44-45-46-47-48-49\n",
    "50-51-52-53-54-55-56-57-58-59\n",
    "60-61-62-63-64-65-66-67-68-69\n",
    "70-71-72-73-74-75-76-77-78-79\n",
    "80-81-82-83-84-85-86-87-88-89\n",
    "90-91-92-93-94-95-96-97-98-99\n",
    "```"
   ]
  },
  {
   "cell_type": "code",
   "execution_count": 30,
   "metadata": {},
   "outputs": [
    {
     "name": "stdout",
     "output_type": "stream",
     "text": [
      "00-01-02-03-04-05-06-07-08-09\n",
      "10-11-12-13-14-15-16-17-18-19\n",
      "20-21-22-23-24-25-26-27-28-29\n",
      "30-31-32-33-34-35-36-37-38-39\n",
      "40-41-42-43-44-45-46-47-48-49\n",
      "50-51-52-53-54-55-56-57-58-59\n",
      "60-61-62-63-64-65-66-67-68-69\n",
      "70-71-72-73-74-75-76-77-78-79\n",
      "80-81-82-83-84-85-86-87-88-89\n",
      "90-91-92-93-94-95-96-97-98-99\n"
     ]
    }
   ],
   "source": [
    "for fila in numeros:\n",
    "    print(*fila, sep= \"-\")"
   ]
  },
  {
   "cell_type": "markdown",
   "metadata": {},
   "source": [
    "Y finalmente:\n",
    "```\n",
    "00>01>02>03>04>05>06>07>08>09>10>11>12>13>14>15>16>17>18>19>20>21>22>23>24>25>26>27>28>29>30>31>32>33>34>35>36>37>38>39>40>41>42>43>44>45>46>47>48>49>50>51>52>53>54>55>56>57>58>59>60>61>62>63>64>65>66>67>68>69>70>71>72>73>74>75>76>77>78>79>80>81>82>83>84>85>86>87>88>89>90>91>92>93>94>95>96>97>98>99>\n",
    "```"
   ]
  },
  {
   "cell_type": "code",
   "execution_count": 34,
   "metadata": {},
   "outputs": [
    {
     "name": "stdout",
     "output_type": "stream",
     "text": [
      "00>01>02>03>04>05>06>07>08>09>10>11>12>13>14>15>16>17>18>19>20>21>22>23>24>25>26>27>28>29>30>31>32>33>34>35>36>37>38>39>40>41>42>43>44>45>46>47>48>49>50>51>52>53>54>55>56>57>58>59>60>61>62>63>64>65>66>67>68>69>70>71>72>73>74>75>76>77>78>79>80>81>82>83>84>85>86>87>88>89>90>91>92>93>94>95>96>97>98>99>"
     ]
    }
   ],
   "source": [
    "for fila in numeros:\n",
    "    print(*fila, sep=\">\", end=\">\")"
   ]
  },
  {
   "cell_type": "markdown",
   "metadata": {},
   "source": [
    "### Ejercicio 2: Clonando diccionarios"
   ]
  },
  {
   "cell_type": "markdown",
   "metadata": {},
   "source": [
    "La función `dict` permite también crear diccionarios vacíos, o con contenido. Particularmente, permite recibir argumentos por palabra clave de tal forma que el nuevo diccionario creado tenga pares llave-valor iguales a la palabra clave y argumento entregado, respectivamente."
   ]
  },
  {
   "cell_type": "code",
   "execution_count": 35,
   "metadata": {},
   "outputs": [
    {
     "name": "stdout",
     "output_type": "stream",
     "text": [
      "{'uno': 1}\n"
     ]
    }
   ],
   "source": [
    "diccionario = dict(uno=1)\n",
    "print(diccionario)"
   ]
  },
  {
   "cell_type": "markdown",
   "metadata": {},
   "source": [
    "Con esto en mente, completa el siguiente espacio de tal forma que `diccionario_2` sea una copia de `diccionario_1`, pero no el mismo objeto. La solución cabe en una línea y no consiste en replicar la definición de `diccionario_1`."
   ]
  },
  {
   "cell_type": "code",
   "execution_count": 43,
   "metadata": {},
   "outputs": [
    {
     "name": "stdout",
     "output_type": "stream",
     "text": [
      "{'0': 0, '1': 0, '2': 0, '3': 0, '4': 0, '5': 0, '6': 0, '7': 0, '8': 0, '9': 0, '10': 0, '11': 0, '12': 0, '13': 0, '14': 0, '15': 0, '16': 0, '17': 0, '18': 0, '19': 0, '20': 0, '21': 0, '22': 0, '23': 0, '24': 0, '25': 0, '26': 0, '27': 0, '28': 0, '29': 0, '30': 0, '31': 0, '32': 0, '33': 0, '34': 0, '35': 0, '36': 0, '37': 0, '38': 0, '39': 0, '40': 0, '41': 0, '42': 0, '43': 0, '44': 0, '45': 0, '46': 0, '47': 0, '48': 0, '49': 0, '50': 0, '51': 0, '52': 0, '53': 0, '54': 0, '55': 0, '56': 0, '57': 0, '58': 0, '59': 0, '60': 0, '61': 0, '62': 0, '63': 0, '64': 0, '65': 0, '66': 0, '67': 0, '68': 0, '69': 0, '70': 0, '71': 0, '72': 0, '73': 0, '74': 0, '75': 0, '76': 0, '77': 0, '78': 0, '79': 0, '80': 0, '81': 0, '82': 0, '83': 0, '84': 0, '85': 0, '86': 0, '87': 0, '88': 0, '89': 0, '90': 0, '91': 0, '92': 0, '93': 0, '94': 0, '95': 0, '96': 0, '97': 0, '98': 0, '99': 0}\n",
      "¿Es el mismo objeto?: False\n"
     ]
    }
   ],
   "source": [
    "diccionario_1 = {str(i): 0 for i in range(100)}\n",
    "\n",
    "diccionario_2 =  dict(**diccionario_1)\n",
    "print(diccionario_2)\n",
    "\n",
    "print(f'¿Es el mismo objeto?: {diccionario_1 is diccionario_2}')"
   ]
  }
 ],
 "metadata": {
  "kernelspec": {
   "display_name": "Python 3 (ipykernel)",
   "language": "python",
   "name": "python3"
  },
  "language_info": {
   "codemirror_mode": {
    "name": "ipython",
    "version": 3
   },
   "file_extension": ".py",
   "mimetype": "text/x-python",
   "name": "python",
   "nbconvert_exporter": "python",
   "pygments_lexer": "ipython3",
   "version": "3.11.7"
  }
 },
 "nbformat": 4,
 "nbformat_minor": 4
}
