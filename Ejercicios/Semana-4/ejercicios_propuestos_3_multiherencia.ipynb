{
 "cells": [
  {
   "cell_type": "markdown",
   "metadata": {},
   "source": [
    "<p>\n",
    "<font size='5' face='Georgia, Arial'>IIC-2233 Apunte Programación Avanzada</font><br>\n",
    "<font size='1'> Ejercicios creados a partir de 2019-2 por Equipo Docente IIC2233. </font>\n",
    "<font size='1'> Actualizados el 2024-1.</font>\n",
    "</p>\n",
    "\n",
    "\n",
    "# Ejercicios propuestos: Programación Orientada a Objetos II\n",
    "## Multiherencia"
   ]
  },
  {
   "cell_type": "markdown",
   "metadata": {},
   "source": [
    "Los siguientes problemas se proveen como oportunidad de ejercitar los conceptos revisados en el material de **Programación Orientada a Objetos II**. Si tienes dudas sobre algún problema o alguna solución, no dudes en dejar una *issue* en el [foro del curso](https://github.com/IIC2233/syllabus/issues)."
   ]
  },
  {
   "cell_type": "markdown",
   "metadata": {},
   "source": [
    "### Ejercicio 1: `Hijos de Burro`"
   ]
  },
  {
   "cell_type": "markdown",
   "metadata": {},
   "source": [
    "\n",
    "![](img/burritos.jpg)\n"
   ]
  },
  {
   "cell_type": "markdown",
   "metadata": {},
   "source": [
    "Al igual que todo el mundo, eres un fanático de **Shrek**, y siempre te ha llamado la atención los hijos de Burro y la Dragona. Estás muy contento porque en **Programación Avanzada** te enseñaron multiherencia y al fin podrás modelar estas particulares criaturas.\n",
    "\n",
    "Tienes la clase `Burro` y la clase `Dragona`, solo debes completar el código de la clase `HijoBurro`, ¡y habrás cumplido tu misión!\n"
   ]
  },
  {
   "cell_type": "code",
   "execution_count": null,
   "metadata": {},
   "outputs": [],
   "source": [
    "class Burro:\n",
    "    \"\"\"Clase de Burro\"\"\"\n",
    "\n",
    "    def __init__(self, **kwargs):\n",
    "        super().__init__(**kwargs)\n",
    "        self.cancion = \"Estoy solito, no hay nadie aqui a mi lado (8)\"\n",
    "\n",
    "    def cantar(self):\n",
    "        print(self.cancion)\n",
    "\n",
    "\n",
    "class  Dragona:\n",
    "    \"\"\"Clase de Dragona\"\"\"\n",
    "\n",
    "    def __init__(self, **kwargs):\n",
    "        super().__init__(**kwargs)\n",
    "        self.fuego = \"Estoy escupiendo fuego\"\n",
    "\n",
    "    def escupir_fuego(self):\n",
    "        print(self.fuego)\n",
    "\n",
    "\n",
    "class HijoBurro:\n",
    "    pass"
   ]
  },
  {
   "cell_type": "markdown",
   "metadata": {},
   "source": [
    "Si lo hiciste correctamente el siguiente código no debería tirar error."
   ]
  },
  {
   "cell_type": "code",
   "execution_count": null,
   "metadata": {},
   "outputs": [],
   "source": [
    "hijo_burro = HijoBurro()\n",
    "print(\"Hola, soy hijo de Burro y la dragona y puedo cantar como mi padre...\")\n",
    "hijo_burro.cantar()\n",
    "print(\"Y escupir fuego como mi madre...\")\n",
    "hijo_burro.escupir_fuego()"
   ]
  },
  {
   "cell_type": "markdown",
   "metadata": {},
   "source": [
    "### Ejercicio 2: Bonito Diamante"
   ]
  },
  {
   "cell_type": "markdown",
   "metadata": {},
   "source": [
    "El DCC estuvo tratando de modelar el funcionamiento del cuerpo de ayudantes, sin embargo tuvieron complicaciones con la creación de clases y nadie ha podido resolver el modelo. Debes usar el siguiente método y el siguiente atributo. Ten en cuenta que si ejecutas el código en la celda arrojará un error, pues estos métodos están pensados para que los **copies y pegues** dentro de una clase:"
   ]
  },
  {
   "cell_type": "code",
   "execution_count": null,
   "metadata": {},
   "outputs": [],
   "source": [
    "# Método a copiar\n",
    "def asistir_a_catedra(self):  \n",
    "    print('¡¡Voy a la cátedra!!')\n",
    "\n",
    "# Atributo a copiar\n",
    "self.mensaje_de_apoyo = mensaje"
   ]
  },
  {
   "cell_type": "markdown",
   "metadata": {},
   "source": [
    "**Atención**: Tienes ciertas restricciones.\n",
    "- Solo puedes copiar y pegar el atributo y el método, **no puedes agregar nada más**\n",
    "- Solo puedes copiar **una vez** el atributo y el método, por lo que debes escoger bien en qué clase quedará.\n",
    "\n",
    "\n",
    "Es por esto que debes escoger bien en qué clases implementarás el método y el atributo. Si tu elección es la correcta, el código del final debe ejecutarse sin problemas."
   ]
  },
  {
   "cell_type": "code",
   "execution_count": null,
   "metadata": {},
   "outputs": [],
   "source": [
    "class FullDocencia:\n",
    "\n",
    "    def __init__(self, nombre, mensaje):\n",
    "        self.nombre = nombre\n",
    "\n",
    "    def mostrar_apoyo(self):\n",
    "        print(f'Vamos, tú puedes, {self.mensaje_de_apoyo}')\n",
    "\n",
    "\n",
    "class FullTarea:  # La condicion es que FullTarea nunca ejecutará su método\n",
    "\n",
    "    def __init__(self, nombre, mensaje):\n",
    "        self.nombre = nombre\n",
    "\n",
    "    def ayudar_en_catedra(self):\n",
    "        # ¿Y de donde sacará este atributo?\n",
    "        print(f'{self.mensaje_de_apoyo}!!')\n",
    "\n",
    "\n",
    "class HibridoTarea(FullTarea, FullDocencia):\n",
    "\n",
    "    def __init__(self, nombre, mensaje):\n",
    "        FullTarea.__init__(self, nombre, mensaje)\n",
    "        FullDocencia.__init__(self,nombre, mensaje)\n",
    "\n",
    "\n",
    "class HibridoDocencia(FullDocencia, FullTarea):\n",
    "\n",
    "    def __init__(self, nombre, mensaje):\n",
    "        FullDocencia.__init__(self,nombre, mensaje)\n",
    "        FullTarea.__init__(self, nombre, mensaje)\n",
    "\n",
    "if __name__ == \"__main__\":\n",
    "    # ¿Puedes identificar a estos ayudantes?\n",
    "    ay_1 = HibridoTarea('Antonio Aguilar', 'Ánimo que se puede')\n",
    "    ay_2 = HibridoDocencia('Jorge Negrete', 'Da lo mejor de ti') \n",
    "    ay_3 = FullTarea('Miguel Aceves Mejía', '¡¡Siempre hay una segunda oportunidad!!')  \n",
    "    ay_4 = FullDocencia('Pedro Infante', 'Un tropezon no es caida') # Parcial\n",
    "\n",
    "    ay_2.asistir_a_catedra()\n",
    "    ay_1.asistir_a_catedra()\n",
    "\n",
    "    ay_2.mostrar_apoyo()\n",
    "    ay_1.mostrar_apoyo()\n",
    "    ay_4.mostrar_apoyo()"
   ]
  },
  {
   "cell_type": "markdown",
   "metadata": {},
   "source": [
    "Si lograste hacer funcionar el código, podrás haber notado que éste presenta una restricción en particular para que funcione. \n",
    "\n",
    "¿Es correcta esta forma de modelar? ¿Es válida esa restricción al modelo? ¿Se puede hacer de manera distinta?"
   ]
  }
 ],
 "metadata": {
  "kernelspec": {
   "display_name": "Python 3 (ipykernel)",
   "language": "python",
   "name": "python3"
  },
  "language_info": {
   "codemirror_mode": {
    "name": "ipython",
    "version": 3
   },
   "file_extension": ".py",
   "mimetype": "text/x-python",
   "name": "python",
   "nbconvert_exporter": "python",
   "pygments_lexer": "ipython3",
   "version": "3.10.10"
  }
 },
 "nbformat": 4,
 "nbformat_minor": 4
}
