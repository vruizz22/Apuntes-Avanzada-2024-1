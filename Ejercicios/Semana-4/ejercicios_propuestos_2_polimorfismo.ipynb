{
 "cells": [
  {
   "cell_type": "markdown",
   "metadata": {},
   "source": [
    "<p>\n",
    "<font size='5' face='Georgia, Arial'>IIC-2233 Apunte Programación Avanzada</font><br>\n",
    "<font size='1'> Ejercicios creados a partir de 2019-2 por Equipo Docente IIC2233. </font>\n",
    "<font size='1'> Actualizados el 2024-1.</font>\n",
    "</p>\n",
    "\n",
    "\n",
    "# Ejercicios propuestos: Programación Orientada a Objetos II\n",
    "## Polimorfismo"
   ]
  },
  {
   "cell_type": "markdown",
   "metadata": {},
   "source": [
    "Los siguientes problemas se proveen como oportunidad de ejercitar los conceptos revisados en el material de **Programación Orientada a Objetos II**. Si tienes dudas sobre algún problema o alguna solución, no dudes en dejar una *issue* en el [foro del curso](https://github.com/IIC2233/syllabus/issues)."
   ]
  },
  {
   "cell_type": "markdown",
   "metadata": {},
   "source": [
    "### Ejercicio 1: _prints_ extraños"
   ]
  },
  {
   "cell_type": "markdown",
   "metadata": {},
   "source": [
    "A continuación se te entrega código que crea una clase genérica `Vehiculo`. Esta tiene re-escrita las firmas de los métodos `__str__` y `__repr__`, pero que realmente solo llama a la implementación predeterminada. Luego, se crean dos objetos y se imprimen. Verás que algo extraño aparece en pantalla al ejecutar esta forma.\n",
    "\n",
    "Dado lo anterior, se te solicita que modifiques la clase ```Vehiculo``` para que sea capaz de mostrar toda la información relacionada a ella, es decir, su ```modelo```, ```marca```y ```patente```al momento de imprimir una instancia de esta clase."
   ]
  },
  {
   "cell_type": "code",
   "execution_count": 8,
   "metadata": {},
   "outputs": [
    {
     "name": "stdout",
     "output_type": "stream",
     "text": [
      "SuperCaro, DCC, IIC2233-1\n",
      "camion, DCC, IIC2233-1\n",
      "[Vehiculo(SuperCaro, DCC, IIC2233-1), Vehiculo(camion, DCC, IIC2233-1)]\n"
     ]
    }
   ],
   "source": [
    "class Vehiculo:\n",
    "    def __init__(self, modelo, marca, patente):\n",
    "        self.modelo = modelo\n",
    "        self.marca = marca\n",
    "        self.patente = patente\n",
    "    \n",
    "    def __str__(self):\n",
    "        return f\"{self.modelo}, {self.marca}, {self.patente}\"\n",
    "    \n",
    "    def __repr__(self):\n",
    "        return f\"Vehiculo({self.modelo}, {self.marca}, {self.patente})\"\n",
    "\n",
    "    \n",
    "if __name__ == \"__main__\":\n",
    "    auto = Vehiculo('SuperCaro', 'DCC', 'IIC2233-1')\n",
    "    camion =  Vehiculo('camion', 'DCC', 'IIC2233-1')\n",
    "    # Con estos prints se nota la diferencia entre repr y str\n",
    "    print(auto)\n",
    "    print(camion)\n",
    "    print([auto, camion])"
   ]
  },
  {
   "cell_type": "markdown",
   "metadata": {},
   "source": [
    "### Ejercicio 2: Progragotchis"
   ]
  },
  {
   "cell_type": "markdown",
   "metadata": {},
   "source": [
    "Buscando entre los diversos objetos que tenías guardados en una caja antigua, encontraste varios _progragotchis_ de distintas generaciones. Sientes mucha emoción por volver a verlos, decidiste volver a intentar criarlos. Luego de un rato, notaste que sus vidas duraron tiempos distintos, aún cuando les diste el mismo trato a todos. Como no podías quedarte de brazos cruzados con tu nuevo descubrimiento, decidiste ordenar a tus _progragotchis_ según su esperanza de vida.\n",
    "\n",
    "Deberás completar los métodos ```obtener_vida``` de cada generación distinta de *progragotchi*, y luego sobreescribir el método ```__gt__``` de cada clase, de modo que al usar ```sort``` la lista de *progragotchis* quede ordenada de mayor a menor vida."
   ]
  },
  {
   "cell_type": "markdown",
   "metadata": {},
   "source": [
    "### (Abre paréntesis...\n",
    "\n",
    "El método ```__gt__``` es el que se llama sobre un método cuando se compara con otro mediante `>`. Por ejemplo, se obtienen los mismos resultados comparando *strings*:"
   ]
  },
  {
   "cell_type": "code",
   "execution_count": null,
   "metadata": {},
   "outputs": [],
   "source": [
    "print(\"a\" > \"b\")\n",
    "print(\"a\".__gt__(\"b\"))\n",
    "print(\"b\" > \"a\")\n",
    "print(\"b\".__gt__(\"a\"))\n",
    "print(\"a\" > \"a\")\n",
    "print(\"a\".__gt__(\"a\"))"
   ]
  },
  {
   "cell_type": "markdown",
   "metadata": {},
   "source": [
    "### ...cierra paréntesis)"
   ]
  },
  {
   "cell_type": "markdown",
   "metadata": {},
   "source": [
    "Todos los _progragotchis_ poseen ```nombre```, ```edad```,```peso``` y ```hambre```. Entre cada _progragotchi_ los atributos varían y existen tres generaciones de _progragotchis_ distintas:\n",
    "- ```Puroguragotchi``` : Su vida se obtiene con la fórmula: ```100 - peso * hambre```.  \n",
    "- ```Tamaprogra```: Si su edad es menos de 50, se obtiene con ```100 - edad * hambre```. Si es mayor o igual a 50, se obtiene con ```100 - 2 * edad / peso```.\n",
    "- ```DCGotchi```: Su vida se obtiene con la fórmula ```10 * peso - 4 * edad * hambre```.\n",
    "\n",
    "Debes cuidar que la vida de los _progragotchis_ no sea menor a 0.\n",
    "\n",
    "Puedes usar la siguiente base para modelar la situación:"
   ]
  },
  {
   "cell_type": "code",
   "execution_count": 2,
   "metadata": {},
   "outputs": [],
   "source": [
    "class Progragotchi:\n",
    "    def __init__(self, nombre, edad, peso, hambre):\n",
    "        self.nombre = nombre\n",
    "        self.edad = edad\n",
    "        self.peso = peso\n",
    "        self.hambre = hambre\n",
    "    \n",
    "class Puroguragotchi(Progragotchi):\n",
    "    def __init__(self, nombre, edad, peso, hambre):\n",
    "        super().__init__(nombre, edad, peso, hambre)\n",
    "    \n",
    "    def obtener_vida(self):\n",
    "        # Completar\n",
    "        pass\n",
    "    \n",
    "    def __gt__(self, otro):\n",
    "        # Completar\n",
    "        pass\n",
    "\n",
    "class Tamaprogra(Progragotchi):\n",
    "    def __init__(self, nombre, edad, peso, hambre):\n",
    "        super().__init__(nombre, edad, peso, hambre)\n",
    "    \n",
    "    def obtener_vida(self):\n",
    "        # Completar\n",
    "        pass\n",
    "    \n",
    "    def __gt__(self, otro):\n",
    "        # Completar\n",
    "        pass\n",
    "    \n",
    "class DCGotchi(Progragotchi):\n",
    "    def __init__(self, nombre, edad, peso, hambre):\n",
    "        super().__init__(nombre, edad, peso, hambre)\n",
    "    \n",
    "    def obtener_vida(self):\n",
    "        # Completar\n",
    "        pass\n",
    "    \n",
    "    def __gt__(self, otro):\n",
    "        # Completar\n",
    "        pass"
   ]
  },
  {
   "cell_type": "markdown",
   "metadata": {},
   "source": [
    "Con el siguiente código puedes poblar y poner a prueba tu modelación:"
   ]
  },
  {
   "cell_type": "code",
   "execution_count": null,
   "metadata": {},
   "outputs": [],
   "source": [
    "from os import path\n",
    "\n",
    "progragotchis = []\n",
    "with open(path.join(\"data\", \"progragotchis.csv\")) as archivo:\n",
    "    archivo.readline()\n",
    "    for linea in archivo:\n",
    "        nombre, edad, peso, hambre, gen = linea.strip().split(\",\")\n",
    "        if gen == \"1\":\n",
    "            progragotchis.append(Puroguragotchi(nombre, int(edad), int(peso), int(hambre)))\n",
    "        elif gen == \"2\":\n",
    "            progragotchis.append(Tamaprogra(nombre, int(edad), int(peso), int(hambre)))\n",
    "        else:\n",
    "            progragotchis.append(DCGotchi(nombre, int(edad), int(peso), int(hambre)))\n",
    "progragotchis.sort()\n",
    "print(\"Los 10 progragotchis con más vida son:\")\n",
    "for i in range(10):\n",
    "    print(f\"{progragotchis[i].nombre}, con {int(progragotchis[i].obtener_vida())} de vida \")"
   ]
  },
  {
   "cell_type": "markdown",
   "metadata": {},
   "source": [
    "### Ejercicio 3: Clases de cultivos"
   ]
  },
  {
   "cell_type": "markdown",
   "metadata": {},
   "source": [
    "Para este problema tu misión es ayudar a Jorge. Él es un joven agricultor interesado en la computación, que ha decidido aplicar sus renovados estudios en saber cuanto gana de utilidad con sus cultivos. Jorge arrienda 2 campos que desea utilizar  para diferentes cultivos. El primero es de papas y el segundo de arándanos. La utilidad depende de cada tipo de cultivo y según características propias del campo. Para ayudar a Jorge, completarás el código a continuación, en donde se busca calcular la utilidad de cada campo, según las especificaciones que se te darán a continuación.\n",
    "  \n",
    "\n",
    "En primer lugar, en el caso del campo donde se cultivan papas, su beneficio está dado por la fórmula: \n",
    "- ``10 * hectareas`` . Sólo debes modificar el método ``calcular_beneficio`` de la clase ``CampoPapas``.\n",
    "\n",
    "y su costo es de: \n",
    "- ``5 * hectareas + costos_variables ** 2 + maquinaria * 10 + arriendo`` , por lo que sólo debes modificar el método ``calcular_costo`` de la clase ``CampoPapas``\n",
    "\n",
    "\n",
    "En segundo lugar, en el caso del campo donde se cultivan arándanos, su beneficio está dado por la fórmula: \n",
    "- ``8 * hectareas + 2000`` . Sólo debes modificar el método ``calcular_beneficio`` de la clase ``CampoArandanos``.\n",
    "\n",
    "y su costo es de: \n",
    "- ``2 * hectareas + 7 * costos_variables + sueldos_temporeros + arriendo``, por lo que sólo debes modificar el método ``calcular_beneficio`` de la clase ``CampoArandanos``\n",
    "\n",
    "\n",
    "En tercer lugar, modifica el método ``calcular_utilidad`` de la clase ``Campo`` para que retorne las utilidades. Las utilidades en ambos tipos de cultivo están dadas por la simple formula: \n",
    "- ``utilidades = beneficios - costos.``\n",
    "\n",
    "\n",
    "Por último, debemos ayudar a Jorge a calcular el total de las utilidades que entrega todo su negocio de agricultura.  Para esto modificaremos el método ``__add__`` en la clase ``Campo``, con el objetivo que al sumar ambos campos, se nos entregue la suma de las utilidades."
   ]
  },
  {
   "cell_type": "code",
   "execution_count": 3,
   "metadata": {},
   "outputs": [
    {
     "name": "stdout",
     "output_type": "stream",
     "text": [
      "la utilidad del campo de papas es 0 \n",
      "la utilidad del campo de arandanos es 0\n",
      "la utilidad total es de None\n"
     ]
    }
   ],
   "source": [
    "class Campo:\n",
    "    def __init__(self, arriendo, costos_variables, hectarias):\n",
    "        self.arriendo = arriendo\n",
    "        self.costos_variables = costos_variables\n",
    "        self.hectarias = hectarias\n",
    "        self.utilidad = 0\n",
    "        self.costo = 0\n",
    "        self.beneficio = 0\n",
    "\n",
    "    def calcular_beneficio(self):\n",
    "        pass\n",
    "\n",
    "    def calcular_costo(self):\n",
    "        pass\n",
    "\n",
    "    def calcular_utilidad(self):\n",
    "        # Completar\n",
    "        return self.utilidad\n",
    "\n",
    "    def __add__(self, campo):\n",
    "        # Completar\n",
    "        pass\n",
    "\n",
    "\n",
    "class CampoPapas(Campo):\n",
    "    def __init__(self, maquinaria,  arriendo, costos_variables, hectarias):\n",
    "        super().__init__(arriendo, costos_variables, hectarias)\n",
    "        self.maquinaria = maquinaria\n",
    "\n",
    "    def calcular_beneficio(self):\n",
    "        # Completar\n",
    "        return self.beneficio\n",
    "\n",
    "    def calcular_costo(self):\n",
    "        # Completar\n",
    "        return self.costo\n",
    "\n",
    "\n",
    "class CampoArandanos(Campo):\n",
    "    def __init__(self, sueldos_temporeros,  arriendo, costos_variables, hectarias):\n",
    "        super().__init__(arriendo, costos_variables, hectarias)\n",
    "        self.sueldos_temporeros = sueldos_temporeros\n",
    "\n",
    "    def calcular_beneficio(self):\n",
    "        # Completar\n",
    "        return self.beneficio\n",
    "\n",
    "    def calcular_costo(self):\n",
    "        # Completar\n",
    "        return self.costo\n",
    "\n",
    "\n",
    "if __name__ == \"__main__\":\n",
    "    campo_papas = CampoPapas(1220, 600, 15, 5500)\n",
    "    campo_arandanos = CampoArandanos(1200, 600, 200, 4000)\n",
    "    utilidad_campo1 = campo_papas.calcular_utilidad()\n",
    "    utilidad_campo2 = campo_arandanos.calcular_utilidad()\n",
    "    print(f'la utilidad del campo de papas es {utilidad_campo1} ')\n",
    "    print(f'la utilidad del campo de arandanos es {utilidad_campo2}')\n",
    "    utilidad_total = campo_papas + campo_arandanos\n",
    "    print(f'la utilidad total es de {utilidad_total}')"
   ]
  }
 ],
 "metadata": {
  "kernelspec": {
   "display_name": "Python 3 (ipykernel)",
   "language": "python",
   "name": "python3"
  },
  "language_info": {
   "codemirror_mode": {
    "name": "ipython",
    "version": 3
   },
   "file_extension": ".py",
   "mimetype": "text/x-python",
   "name": "python",
   "nbconvert_exporter": "python",
   "pygments_lexer": "ipython3",
   "version": "3.11.7"
  }
 },
 "nbformat": 4,
 "nbformat_minor": 4
}
