{
 "cells": [
  {
   "cell_type": "markdown",
   "metadata": {},
   "source": [
    "<p>\n",
    "<font size='5' face='Georgia, Arial'>IIC-2233 Apunte Programación Avanzada</font><br>\n",
    "<font size='1'> Ejercicios creados a partir de 2019-2 por Equipo Docente IIC2233. </font>\n",
    "<font size='1'> Actualizados el 2024-1.</font>\n",
    "</p>\n",
    "\n",
    "\n",
    "# Ejercicios propuestos: Programación Orientada a Objetos II\n",
    "## Clase abstracta"
   ]
  },
  {
   "cell_type": "markdown",
   "metadata": {},
   "source": [
    "Los siguientes problemas se proveen como oportunidad de ejercitar los conceptos revisados en el material de **Programación Orientada a Objetos II**. Si tienes dudas sobre algún problema o alguna solución, no dudes en dejar una *issue* en el [foro del curso](https://github.com/IIC2233/syllabus/issues)."
   ]
  },
  {
   "cell_type": "markdown",
   "metadata": {},
   "source": [
    "### Ejercicio 1: `Concurso de Hamburguesas`"
   ]
  },
  {
   "cell_type": "markdown",
   "metadata": {},
   "source": [
    "Quedan pocos días para que comience el mejor concurso de hamburguesas del país, y para eso sus organizadores te han pedido a ti que registres los datos de cada hamburguesería en el concurso y hagas de este *Top Burger* su mejor versión. Para esto debes crear una clase `Hamburgueseria`, de la que hereden los dos tipos de `Hamburgueseria` que se pueden inscribir, que son `HamburgueseriaVegana` y `HamburgueseriaCarnivora`, con los siguientes métodos:\n",
    "\n",
    "1. **`promedio_evaluaciones`**: calcula el promedio de las evaluaciones hechas a las hamburguesas del local. Una `HamburgueseriaVegana` solo ofrece versión *veggie*, mientras que la `HamburgueseriaCarnivora` solo tiene opción carnívora, así que debes retornar un `float` con el promedio de las evaluaciones. Asume que los atributos `evaluaciones_veggie` y `evaluaciones_carnivora` son listas con enteros que corresponden a las evaluaciones.\n",
    "2. **`restar_stock`**: descuenta en uno la cantidad de *stock* de un tipo de hamburguesas, es decir, altera el valor del atributo  `stock`. En el caso de ambos tipos de hamburguesería no se entregará un parámetro a esta función y solo debes restarle uno al *stock* (`stock` es un `int`).\n",
    "3. **`numero_clientes`** para ambas hamburgeserías corresponde al largo de la lista de clientes y retornarlo.\n",
    "\n",
    "Cabe recordar que en este concurso no puede existir una `Hamburgueseria` por si misma, sino que solo puede ser una `HamburgueseriaVegana` o una `HamburgueseriaCarnivora`.\n",
    "\n",
    "Puedes usar el siguiente código de base para la creación de las clases. Recuerda utilizar las declaraciones del módulo `abc` marcar la clase abstracta y métodos abstractos."
   ]
  },
  {
   "cell_type": "code",
   "execution_count": null,
   "metadata": {},
   "outputs": [],
   "source": [
    "from abc import ABC, abstractmethod\n",
    "\n",
    "\n",
    "class Hamburgueseria:\n",
    "\n",
    "    def __init__ (self, clientes, stock):\n",
    "        self.stock = stock\n",
    "        self.clientes = clientes\n",
    "\n",
    "    def promedio_evaluaciones(self):\n",
    "        pass\n",
    "\n",
    "    def restar_stock(self):\n",
    "        pass\n",
    "\n",
    "    def numero_clientes(self):\n",
    "        pass\n",
    "\n",
    "\n",
    "class HamburgueseriaVegana:\n",
    "    # recuerda que deben heredar\n",
    "\n",
    "    def __init__(self, clientes, stock, evaluaciones_veggie):\n",
    "        super().__init__(clientes, stock)\n",
    "        self.evaluaciones_veggie = evaluaciones_veggie\n",
    "\n",
    "\n",
    "class HamburgueseriaCarnivora:\n",
    "    #recuerda que deben heredar\n",
    "\n",
    "    def __init__(self, clientes, stock, evaluaciones_carnivora):\n",
    "        super().__init__(clientes, stock)\n",
    "        self.evaluaciones_carnivora = evaluaciones_carnivora"
   ]
  },
  {
   "cell_type": "markdown",
   "metadata": {},
   "source": [
    "### Ejercicio 2: Más personajes."
   ]
  },
  {
   "cell_type": "markdown",
   "metadata": {},
   "source": [
    "Para continuar con el ejemplo del cuaderno sobre clases abstractas, extiende y crea más subclases para la clase `Personaje` definida. Recuerda que para cada una solo es necesario implementar los métodos abstractos. Crea al menos dos subclases nuevas que se comporten distinto a los ejemplos de `Jugador` y `Enemigo`. Se te adjunta el código original de `Personaje` como referencia:"
   ]
  },
  {
   "cell_type": "code",
   "execution_count": null,
   "metadata": {},
   "outputs": [],
   "source": [
    "from abc import ABC, abstractmethod\n",
    "from random import randint\n",
    "from time import sleep\n",
    "\n",
    "\n",
    "class Personaje(ABC):\n",
    "\n",
    "    def __init__(self, nombre, x, y, energia):\n",
    "        self.nombre = nombre\n",
    "        self.x = x\n",
    "        self.y = y\n",
    "        self.energia = energia\n",
    "\n",
    "    @property\n",
    "    def energia(self):\n",
    "        return self.__energia\n",
    "\n",
    "    @energia.setter\n",
    "    def energia(self, valor):\n",
    "        self.__energia = max(valor, 0)\n",
    "\n",
    "    def simular(self):\n",
    "        while self.energia > 0:\n",
    "            sleep(1)\n",
    "            self.saludar()\n",
    "            self.moverse()\n",
    "            self.gastar_energia()\n",
    "        print(\"Perdí toda mi energía :(\")\n",
    "\n",
    "    @abstractmethod\n",
    "    def moverse(self):\n",
    "        pass\n",
    "\n",
    "    @abstractmethod\n",
    "    def gastar_energia(self):\n",
    "        pass\n",
    "\n",
    "    @abstractmethod\n",
    "    def saludar(self):\n",
    "        print(f\"Soy {self.nombre}. Estoy en {(self.x, self.y)}.\")"
   ]
  }
 ],
 "metadata": {
  "kernelspec": {
   "display_name": "Python 3 (ipykernel)",
   "language": "python",
   "name": "python3"
  },
  "language_info": {
   "codemirror_mode": {
    "name": "ipython",
    "version": 3
   },
   "file_extension": ".py",
   "mimetype": "text/x-python",
   "name": "python",
   "nbconvert_exporter": "python",
   "pygments_lexer": "ipython3",
   "version": "3.10.10"
  }
 },
 "nbformat": 4,
 "nbformat_minor": 4
}
