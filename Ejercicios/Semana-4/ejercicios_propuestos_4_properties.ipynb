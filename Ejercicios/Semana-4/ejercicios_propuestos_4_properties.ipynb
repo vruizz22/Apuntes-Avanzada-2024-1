{
 "cells": [
  {
   "cell_type": "markdown",
   "metadata": {},
   "source": [
    "<p>\n",
    "<font size='5' face='Georgia, Arial'>IIC-2233 Apunte Programación Avanzada</font><br>\n",
    "<font size='1'> Ejercicios creados a partir de 2019-2 por Equipo Docente IIC2233. </font>\n",
    "<font size='1'> Actualizados el 2024-1.</font>\n",
    "</p>\n",
    "\n",
    "\n",
    "# Ejercicios propuestos: Programación Orientada a Objetos I\n",
    "## *Properties*"
   ]
  },
  {
   "cell_type": "markdown",
   "metadata": {},
   "source": [
    "Los siguientes problemas se proveen como oportunidad de ejercitar los conceptos revisados en el material de **Programación Orientada a Objetos I**. Si tienes dudas sobre algún problema o alguna solución, no dudes en dejar una *issue* en el [foro del curso](https://github.com/IIC2233/syllabus/issues)."
   ]
  },
  {
   "cell_type": "markdown",
   "metadata": {},
   "source": [
    "### Ejercicio 1: Autos deportivos"
   ]
  },
  {
   "cell_type": "markdown",
   "metadata": {},
   "source": [
    "Se te provee una clase ```Deportivo``` con los atributos ```modelo```, ```marca```, ```patente```, ```precio``` y ```fecha_de_compra```(sólo el año, por simplicidad). \n",
    "\n",
    "Las instancias de ```Deportivo```deben poder describir su ```adquisicion``` mediante un método, el cual **imprime** el siguiente _string_ `\"Auto adquirido el: 'año'\"`, dónde `'año'` es la ```fecha_de_compra``` de la instancia.\n",
    "\n",
    "Implementa también una *property* ```depreciación_acumulada``` para `Deportivo` que calcula el valor de precio que el vehículo ha perdido en el tiempo. Este valor se calcula de la siguiente forma: ```(precio / 10) * (fecha_actual - fecha_de_compra)```.\n",
    "\n",
    "Finalmente, debes rellenar el código principal de tal forma que se generen dos instancias de `Deportivo`, se impriman todos sus atributos, impriman su `depreciación_acumulada` y finalmente llamen al método `adquisicion`."
   ]
  },
  {
   "cell_type": "code",
   "execution_count": null,
   "metadata": {},
   "outputs": [],
   "source": [
    "class Deportivo:\n",
    "    \n",
    "    def __init__(self, modelo, marca, patente, precio, fecha_de_compra):\n",
    "        self.modelo = modelo\n",
    "        self.marca = marca\n",
    "        self.patente = patente\n",
    "        self.precio = precio\n",
    "        self.fecha_de_compra = fecha_de_compra\n",
    "        \n",
    "    def adquisicion(self):\n",
    "        pass\n",
    "        \n",
    "    @property\n",
    "    def depreciacion_acumulada(self):\n",
    "        pass\n",
    "\n",
    "\n",
    "if __name__ == \"__main__\":\n",
    "    barato = Deportivo('Barato', 'DCC', 'ING123', 100, 2012)\n",
    "    super_caro = Deportivo('SuperCaro', 'DCC', 'IIC2233', 10000, 2017)\n",
    "    \n",
    "    # ...\n",
    "    # Completar\n",
    "    # ..."
   ]
  },
  {
   "cell_type": "markdown",
   "metadata": {},
   "source": [
    "### Ejercicio 2: Un error misterioso"
   ]
  },
  {
   "cell_type": "markdown",
   "metadata": {},
   "source": [
    "El siguiente código fue un intento de aplicar la materia de *properties*, pero por alguna razón, no funciona y lanza un error extraño. Ejecútalo, encuentra el error, y arréglalo."
   ]
  },
  {
   "cell_type": "code",
   "execution_count": null,
   "metadata": {},
   "outputs": [],
   "source": [
    "class Misterio:\n",
    "    def __init__(self, atributo):\n",
    "        self._atributo = atributo\n",
    "    \n",
    "    @property\n",
    "    def atributo(self):\n",
    "        return self.atributo\n",
    "    \n",
    "    @atributo.setter\n",
    "    def atributo(self, valor):\n",
    "        if valor % 2 == 1: \n",
    "            self.atributo = valor + 1\n",
    "        else:\n",
    "            self.atributo = valor\n",
    "        \n",
    "if __name__ == \"__main__\":\n",
    "    misterio = Misterio(1)\n",
    "    misterio.atributo += 1"
   ]
  },
  {
   "cell_type": "markdown",
   "metadata": {},
   "source": [
    "### Ejercicio 3: DCCgram"
   ]
  },
  {
   "cell_type": "markdown",
   "metadata": {},
   "source": [
    "La red social DCCgram necesita de tu ayuda como programador para controlar la edición de la información por parte de sus usuarios. Específicamente, debes implementar una forma de que los atributos de una clase solo se modifiquen cuando cumplen ciertas reglas.\n",
    "\n",
    "Primero, debes crear la clase ```DCCgram```, la que debe tener como **atributo** una lista que contenga usuarios, que serán instancias de la clase `Usuario`. Luego, debes implementar ```Usuario```, la que debe tener la posibilidad de registrar el ```username```, ```mail```, ```edad```,  y ```rut``` como atributos.\n",
    "\n",
    "Debes implementar *properties* en `Usuario` para asegurar la posibilidad de modificar todos sus atributos fácilmente, pero teniendo en cuenta las siguientes restricciones:\n",
    "\n",
    "- ```edad``` solo puede ser mayor o igual a 18 años\n",
    "- ```rut``` debe tener un solo guión (`\"-\"`) y no tener más de 10 dígitos\n",
    "- ```mail``` debe permitir solo dominio ```\"uc.cl\"```\n",
    "\n",
    "Además, debes implementar un método de `DCCgram` que agregue nuevos usuarios a la plataforma, pero solo lo haga si cada nuevo usuario cumple con todos los requisitos y si su `username` no existe previamente.\n",
    "\n",
    "Toma el siguiente código como base para implementar lo pedido."
   ]
  },
  {
   "cell_type": "code",
   "execution_count": null,
   "metadata": {},
   "outputs": [],
   "source": [
    "class DCCgram:\n",
    "    def __init__(self):\n",
    "        self.usuarios = []\n",
    "    \n",
    "    def agregar(self, nuevo_usuario):\n",
    "        pass\n",
    "        \n",
    "class Usuario:\n",
    "    def __init__(self, username, mail, edad, rut):\n",
    "        # Así validamos de inmediato los atributos\n",
    "        self.__username = None\n",
    "        self.__mail = None\n",
    "        self.__edad = None\n",
    "        self.__rut = None\n",
    "        self.username = username\n",
    "        self.mail = mail\n",
    "        self.edad = edad\n",
    "        self.rut = rut\n",
    "    \n",
    "    @property\n",
    "    def username(self):\n",
    "        pass\n",
    "    \n",
    "    @username.setter\n",
    "    def username(self, value):\n",
    "        pass\n",
    "    \n",
    "    @property\n",
    "    def mail(self):\n",
    "        pass\n",
    "    \n",
    "    @mail.setter\n",
    "    def mail(self, value):\n",
    "        pass\n",
    "        \n",
    "    @property\n",
    "    def edad(self):\n",
    "        pass\n",
    "    \n",
    "    @edad.setter\n",
    "    def edad(self, value):\n",
    "        pass\n",
    "        \n",
    "    @property\n",
    "    def rut(self):\n",
    "        pass\n",
    "    \n",
    "    @rut.setter\n",
    "    def rut(self, value):\n",
    "        pass\n",
    "    \n",
    "    \n",
    "\n",
    "if __name__ == \"__main__\":\n",
    "    dcc_gram = DCCgram()\n",
    "    u1 = Usuario('usuario1', 'usuario1@uc.cl', 17, '00000-0')\n",
    "    u2 = Usuario('usuario2', 'usuario2@uc.cl', 19, '00000')\n",
    "    u3 = Usuario('usuario3', 'usuario1@gmail.cl', 19, '00001-0')\n",
    "    u4 = Usuario('usuario4', 'usuario4@uc.cl', 18, '00002-0')\n",
    "\n",
    "    dcc_gram.agregar(u1)\n",
    "    dcc_gram.agregar(u2)\n",
    "    dcc_gram.agregar(u3)\n",
    "    dcc_gram.agregar(u4)\n",
    "    # Si todo ha salido bien, solo user 4 debería estar en la lista\n",
    "    print(dcc_gram.usuarios)  # ¿Qué método deberias implementar para poder verlo en la lista?"
   ]
  }
 ],
 "metadata": {
  "kernelspec": {
   "display_name": "Python 3 (ipykernel)",
   "language": "python",
   "name": "python3"
  },
  "language_info": {
   "codemirror_mode": {
    "name": "ipython",
    "version": 3
   },
   "file_extension": ".py",
   "mimetype": "text/x-python",
   "name": "python",
   "nbconvert_exporter": "python",
   "pygments_lexer": "ipython3",
   "version": "3.10.10"
  }
 },
 "nbformat": 4,
 "nbformat_minor": 4
}
